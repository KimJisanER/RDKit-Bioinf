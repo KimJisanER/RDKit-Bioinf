{
  "cells": [
    {
      "cell_type": "markdown",
      "metadata": {
        "id": "view-in-github",
        "colab_type": "text"
      },
      "source": [
        "<a href=\"https://colab.research.google.com/github/KimJisanER/LAIDD/blob/main/LAIDD_Practice2_RDKit_fingerprints_practice.ipynb\" target=\"_parent\"><img src=\"https://colab.research.google.com/assets/colab-badge.svg\" alt=\"Open In Colab\"/></a>"
      ]
    },
    {
      "cell_type": "markdown",
      "source": [
        "# Fingerprint 생성 및 유사도 계산 예제\n",
        "----------"
      ],
      "metadata": {
        "id": "YBIwwpUOMk43"
      }
    },
    {
      "cell_type": "markdown",
      "source": [
        "### 우선 RDKit 설치!"
      ],
      "metadata": {
        "id": "Jlp09atTrERF"
      }
    },
    {
      "cell_type": "code",
      "source": [
        "!pip install -q condacolab\n",
        "import condacolab\n",
        "condacolab.install()\n",
        "\n",
        "import sys\n",
        "sys.path\n",
        "\n",
        "import condacolab\n",
        "condacolab.check()\n",
        "\n",
        "!mamba install -c conda-forge rdkit==2021.03.5"
      ],
      "metadata": {
        "id": "hNGg6mYorDjX"
      },
      "execution_count": null,
      "outputs": []
    },
    {
      "cell_type": "markdown",
      "source": [
        "## SMILES 파일로 부터 분자 읽어들이기\n",
        "------"
      ],
      "metadata": {
        "id": "sWLCjJU0MtoL"
      }
    },
    {
      "cell_type": "code",
      "execution_count": 2,
      "metadata": {
        "id": "3tk0objSMQxE"
      },
      "outputs": [],
      "source": [
        "import rdkit"
      ]
    },
    {
      "cell_type": "code",
      "execution_count": 3,
      "metadata": {
        "id": "__S8IXTGMQxL"
      },
      "outputs": [],
      "source": [
        "from rdkit import Chem\n",
        "from rdkit.Chem.Draw import IPythonConsole\n",
        "from rdkit.Chem.Draw.IPythonConsole import drawMol3D\n",
        "from rdkit.Chem.Draw.MolDrawing import MolDrawing, DrawingOptions"
      ]
    },
    {
      "cell_type": "code",
      "execution_count": 4,
      "metadata": {
        "id": "-VGdJnslMQxM"
      },
      "outputs": [],
      "source": [
        "molecules = []\n",
        "for smi in open(\"drugs.smi\").readlines():\n",
        "    m = Chem.MolFromSmiles(smi)\n",
        "    molecules.append(m)"
      ]
    },
    {
      "cell_type": "code",
      "execution_count": 5,
      "metadata": {
        "id": "i0kZEgjhMQxN",
        "outputId": "42501661-b93e-4fbc-cec9-a280a9643e3f",
        "colab": {
          "base_uri": "https://localhost:8080/"
        }
      },
      "outputs": [
        {
          "output_type": "execute_result",
          "data": {
            "text/plain": [
              "600"
            ]
          },
          "metadata": {},
          "execution_count": 5
        }
      ],
      "source": [
        "len(molecules)"
      ]
    },
    {
      "cell_type": "code",
      "execution_count": 6,
      "metadata": {
        "id": "LPxeZZIuMQxP"
      },
      "outputs": [],
      "source": [
        "m_target = molecules[100]"
      ]
    },
    {
      "cell_type": "code",
      "execution_count": 7,
      "metadata": {
        "id": "KpK2kw5NMQxP"
      },
      "outputs": [],
      "source": [
        "m2 = Chem.AddHs(m_target)"
      ]
    },
    {
      "cell_type": "code",
      "execution_count": 8,
      "metadata": {
        "id": "u9VUl6GDMQxQ",
        "outputId": "5fa88540-ddcb-480f-a4b4-ec01ce10092f",
        "colab": {
          "base_uri": "https://localhost:8080/",
          "height": 167
        }
      },
      "outputs": [
        {
          "output_type": "execute_result",
          "data": {
            "text/plain": [
              "<rdkit.Chem.rdchem.Mol at 0x7f3d44bbe670>"
            ],
            "image/png": "[encoded data removed]"
          },
          "metadata": {},
          "execution_count": 8
        }
      ],
      "source": [
        "m2"
      ]
    },
    {
      "cell_type": "code",
      "execution_count": 9,
      "metadata": {
        "id": "L6R6ePvNMQxR"
      },
      "outputs": [],
      "source": [
        "from rdkit.Chem import AllChem"
      ]
    },
    {
      "cell_type": "code",
      "execution_count": 10,
      "metadata": {
        "id": "E_HbSUBUMQxS",
        "outputId": "9021f3fa-9d39-4c35-b19e-4e80b4a1b76e",
        "colab": {
          "base_uri": "https://localhost:8080/"
        }
      },
      "outputs": [
        {
          "output_type": "execute_result",
          "data": {
            "text/plain": [
              "0"
            ]
          },
          "metadata": {},
          "execution_count": 10
        }
      ],
      "source": [
        "AllChem.EmbedMolecule(m2) # 리턴 값은 0이지만 m2 자체의 좌표가 변환된다. "
      ]
    },
    {
      "cell_type": "code",
      "execution_count": 11,
      "metadata": {
        "id": "H81ceKDvMQxT",
        "outputId": "8aa46163-cb56-4815-e03c-09221e7cc78a",
        "colab": {
          "base_uri": "https://localhost:8080/",
          "height": 167
        }
      },
      "outputs": [
        {
          "output_type": "execute_result",
          "data": {
            "text/plain": [
              "<rdkit.Chem.rdchem.Mol at 0x7f3d44bbe670>"
            ],
            "image/png": "[encoded data removed]"
          },
          "metadata": {},
          "execution_count": 11
        }
      ],
      "source": [
        "m2"
      ]
    },
    {
      "cell_type": "code",
      "execution_count": 12,
      "metadata": {
        "id": "kqyJRKxlMQxU"
      },
      "outputs": [],
      "source": [
        "# EmbedMolecule의 결과는 상당히 rough한 결과이다. 여러가지 가정아래에 만들어진 구조이다. "
      ]
    },
    {
      "cell_type": "markdown",
      "source": [
        "## 3차원 구조 최적화\n",
        "------\n",
        "\n",
        "위에서 얻은 구조를 한 번 더 MMFF force-field를 이용해서 최적화를 해준다. "
      ],
      "metadata": {
        "id": "noRVcNwcM1jB"
      }
    },
    {
      "cell_type": "code",
      "execution_count": 13,
      "metadata": {
        "id": "vyu9CIPdMQxU",
        "outputId": "ea0ae014-dd62-437e-fb5b-a7f7620c09c2",
        "colab": {
          "base_uri": "https://localhost:8080/"
        }
      },
      "outputs": [
        {
          "output_type": "execute_result",
          "data": {
            "text/plain": [
              "1"
            ]
          },
          "metadata": {},
          "execution_count": 13
        }
      ],
      "source": [
        "AllChem.MMFFOptimizeMolecule(m2)"
      ]
    },
    {
      "cell_type": "code",
      "execution_count": 14,
      "metadata": {
        "id": "vvg8J-PiMQxV",
        "outputId": "b6290a4b-b7c4-456e-8ec4-5a52096a8efc",
        "colab": {
          "base_uri": "https://localhost:8080/",
          "height": 167
        }
      },
      "outputs": [
        {
          "output_type": "execute_result",
          "data": {
            "text/plain": [
              "<rdkit.Chem.rdchem.Mol at 0x7f3d44bbe670>"
            ],
            "image/png": "[encoded data removed]"
          },
          "metadata": {},
          "execution_count": 14
        }
      ],
      "source": [
        "m2"
      ]
    },
    {
      "cell_type": "code",
      "execution_count": 15,
      "metadata": {
        "id": "lgv3i0jGMQxV",
        "outputId": "6d8cea65-6480-4092-b92d-179858a12a31",
        "colab": {
          "base_uri": "https://localhost:8080/"
        }
      },
      "outputs": [
        {
          "output_type": "stream",
          "name": "stdout",
          "text": [
            "\n",
            "     RDKit          3D\n",
            "\n",
            " 54 57  0  0  0  0  0  0  0  0999 V2000\n",
            "    9.0277   -0.1106   -0.4182 C   0  0  0  0  0  0  0  0  0  0  0  0\n",
            "    7.9081    0.6668    0.2634 C   0  0  0  0  0  0  0  0  0  0  0  0\n",
            "    8.4721    1.8511    1.0417 C   0  0  0  0  0  0  0  0  0  0  0  0\n",
            "    7.0405    1.1871   -0.7579 O   0  0  0  0  0  0  0  0  0  0  0  0\n",
            "    5.7305    0.8123   -0.6206 C   0  0  0  0  0  0  0  0  0  0  0  0\n",
            "    4.7468    1.8012   -0.5266 C   0  0  0  0  0  0  0  0  0  0  0  0\n",
            "    3.3980    1.4281   -0.4251 C   0  0  0  0  0  0  0  0  0  0  0  0\n",
            "    3.0176    0.0759   -0.4345 C   0  0  0  0  0  0  0  0  0  0  0  0\n",
            "    4.0177   -0.8996   -0.5597 C   0  0  0  0  0  0  0  0  0  0  0  0\n",
            "    5.3640   -0.5349   -0.6608 C   0  0  0  0  0  0  0  0  0  0  0  0\n",
            "    1.6064   -0.2723   -0.3178 C   0  0  0  0  0  0  0  0  0  0  0  0\n",
            "    0.5578    0.5081   -0.1911 N   0  0  0  0  0  0  0  0  0  0  0  0\n",
            "   -0.4894   -0.3916   -0.1193 C   0  0  0  0  0  0  0  0  0  0  0  0\n",
            "   -0.0974   -1.6747   -0.1889 N   0  0  0  0  0  0  0  0  0  0  0  0\n",
            "    1.2846   -1.5977   -0.3257 O   0  0  0  0  0  0  0  0  0  0  0  0\n",
            "   -1.8722    0.0503    0.0506 C   0  0  0  0  0  0  0  0  0  0  0  0\n",
            "   -2.9789   -0.7940   -0.0720 C   0  0  0  0  0  0  0  0  0  0  0  0\n",
            "   -3.0171   -2.2620   -0.3970 C   0  0  0  0  0  0  0  0  0  0  0  0\n",
            "   -4.4807   -2.4461   -0.8083 C   0  0  0  0  0  0  0  0  0  0  0  0\n",
            "   -5.2881   -1.4524    0.0459 C   0  0  2  0  0  0  0  0  0  0  0  0\n",
            "   -6.5378   -1.1337   -0.6375 N   0  0  0  0  0  0  0  0  0  0  0  0\n",
            "   -7.6110   -0.7833    0.2925 C   0  0  0  0  0  0  0  0  0  0  0  0\n",
            "   -8.9105   -0.4652   -0.4545 C   0  0  0  0  0  0  0  0  0  0  0  0\n",
            "   -9.9156   -0.0811    0.4776 O   0  0  0  0  0  0  0  0  0  0  0  0\n",
            "   -4.2907   -0.3236    0.1552 C   0  0  0  0  0  0  0  0  0  0  0  0\n",
            "   -4.5199    1.0026    0.4921 C   0  0  0  0  0  0  0  0  0  0  0  0\n",
            "   -3.4314    1.8670    0.5869 C   0  0  0  0  0  0  0  0  0  0  0  0\n",
            "   -2.1270    1.3968    0.3703 C   0  0  0  0  0  0  0  0  0  0  0  0\n",
            "    5.0919    3.1930   -0.5131 C   0  0  0  0  0  0  0  0  0  0  0  0\n",
            "    5.3385    4.3269   -0.4827 N   0  0  0  0  0  0  0  0  0  0  0  0\n",
            "    9.5730    0.5224   -1.1258 H   0  0  0  0  0  0  0  0  0  0  0  0\n",
            "    8.6189   -0.9455   -0.9959 H   0  0  0  0  0  0  0  0  0  0  0  0\n",
            "    9.7369   -0.5093    0.3139 H   0  0  0  0  0  0  0  0  0  0  0  0\n",
            "    7.3840    0.0079    0.9672 H   0  0  0  0  0  0  0  0  0  0  0  0\n",
            "    8.9923    2.5476    0.3754 H   0  0  0  0  0  0  0  0  0  0  0  0\n",
            "    7.6636    2.4151    1.5182 H   0  0  0  0  0  0  0  0  0  0  0  0\n",
            "    9.1687    1.5210    1.8181 H   0  0  0  0  0  0  0  0  0  0  0  0\n",
            "    2.6326    2.2007   -0.3386 H   0  0  0  0  0  0  0  0  0  0  0  0\n",
            "    3.7632   -1.9583   -0.5870 H   0  0  0  0  0  0  0  0  0  0  0  0\n",
            "    6.1173   -1.3087   -0.7840 H   0  0  0  0  0  0  0  0  0  0  0  0\n",
            "   -2.3603   -2.5344   -1.2271 H   0  0  0  0  0  0  0  0  0  0  0  0\n",
            "   -2.7767   -2.8538    0.4920 H   0  0  0  0  0  0  0  0  0  0  0  0\n",
            "   -4.8198   -3.4795   -0.6796 H   0  0  0  0  0  0  0  0  0  0  0  0\n",
            "   -4.5773   -2.2075   -1.8782 H   0  0  0  0  0  0  0  0  0  0  0  0\n",
            "   -5.4540   -1.8893    1.0394 H   0  0  0  0  0  0  0  0  0  0  0  0\n",
            "   -6.3740   -0.3776   -1.3011 H   0  0  0  0  0  0  0  0  0  0  0  0\n",
            "   -7.8043   -1.6157    0.9804 H   0  0  0  0  0  0  0  0  0  0  0  0\n",
            "   -7.3418    0.0755    0.9161 H   0  0  0  0  0  0  0  0  0  0  0  0\n",
            "   -9.2646   -1.3421   -1.0067 H   0  0  0  0  0  0  0  0  0  0  0  0\n",
            "   -8.7639    0.3612   -1.1575 H   0  0  0  0  0  0  0  0  0  0  0  0\n",
            "  -10.7365    0.0394   -0.0293 H   0  0  0  0  0  0  0  0  0  0  0  0\n",
            "   -5.5201    1.3746    0.6847 H   0  0  0  0  0  0  0  0  0  0  0  0\n",
            "   -3.5901    2.9117    0.8444 H   0  0  0  0  0  0  0  0  0  0  0  0\n",
            "   -1.3013    2.1002    0.4693 H   0  0  0  0  0  0  0  0  0  0  0  0\n",
            "  1  2  1  0\n",
            "  2  3  1  0\n",
            "  2  4  1  0\n",
            "  4  5  1  0\n",
            "  5  6  2  0\n",
            "  6  7  1  0\n",
            "  7  8  2  0\n",
            "  8  9  1  0\n",
            "  9 10  2  0\n",
            "  8 11  1  0\n",
            " 11 12  2  0\n",
            " 12 13  1  0\n",
            " 13 14  2  0\n",
            " 14 15  1  0\n",
            " 13 16  1  0\n",
            " 16 17  2  0\n",
            " 17 18  1  0\n",
            " 18 19  1  0\n",
            " 19 20  1  0\n",
            " 20 21  1  0\n",
            " 21 22  1  0\n",
            " 22 23  1  0\n",
            " 23 24  1  0\n",
            " 20 25  1  0\n",
            " 25 26  2  0\n",
            " 26 27  1  0\n",
            " 27 28  2  0\n",
            "  6 29  1  0\n",
            " 29 30  3  0\n",
            " 10  5  1  0\n",
            " 15 11  1  0\n",
            " 28 16  1  0\n",
            " 25 17  1  0\n",
            "  1 31  1  0\n",
            "  1 32  1  0\n",
            "  1 33  1  0\n",
            "  2 34  1  0\n",
            "  3 35  1  0\n",
            "  3 36  1  0\n",
            "  3 37  1  0\n",
            "  7 38  1  0\n",
            "  9 39  1  0\n",
            " 10 40  1  0\n",
            " 18 41  1  0\n",
            " 18 42  1  0\n",
            " 19 43  1  0\n",
            " 19 44  1  0\n",
            " 20 45  1  1\n",
            " 21 46  1  0\n",
            " 22 47  1  0\n",
            " 22 48  1  0\n",
            " 23 49  1  0\n",
            " 23 50  1  0\n",
            " 24 51  1  0\n",
            " 26 52  1  0\n",
            " 27 53  1  0\n",
            " 28 54  1  0\n",
            "M  END\n",
            "\n"
          ]
        }
      ],
      "source": [
        "print(Chem.MolToMolBlock(m2)) # m2는 최적화된 3D 구조를 가지고 있는 molecule 변수. "
      ]
    },
    {
      "cell_type": "code",
      "execution_count": 16,
      "metadata": {
        "id": "A4T499rfMQxW"
      },
      "outputs": [],
      "source": [
        "print(Chem.MolToMolBlock(m2), file = open(\"foo.mol\", \"w+\"))"
      ]
    },
    {
      "cell_type": "code",
      "execution_count": 17,
      "metadata": {
        "id": "g6peFpJRMQxW"
      },
      "outputs": [],
      "source": [
        "m = Chem.MolFromSmiles('C1CCC1OC')"
      ]
    },
    {
      "cell_type": "code",
      "execution_count": 18,
      "metadata": {
        "id": "VqeiWOW3MQxW",
        "outputId": "a1726b90-aa6d-42d3-9273-727240398c18",
        "colab": {
          "base_uri": "https://localhost:8080/",
          "height": 167
        }
      },
      "outputs": [
        {
          "output_type": "execute_result",
          "data": {
            "text/plain": [
              "<rdkit.Chem.rdchem.Mol at 0x7f3d447f4c10>"
            ],
            "image/png": "[encoded data removed]"
          },
          "metadata": {},
          "execution_count": 18
        }
      ],
      "source": [
        "m"
      ]
    },
    {
      "cell_type": "code",
      "execution_count": 19,
      "metadata": {
        "id": "-FjS7mLzMQxX"
      },
      "outputs": [],
      "source": [
        "m2=Chem.AddHs(m)"
      ]
    },
    {
      "cell_type": "code",
      "execution_count": 20,
      "metadata": {
        "id": "luRevLqXMQxX",
        "outputId": "830420af-5637-4bce-ca68-a9fabd4d1433",
        "colab": {
          "base_uri": "https://localhost:8080/",
          "height": 167
        }
      },
      "outputs": [
        {
          "output_type": "execute_result",
          "data": {
            "text/plain": [
              "<rdkit.Chem.rdchem.Mol at 0x7f3d447f7670>"
            ],
            "image/png": "[encoded data removed]"
          },
          "metadata": {},
          "execution_count": 20
        }
      ],
      "source": [
        "m2"
      ]
    },
    {
      "cell_type": "markdown",
      "source": [
        "# Fingerprint 계산\n",
        "-------"
      ],
      "metadata": {
        "id": "2yPiUJnG1v9_"
      }
    },
    {
      "cell_type": "code",
      "execution_count": 21,
      "metadata": {
        "id": "2qMeBv7zMQxZ"
      },
      "outputs": [],
      "source": [
        "m1 = Chem.MolFromSmiles('Cc1ccccc1')"
      ]
    },
    {
      "cell_type": "code",
      "execution_count": 22,
      "metadata": {
        "id": "LhZaavdLMQxZ",
        "outputId": "50eb650a-f65a-4f34-fa35-99d7947eb580",
        "colab": {
          "base_uri": "https://localhost:8080/"
        }
      },
      "outputs": [
        {
          "output_type": "stream",
          "name": "stdout",
          "text": [
            "<rdkit.Chem.rdchem.Mol object at 0x7f3d446016c0>\n"
          ]
        }
      ],
      "source": [
        "print(m1)"
      ]
    },
    {
      "cell_type": "code",
      "execution_count": 23,
      "metadata": {
        "id": "4XskEnx4MQxZ",
        "outputId": "1756cada-7f6f-4b0d-9df2-3489a563bbd4",
        "colab": {
          "base_uri": "https://localhost:8080/",
          "height": 167
        }
      },
      "outputs": [
        {
          "output_type": "execute_result",
          "data": {
            "text/plain": [
              "<rdkit.Chem.rdchem.Mol at 0x7f3d446016c0>"
            ],
            "image/png": "[encoded data removed]"
          },
          "metadata": {},
          "execution_count": 23
        }
      ],
      "source": [
        "m1"
      ]
    },
    {
      "cell_type": "code",
      "source": [
        "Chem.AddHs(m1)"
      ],
      "metadata": {
        "colab": {
          "base_uri": "https://localhost:8080/",
          "height": 167
        },
        "id": "ds-9ZZCF11gs",
        "outputId": "0725cb9e-15e3-43ce-fdae-d96685c14f67"
      },
      "execution_count": 24,
      "outputs": [
        {
          "output_type": "execute_result",
          "data": {
            "text/plain": [
              "<rdkit.Chem.rdchem.Mol at 0x7f3d44601e90>"
            ],
            "image/png": "[encoded data removed]"
          },
          "metadata": {},
          "execution_count": 24
        }
      ]
    },
    {
      "cell_type": "markdown",
      "source": [
        "## Extended Fingerprint (ECFP) 계산\n",
        "------\n"
      ],
      "metadata": {
        "id": "7RXxV67315jE"
      }
    },
    {
      "cell_type": "markdown",
      "source": [
        "ECFP 계산의 경우, 몇 개의 공유 결합까지 허용하는 fragment를 만들 것인지를 정해주어야 함. \n",
        "\n",
        "https://www.rdkit.org/docs/source/rdkit.Chem.rdMolDescriptors.html#rdkit.Chem.rdMolDescriptors.GetMorganFingerprint\n",
        "\n",
        "일단 공유 결합 반경을 2로 설정해보자. \n",
        "\n",
        "즉 ECFP4 fingerprint를 생성해보자. "
      ],
      "metadata": {
        "id": "3LIhzeOa2bjU"
      }
    },
    {
      "cell_type": "code",
      "execution_count": 25,
      "metadata": {
        "id": "M22DxIw6MQxa"
      },
      "outputs": [],
      "source": [
        "fp1 = AllChem.GetMorganFingerprint(m1,2)"
      ]
    },
    {
      "cell_type": "markdown",
      "source": [
        "기본적으로 Morgan fingerprints, ECFP는 fragment의 개수를 정보를 기본으로 사용한다. \n"
      ],
      "metadata": {
        "id": "vQL_ttX17bCB"
      }
    },
    {
      "cell_type": "code",
      "execution_count": 26,
      "metadata": {
        "id": "UXGhi2AFMQxa",
        "outputId": "4173394a-4c21-4432-9aff-faf053a6af91",
        "colab": {
          "base_uri": "https://localhost:8080/"
        }
      },
      "outputs": [
        {
          "output_type": "stream",
          "name": "stdout",
          "text": [
            "<rdkit.DataStructs.cDataStructs.UIntSparseIntVect object at 0x7f3d4460ae90>\n"
          ]
        }
      ],
      "source": [
        "print(fp1)"
      ]
    },
    {
      "cell_type": "markdown",
      "source": [
        "SpartseIntVect 타입으로 저장된다. "
      ],
      "metadata": {
        "id": "2dC-pA6j7cyh"
      }
    },
    {
      "cell_type": "code",
      "execution_count": 27,
      "metadata": {
        "id": "xP3Wz-WjMQxa",
        "outputId": "8b22828a-c6b5-46d8-aada-b3bd1ac1799e",
        "colab": {
          "base_uri": "https://localhost:8080/"
        }
      },
      "outputs": [
        {
          "output_type": "execute_result",
          "data": {
            "text/plain": [
              "<rdkit.DataStructs.cDataStructs.UIntSparseIntVect at 0x7f3d4460ae90>"
            ]
          },
          "metadata": {},
          "execution_count": 27
        }
      ],
      "source": [
        "fp1"
      ]
    },
    {
      "cell_type": "markdown",
      "source": [
        "IntSparseIntVect 타입 변수는 어떤 method가 사용 가능한지 확인해보자. "
      ],
      "metadata": {
        "id": "YTvkJqnB7iZc"
      }
    },
    {
      "cell_type": "code",
      "execution_count": 28,
      "metadata": {
        "id": "6J0s8B-EMQxa",
        "colab": {
          "base_uri": "https://localhost:8080/"
        },
        "outputId": "053b4d4e-4af0-4d73-d33b-4bf7aad79cc3"
      },
      "outputs": [
        {
          "output_type": "execute_result",
          "data": {
            "text/plain": [
              "['GetLength',\n",
              " 'GetNonzeroElements',\n",
              " 'GetTotalVal',\n",
              " 'ToBinary',\n",
              " 'UpdateFromSequence',\n",
              " '__add__',\n",
              " '__and__',\n",
              " '__class__',\n",
              " '__delattr__',\n",
              " '__dict__',\n",
              " '__dir__',\n",
              " '__doc__',\n",
              " '__eq__',\n",
              " '__format__',\n",
              " '__ge__',\n",
              " '__getattribute__',\n",
              " '__getinitargs__',\n",
              " '__getitem__',\n",
              " '__gt__',\n",
              " '__hash__',\n",
              " '__iadd__',\n",
              " '__idiv__',\n",
              " '__imul__',\n",
              " '__init__',\n",
              " '__init_subclass__',\n",
              " '__instance_size__',\n",
              " '__isub__',\n",
              " '__le__',\n",
              " '__lt__',\n",
              " '__module__',\n",
              " '__ne__',\n",
              " '__new__',\n",
              " '__or__',\n",
              " '__reduce__',\n",
              " '__reduce_ex__',\n",
              " '__repr__',\n",
              " '__safe_for_unpickling__',\n",
              " '__setattr__',\n",
              " '__setitem__',\n",
              " '__sizeof__',\n",
              " '__str__',\n",
              " '__sub__',\n",
              " '__subclasshook__',\n",
              " '__weakref__']"
            ]
          },
          "metadata": {},
          "execution_count": 28
        }
      ],
      "source": [
        "dir(fp1)"
      ]
    },
    {
      "cell_type": "code",
      "execution_count": 29,
      "metadata": {
        "id": "xGQyUJkTMQxa",
        "outputId": "67b41d64-cb02-4ac3-9dd0-ff5c1c6a9fe4",
        "colab": {
          "base_uri": "https://localhost:8080/"
        }
      },
      "outputs": [
        {
          "output_type": "execute_result",
          "data": {
            "text/plain": [
              "4294967295"
            ]
          },
          "metadata": {},
          "execution_count": 29
        }
      ],
      "source": [
        "fp1.GetLength()"
      ]
    },
    {
      "cell_type": "markdown",
      "source": [
        "가능한 모든 fragment의 가장 큰 값은 4294967295로 주어져 있다. "
      ],
      "metadata": {
        "id": "_iFKGHFL7qDT"
      }
    },
    {
      "cell_type": "markdown",
      "source": [
        "기본적으로 Morgan fingerprints, ECFP는 fragment의 개수를 정보를 기본으로 사용한다. \n",
        "\n",
        "결과적으로 AllChem.GetMorganFingerprint 에서 얻어지는 결과는 특정 fragment가 얼마나 자주 나타나는지를 count한 결과이다. "
      ],
      "metadata": {
        "id": "_vWfBz105rDk"
      }
    },
    {
      "cell_type": "code",
      "execution_count": 30,
      "metadata": {
        "id": "8Z0UujS5MQxa",
        "colab": {
          "base_uri": "https://localhost:8080/"
        },
        "outputId": "f5c6378b-c496-4e7d-a3e2-c8150f30264f"
      },
      "outputs": [
        {
          "output_type": "execute_result",
          "data": {
            "text/plain": [
              "{98513984: 3,\n",
              " 422715066: 1,\n",
              " 908339072: 1,\n",
              " 951226070: 2,\n",
              " 2246728737: 1,\n",
              " 2763854213: 1,\n",
              " 3207567135: 1,\n",
              " 3217380708: 1,\n",
              " 3218693969: 5,\n",
              " 3999906991: 2,\n",
              " 4244175903: 2}"
            ]
          },
          "metadata": {},
          "execution_count": 30
        }
      ],
      "source": [
        "fp1.GetNonzeroElements()"
      ]
    },
    {
      "cell_type": "markdown",
      "source": [
        "### Morgan Fingerprint as a bit vector\n",
        "------"
      ],
      "metadata": {
        "id": "Kx4_DCLd55xP"
      }
    },
    {
      "cell_type": "markdown",
      "source": [
        "0과 1의 조합으로 나타내어 보자. \n",
        "\n",
        "https://www.rdkit.org/docs/source/rdkit.Chem.rdMolDescriptors.html#rdkit.Chem.rdMolDescriptors.GetMorganFingerprintAsBitVect"
      ],
      "metadata": {
        "id": "4FPjWRZd427H"
      }
    },
    {
      "cell_type": "code",
      "execution_count": 31,
      "metadata": {
        "id": "lIjMKtp_MQxb"
      },
      "outputs": [],
      "source": [
        "fp1 = AllChem.GetMorganFingerprintAsBitVect(m1,2,nBits=1024)"
      ]
    },
    {
      "cell_type": "markdown",
      "source": [
        "얻어지는 결과물은 ExplicitBitVect 타입의 변수이다. "
      ],
      "metadata": {
        "id": "eEBDDg6N4_YD"
      }
    },
    {
      "cell_type": "code",
      "execution_count": 32,
      "metadata": {
        "id": "c4rcuIhOMQxb",
        "outputId": "1f26afa8-a773-43cc-b9df-771a22e93488",
        "colab": {
          "base_uri": "https://localhost:8080/"
        }
      },
      "outputs": [
        {
          "output_type": "stream",
          "name": "stdout",
          "text": [
            "<rdkit.DataStructs.cDataStructs.ExplicitBitVect object at 0x7f3d445fb580>\n"
          ]
        }
      ],
      "source": [
        "print(fp1)"
      ]
    },
    {
      "cell_type": "markdown",
      "source": [
        "어떤 method가 사용 가능한지 확인. "
      ],
      "metadata": {
        "id": "veE0I2Up5CpE"
      }
    },
    {
      "cell_type": "code",
      "execution_count": 33,
      "metadata": {
        "id": "dnTm3I7BMQxb",
        "outputId": "0cd09de4-7b65-4012-e703-1b916471f342",
        "colab": {
          "base_uri": "https://localhost:8080/"
        }
      },
      "outputs": [
        {
          "output_type": "execute_result",
          "data": {
            "text/plain": [
              "['FromBase64',\n",
              " 'GetBit',\n",
              " 'GetNumBits',\n",
              " 'GetNumOffBits',\n",
              " 'GetNumOnBits',\n",
              " 'GetOnBits',\n",
              " 'SetBit',\n",
              " 'SetBitsFromList',\n",
              " 'ToBase64',\n",
              " 'ToBinary',\n",
              " 'ToBitString',\n",
              " 'UnSetBit',\n",
              " 'UnSetBitsFromList',\n",
              " '__add__',\n",
              " '__and__',\n",
              " '__class__',\n",
              " '__delattr__',\n",
              " '__dict__',\n",
              " '__dir__',\n",
              " '__doc__',\n",
              " '__eq__',\n",
              " '__format__',\n",
              " '__ge__',\n",
              " '__getattribute__',\n",
              " '__getinitargs__',\n",
              " '__getitem__',\n",
              " '__gt__',\n",
              " '__hash__',\n",
              " '__iadd__',\n",
              " '__init__',\n",
              " '__init_subclass__',\n",
              " '__instance_size__',\n",
              " '__invert__',\n",
              " '__le__',\n",
              " '__len__',\n",
              " '__lt__',\n",
              " '__module__',\n",
              " '__ne__',\n",
              " '__new__',\n",
              " '__or__',\n",
              " '__reduce__',\n",
              " '__reduce_ex__',\n",
              " '__repr__',\n",
              " '__safe_for_unpickling__',\n",
              " '__setattr__',\n",
              " '__setitem__',\n",
              " '__sizeof__',\n",
              " '__str__',\n",
              " '__subclasshook__',\n",
              " '__weakref__',\n",
              " '__xor__']"
            ]
          },
          "metadata": {},
          "execution_count": 33
        }
      ],
      "source": [
        "dir(fp1)"
      ]
    },
    {
      "cell_type": "code",
      "execution_count": 34,
      "metadata": {
        "id": "evJwnYGoMQxb",
        "outputId": "f8aec27a-ddd5-4735-f18f-8e6e750d9c00",
        "colab": {
          "base_uri": "https://localhost:8080/",
          "height": 145
        }
      },
      "outputs": [
        {
          "output_type": "execute_result",
          "data": {
            "text/plain": [
              "'0000000000000000000000000000000101000000000000000000000000000000100000000000000000000000000000000000000000000000000000000000000000000000000000000000000000000000000000000000000100000000000000000000000000000000000000000000000000000000000000000000000000000000000000000000000000000000000000000000000000000000000000000000000000000000000000000000000000000000000010000000000000000000000000000000010000000000000000000000000000000000000000000000000000000000000000000000000000000000000000000000000000000000000000000000000000000000000000000000000000000000000000000000000000000000000000000000000000000000000000000000000000000000000000000000000000000000000000000000000000000000000000000000000000000000000000000010000000000000000000000000001000000000000000000000000000000000000000000000000000000000000000000000000100000000000000000000000000000000000000000000000001000000000000000000000000000000000000000000000010000000000000000000000000000000000000000000000000000000000000000000000000000000000000000000000000000000000000000000000000000000'"
            ],
            "application/vnd.google.colaboratory.intrinsic+json": {
              "type": "string"
            }
          },
          "metadata": {},
          "execution_count": 34
        }
      ],
      "source": [
        "fp1.ToBitString()"
      ]
    },
    {
      "cell_type": "markdown",
      "source": [
        "위와 같이 1024개의 bit로 표현 가능하다."
      ],
      "metadata": {
        "id": "eLUNYoDC5POz"
      }
    },
    {
      "cell_type": "markdown",
      "source": [
        "## 분자 사이의 유사도 계산\n",
        "-----\n",
        "\n",
        "이제 fingerprint를 이용하여 분자 사이의 유사도 계산을 진행하는 방법을 알아보자. "
      ],
      "metadata": {
        "id": "HsFPnO1C5Vtw"
      }
    },
    {
      "cell_type": "code",
      "execution_count": 35,
      "metadata": {
        "id": "yW3D9pL5MQxc"
      },
      "outputs": [],
      "source": [
        "from rdkit import Chem"
      ]
    },
    {
      "cell_type": "code",
      "execution_count": 36,
      "metadata": {
        "id": "FQs8v8e4MQxc"
      },
      "outputs": [],
      "source": [
        "molecules = []\n",
        "for smi in open(\"drugs.smi\").readlines():\n",
        "    m = Chem.MolFromSmiles(smi)\n",
        "    m2 = Chem.AddHs(m)\n",
        "    molecules.append(m2)"
      ]
    },
    {
      "cell_type": "code",
      "execution_count": 37,
      "metadata": {
        "id": "3B5czS-gMQxc",
        "outputId": "c0762d66-9984-491f-a81f-0c60282464fa",
        "colab": {
          "base_uri": "https://localhost:8080/"
        }
      },
      "outputs": [
        {
          "output_type": "stream",
          "name": "stdout",
          "text": [
            "600\n"
          ]
        }
      ],
      "source": [
        "print(len(molecules))"
      ]
    },
    {
      "cell_type": "code",
      "execution_count": 38,
      "metadata": {
        "id": "s5Ykk-L8MQxc",
        "outputId": "780c6355-ee05-4b70-e088-56a5107ee618",
        "colab": {
          "base_uri": "https://localhost:8080/",
          "height": 167
        }
      },
      "outputs": [
        {
          "output_type": "execute_result",
          "data": {
            "text/plain": [
              "<rdkit.Chem.rdchem.Mol at 0x7f3d446112b0>"
            ],
            "image/png": "[encoded data removed]"
          },
          "metadata": {},
          "execution_count": 38
        }
      ],
      "source": [
        "molecules[0]"
      ]
    },
    {
      "cell_type": "code",
      "execution_count": 39,
      "metadata": {
        "id": "kE4lbCOrMQxc",
        "outputId": "dc5c968b-7eeb-46ff-e527-7eb2ebd986b1",
        "colab": {
          "base_uri": "https://localhost:8080/",
          "height": 167
        }
      },
      "outputs": [
        {
          "output_type": "execute_result",
          "data": {
            "text/plain": [
              "<rdkit.Chem.rdchem.Mol at 0x7f3d44612670>"
            ],
            "image/png": "[encoded data removed]"
          },
          "metadata": {},
          "execution_count": 39
        }
      ],
      "source": [
        "molecules[1]"
      ]
    },
    {
      "cell_type": "code",
      "execution_count": 40,
      "metadata": {
        "id": "YORUouU0MQxd",
        "outputId": "9fa33e20-92f1-4be3-eb0d-9854f4cb514b",
        "colab": {
          "base_uri": "https://localhost:8080/",
          "height": 167
        }
      },
      "outputs": [
        {
          "output_type": "execute_result",
          "data": {
            "text/plain": [
              "<rdkit.Chem.rdchem.Mol at 0x7f3d4461d800>"
            ],
            "image/png": "[encoded data removed]"
          },
          "metadata": {},
          "execution_count": 40
        }
      ],
      "source": [
        "molecules[3]"
      ]
    },
    {
      "cell_type": "code",
      "execution_count": 41,
      "metadata": {
        "id": "iO1lr7-_MQxe"
      },
      "outputs": [],
      "source": [
        "m1 = molecules[0]\n",
        "m2 = molecules[1]"
      ]
    },
    {
      "cell_type": "code",
      "execution_count": 42,
      "metadata": {
        "id": "ZWd2OH18MQxe"
      },
      "outputs": [],
      "source": [
        "from rdkit.Chem import AllChem"
      ]
    },
    {
      "cell_type": "code",
      "source": [
        "fps = [] # fingerprint를 저장할 빈 리스트. \n",
        "for m in molecules:\n",
        "  fps.append(AllChem.GetMorganFingerprint(m, 2)) # ECFP4 생성"
      ],
      "metadata": {
        "id": "qn018nOO6XWq"
      },
      "execution_count": 43,
      "outputs": []
    },
    {
      "cell_type": "code",
      "execution_count": 44,
      "metadata": {
        "id": "G-cM4ij5MQxe"
      },
      "outputs": [],
      "source": [
        "fp1 = fps[0]"
      ]
    },
    {
      "cell_type": "code",
      "execution_count": 45,
      "metadata": {
        "id": "u8mZ0CJMMQxe"
      },
      "outputs": [],
      "source": [
        "fp2 = fps[1]"
      ]
    },
    {
      "cell_type": "code",
      "execution_count": 46,
      "metadata": {
        "id": "oCoIJTmTMQxf",
        "outputId": "20e1e0c1-e420-4cac-ed09-18e2072d02a4",
        "colab": {
          "base_uri": "https://localhost:8080/"
        }
      },
      "outputs": [
        {
          "output_type": "stream",
          "name": "stdout",
          "text": [
            "<rdkit.DataStructs.cDataStructs.UIntSparseIntVect object at 0x7f3d447f88f0>\n"
          ]
        }
      ],
      "source": [
        "print(fp1)"
      ]
    },
    {
      "cell_type": "code",
      "execution_count": 47,
      "metadata": {
        "id": "eYhvG6dRMQxf",
        "outputId": "fe0e8ebe-77df-47ca-8013-56082697fde2",
        "colab": {
          "base_uri": "https://localhost:8080/"
        }
      },
      "outputs": [
        {
          "output_type": "stream",
          "name": "stdout",
          "text": [
            "<rdkit.DataStructs.cDataStructs.UIntSparseIntVect object at 0x7f3d447f8d50>\n"
          ]
        }
      ],
      "source": [
        "print(fp2)"
      ]
    },
    {
      "cell_type": "code",
      "execution_count": 48,
      "metadata": {
        "id": "zjcjSf7ZMQxg",
        "outputId": "c44523ca-e8bd-49c6-f4c9-1ae6ff14d3da",
        "colab": {
          "base_uri": "https://localhost:8080/"
        }
      },
      "outputs": [
        {
          "output_type": "execute_result",
          "data": {
            "text/plain": [
              "['GetLength',\n",
              " 'GetNonzeroElements',\n",
              " 'GetTotalVal',\n",
              " 'ToBinary',\n",
              " 'UpdateFromSequence',\n",
              " '__add__',\n",
              " '__and__',\n",
              " '__class__',\n",
              " '__delattr__',\n",
              " '__dict__',\n",
              " '__dir__',\n",
              " '__doc__',\n",
              " '__eq__',\n",
              " '__format__',\n",
              " '__ge__',\n",
              " '__getattribute__',\n",
              " '__getinitargs__',\n",
              " '__getitem__',\n",
              " '__gt__',\n",
              " '__hash__',\n",
              " '__iadd__',\n",
              " '__idiv__',\n",
              " '__imul__',\n",
              " '__init__',\n",
              " '__init_subclass__',\n",
              " '__instance_size__',\n",
              " '__isub__',\n",
              " '__le__',\n",
              " '__lt__',\n",
              " '__module__',\n",
              " '__ne__',\n",
              " '__new__',\n",
              " '__or__',\n",
              " '__reduce__',\n",
              " '__reduce_ex__',\n",
              " '__repr__',\n",
              " '__safe_for_unpickling__',\n",
              " '__setattr__',\n",
              " '__setitem__',\n",
              " '__sizeof__',\n",
              " '__str__',\n",
              " '__sub__',\n",
              " '__subclasshook__',\n",
              " '__weakref__']"
            ]
          },
          "metadata": {},
          "execution_count": 48
        }
      ],
      "source": [
        "dir(fp1)"
      ]
    },
    {
      "cell_type": "code",
      "execution_count": 49,
      "metadata": {
        "id": "gIug0RJ7MQxg",
        "outputId": "72908f6b-1f8d-49da-84e1-e83e7fbdcadb",
        "colab": {
          "base_uri": "https://localhost:8080/"
        }
      },
      "outputs": [
        {
          "output_type": "execute_result",
          "data": {
            "text/plain": [
              "{10565946: 1,\n",
              " 36538691: 1,\n",
              " 56091288: 7,\n",
              " 231329144: 1,\n",
              " 295224923: 1,\n",
              " 490247508: 6,\n",
              " 618185734: 1,\n",
              " 631553871: 1,\n",
              " 658782932: 1,\n",
              " 772606658: 1,\n",
              " 829315160: 2,\n",
              " 864942730: 1,\n",
              " 886246489: 1,\n",
              " 1101907775: 1,\n",
              " 1319199979: 1,\n",
              " 1461310226: 1,\n",
              " 1665999679: 1,\n",
              " 1957005222: 1,\n",
              " 2013031783: 1,\n",
              " 2041434490: 2,\n",
              " 2092489639: 1,\n",
              " 2277419761: 1,\n",
              " 2912088145: 1,\n",
              " 2976816164: 1,\n",
              " 3067762898: 1,\n",
              " 3210252437: 1,\n",
              " 3217380708: 13,\n",
              " 3265829077: 1,\n",
              " 3352400832: 1,\n",
              " 3430949351: 1,\n",
              " 3602415581: 1,\n",
              " 3612926680: 1,\n",
              " 3624363645: 1,\n",
              " 3632350815: 1,\n",
              " 3650455129: 1,\n",
              " 3798139026: 1,\n",
              " 3838343967: 1,\n",
              " 3974650111: 1,\n",
              " 3980805843: 1,\n",
              " 4240369074: 1,\n",
              " 4277593716: 10}"
            ]
          },
          "metadata": {},
          "execution_count": 49
        }
      ],
      "source": [
        "fp1.GetNonzeroElements() # 0이 아닌 정수리스트를 확인. "
      ]
    },
    {
      "cell_type": "code",
      "source": [
        "fp_bits = []\n",
        "for m in molecules:\n",
        "  fp_bits.append(AllChem.GetMorganFingerprintAsBitVect(m, 2, nBits=1024))# 1024개의 0/1로 표현해라. "
      ],
      "metadata": {
        "id": "9WG7pBox6uTz"
      },
      "execution_count": 50,
      "outputs": []
    },
    {
      "cell_type": "code",
      "execution_count": 51,
      "metadata": {
        "id": "U0dxdQD8MQxg"
      },
      "outputs": [],
      "source": [
        "fp1_bit = fp_bits[0]"
      ]
    },
    {
      "cell_type": "code",
      "source": [
        "type(fp1_bit)"
      ],
      "metadata": {
        "colab": {
          "base_uri": "https://localhost:8080/"
        },
        "id": "6D42k1BA36up",
        "outputId": "2cf23dde-3be7-466a-fff6-8b9cbf8c8be4"
      },
      "execution_count": 52,
      "outputs": [
        {
          "output_type": "execute_result",
          "data": {
            "text/plain": [
              "rdkit.DataStructs.cDataStructs.ExplicitBitVect"
            ]
          },
          "metadata": {},
          "execution_count": 52
        }
      ]
    },
    {
      "cell_type": "code",
      "execution_count": 53,
      "metadata": {
        "id": "ckLr0t8-MQxg"
      },
      "outputs": [],
      "source": [
        "fp2_bit = fp_bits[1]"
      ]
    },
    {
      "cell_type": "code",
      "execution_count": 54,
      "metadata": {
        "id": "RhGjKvv1MQxh",
        "outputId": "7b6c80bb-d192-4059-af61-b0092f30b3a3",
        "colab": {
          "base_uri": "https://localhost:8080/"
        }
      },
      "outputs": [
        {
          "output_type": "execute_result",
          "data": {
            "text/plain": [
              "['FromBase64',\n",
              " 'GetBit',\n",
              " 'GetNumBits',\n",
              " 'GetNumOffBits',\n",
              " 'GetNumOnBits',\n",
              " 'GetOnBits',\n",
              " 'SetBit',\n",
              " 'SetBitsFromList',\n",
              " 'ToBase64',\n",
              " 'ToBinary',\n",
              " 'ToBitString',\n",
              " 'UnSetBit',\n",
              " 'UnSetBitsFromList',\n",
              " '__add__',\n",
              " '__and__',\n",
              " '__class__',\n",
              " '__delattr__',\n",
              " '__dict__',\n",
              " '__dir__',\n",
              " '__doc__',\n",
              " '__eq__',\n",
              " '__format__',\n",
              " '__ge__',\n",
              " '__getattribute__',\n",
              " '__getinitargs__',\n",
              " '__getitem__',\n",
              " '__gt__',\n",
              " '__hash__',\n",
              " '__iadd__',\n",
              " '__init__',\n",
              " '__init_subclass__',\n",
              " '__instance_size__',\n",
              " '__invert__',\n",
              " '__le__',\n",
              " '__len__',\n",
              " '__lt__',\n",
              " '__module__',\n",
              " '__ne__',\n",
              " '__new__',\n",
              " '__or__',\n",
              " '__reduce__',\n",
              " '__reduce_ex__',\n",
              " '__repr__',\n",
              " '__safe_for_unpickling__',\n",
              " '__setattr__',\n",
              " '__setitem__',\n",
              " '__sizeof__',\n",
              " '__str__',\n",
              " '__subclasshook__',\n",
              " '__weakref__',\n",
              " '__xor__']"
            ]
          },
          "metadata": {},
          "execution_count": 54
        }
      ],
      "source": [
        "dir(fp1_bit)"
      ]
    },
    {
      "cell_type": "code",
      "execution_count": 55,
      "metadata": {
        "id": "Wqzgx-1oMQxh"
      },
      "outputs": [],
      "source": [
        "fp1_str = fp1_bit.ToBitString() # 0과 1로 이루어진 문자열로 출력!"
      ]
    },
    {
      "cell_type": "code",
      "execution_count": 56,
      "metadata": {
        "id": "t8MPup_tMQxh",
        "outputId": "e66dfdea-722c-4ff6-df52-c50f3f909dd1",
        "colab": {
          "base_uri": "https://localhost:8080/",
          "height": 145
        }
      },
      "outputs": [
        {
          "output_type": "execute_result",
          "data": {
            "text/plain": [
              "'0000001000000000000000000000000000001000000000000000000000000000000000000000000001000000110000000000000000000000000000000000000000000000000000000010010000000000000000000000000000000000000000000000000000000000001001000000000000000000000100000000000000000001000000000000000000000000000000000000000000000000000000000010000000010000000000000000100000000000000010010000000000000000101000000000000000000000000000000000000000000000000000000010000000000000000000000000000000000000000000000000000100000000000000000000000000000000000000000000000000000000000000000000000000000000000000000000000000000000000000000101000100000000000000000000100000000100000000000010000000000000100000000000000000000000000000000000000000100000000000000001100010000000000000000000000001000000000000000000000000000000001000000000000100000000000000000000000000000001000000000000000100000000000000000000000000000000000000000000000000000000000000000000000000000000000000110000000000000000000000001000000000000000000000000000010000000000000000000000000000000000'"
            ],
            "application/vnd.google.colaboratory.intrinsic+json": {
              "type": "string"
            }
          },
          "metadata": {},
          "execution_count": 56
        }
      ],
      "source": [
        "fp1_str"
      ]
    },
    {
      "cell_type": "code",
      "execution_count": 57,
      "metadata": {
        "id": "-AjRBuNWMQxi",
        "outputId": "3dd44a7c-0088-4e5e-d408-87d08a071ab8",
        "colab": {
          "base_uri": "https://localhost:8080/"
        }
      },
      "outputs": [
        {
          "output_type": "execute_result",
          "data": {
            "text/plain": [
              "1024"
            ]
          },
          "metadata": {},
          "execution_count": 57
        }
      ],
      "source": [
        "len(fp1_str)"
      ]
    },
    {
      "cell_type": "code",
      "execution_count": 58,
      "metadata": {
        "id": "bHZmRpKrMQxi"
      },
      "outputs": [],
      "source": [
        "fp2_str = fp2_bit.ToBitString()"
      ]
    },
    {
      "cell_type": "code",
      "execution_count": 59,
      "metadata": {
        "id": "AW_6ktxSMQxi",
        "outputId": "5a376dc1-5685-4156-9de7-7c76d51528b1",
        "colab": {
          "base_uri": "https://localhost:8080/",
          "height": 145
        }
      },
      "outputs": [
        {
          "output_type": "execute_result",
          "data": {
            "text/plain": [
              "'0000000000000001000001000000000000001000000000000000000000000000100000000000000000000000100000000000000000000000001000000000010000000000000100000010000000000000000000000010000000000000000000000000000000000001000000000000100010100000000000000000000000000000000000000001000000000000000000000000000000000000000000000000000000000000000000000000100000000000000010000000000000000000000000000000000000000000000000000000000000001000000000000000000000000000000010000000000000000000001000000000000000000000000000000000000000000000000000000000000000000000000000000000001000000000000000000000000000000000000000000100000000000000000000000000100000000000000000000000000000000000100000000010000000000000000000000000000000000000000000000000000000000000000000000000000000000000000000000000000000000000000000000000000100000000000000000000000000000000000000000000000100000000000000000000000000000000010000000000000000000000001000000001000000000000000000000000000000000000000000000000000000000000000000000000000000000000000000000000000000000100'"
            ],
            "application/vnd.google.colaboratory.intrinsic+json": {
              "type": "string"
            }
          },
          "metadata": {},
          "execution_count": 59
        }
      ],
      "source": [
        "fp2_str"
      ]
    },
    {
      "cell_type": "code",
      "execution_count": 60,
      "metadata": {
        "id": "BYf3qe2JMQxj",
        "outputId": "de5fb2df-bad9-4503-a58f-699b61bb6c7a",
        "colab": {
          "base_uri": "https://localhost:8080/",
          "height": 167
        }
      },
      "outputs": [
        {
          "output_type": "execute_result",
          "data": {
            "text/plain": [
              "<rdkit.Chem.rdchem.Mol at 0x7f3d446112b0>"
            ],
            "image/png": "[encoded data removed]"
          },
          "metadata": {},
          "execution_count": 60
        }
      ],
      "source": [
        "m1"
      ]
    },
    {
      "cell_type": "code",
      "execution_count": 61,
      "metadata": {
        "id": "peqf5kkLMQxj",
        "outputId": "8af9ed21-1de3-45c2-878d-d20c54d1fe3a",
        "colab": {
          "base_uri": "https://localhost:8080/",
          "height": 167
        }
      },
      "outputs": [
        {
          "output_type": "execute_result",
          "data": {
            "text/plain": [
              "<rdkit.Chem.rdchem.Mol at 0x7f3d44612670>"
            ],
            "image/png": "[encoded data removed]"
          },
          "metadata": {},
          "execution_count": 61
        }
      ],
      "source": [
        "m2"
      ]
    },
    {
      "cell_type": "markdown",
      "source": [
        "# Similarity 계산\n",
        "-------\n",
        "\n",
        "https://www.rdkit.org/docs/source/rdkit.DataStructs.html"
      ],
      "metadata": {
        "id": "g_IzKWvRMW-M"
      }
    },
    {
      "cell_type": "code",
      "source": [
        "# Similarity 계산을 위해서 Datastructs 모듈을 읽어들임.\n",
        "from rdkit import DataStructs "
      ],
      "metadata": {
        "id": "a2dYMN9S6Lwg"
      },
      "execution_count": 62,
      "outputs": []
    },
    {
      "cell_type": "markdown",
      "source": [
        "### Tanimoto similarity\n",
        "-----\n",
        "![picture](https://miro.medium.com/max/1200/0*LtCn9l019IeLViyP)\n",
        "\n",
        "![picture](https://images.deepai.org/glossary-terms/jaccard-index-9707615.jpg)\n",
        "\n",
        "Tanimoto similarity는 간단히 말해 교집합의 개수를 합집합의 개수로 나눈 것을 의미한다. \n",
        "\n",
        "이는 rdkit.DataStructs.FingerprintSimilarity 와 rdkit.DataStructs.TanimotoSimilarity 두 가지의 함수를 이용해서 계산할 수 있다. \n",
        "\n",
        "**주의: Morgan Fingerprint는 rdkit.DataStructs.FingerprintSimilarity를 이용해서 계산이 되지 않는다.** \n",
        "\n",
        "FingerprintSimilarity를 사용하기 위해서는 GetMorganFingerprintAsBitVect 함수를 이용해서 bit vector로 표현해야 한다. "
      ],
      "metadata": {
        "id": "Zl2tLygWNg5S"
      }
    },
    {
      "cell_type": "code",
      "execution_count": 63,
      "metadata": {
        "id": "V-fm7D1TMQxk"
      },
      "outputs": [],
      "source": [
        "# Tanimoto Coefficient 계산: DataStructs.FingerprintSimilarity, DataStructs.TanimotoSimilarity"
      ]
    },
    {
      "cell_type": "code",
      "execution_count": 64,
      "metadata": {
        "id": "qmfbRBCyMQxk",
        "outputId": "e747b54a-447f-438b-97af-791c060e2c93",
        "colab": {
          "base_uri": "https://localhost:8080/"
        }
      },
      "outputs": [
        {
          "output_type": "execute_result",
          "data": {
            "text/plain": [
              "0.16393442622950818"
            ]
          },
          "metadata": {},
          "execution_count": 64
        }
      ],
      "source": [
        "DataStructs.FingerprintSimilarity(fp1_bit, fp2_bit) # 0/1로 되어있는 fingerprint를 사용. "
      ]
    },
    {
      "cell_type": "markdown",
      "source": [
        "아래 계산은 error가 난다. \n",
        "\n",
        "왜냐하면, fp1과 fp2가 SparseIntVect 타입이기 때문이다. "
      ],
      "metadata": {
        "id": "szhFwOaN47Xx"
      }
    },
    {
      "cell_type": "code",
      "source": [
        "DataStructs.FingerprintSimilarity(fp1, fp2)"
      ],
      "metadata": {
        "colab": {
          "base_uri": "https://localhost:8080/",
          "height": 299
        },
        "id": "k55gdN4z3xHR",
        "outputId": "85971e8e-346b-4e6e-8eee-97416a8a27f3"
      },
      "execution_count": 65,
      "outputs": [
        {
          "output_type": "error",
          "ename": "AttributeError",
          "evalue": "ignored",
          "traceback": [
            "\u001b[0;31m---------------------------------------------------------------------------\u001b[0m",
            "\u001b[0;31mAttributeError\u001b[0m                            Traceback (most recent call last)",
            "\u001b[0;32m<ipython-input-65-fcf994fd0614>\u001b[0m in \u001b[0;36m<module>\u001b[0;34m\u001b[0m\n\u001b[0;32m----> 1\u001b[0;31m \u001b[0mDataStructs\u001b[0m\u001b[0;34m.\u001b[0m\u001b[0mFingerprintSimilarity\u001b[0m\u001b[0;34m(\u001b[0m\u001b[0mfp1\u001b[0m\u001b[0;34m,\u001b[0m \u001b[0mfp2\u001b[0m\u001b[0;34m)\u001b[0m\u001b[0;34m\u001b[0m\u001b[0;34m\u001b[0m\u001b[0m\n\u001b[0m",
            "\u001b[0;32m/usr/local/lib/python3.7/site-packages/rdkit/DataStructs/__init__.py\u001b[0m in \u001b[0;36mFingerprintSimilarity\u001b[0;34m(fp1, fp2, metric)\u001b[0m\n\u001b[1;32m     37\u001b[0m \u001b[0;34m\u001b[0m\u001b[0m\n\u001b[1;32m     38\u001b[0m     \"\"\"\n\u001b[0;32m---> 39\u001b[0;31m     \u001b[0msz1\u001b[0m \u001b[0;34m=\u001b[0m \u001b[0mfp1\u001b[0m\u001b[0;34m.\u001b[0m\u001b[0mGetNumBits\u001b[0m\u001b[0;34m(\u001b[0m\u001b[0;34m)\u001b[0m\u001b[0;34m\u001b[0m\u001b[0;34m\u001b[0m\u001b[0m\n\u001b[0m\u001b[1;32m     40\u001b[0m     \u001b[0msz2\u001b[0m \u001b[0;34m=\u001b[0m \u001b[0mfp2\u001b[0m\u001b[0;34m.\u001b[0m\u001b[0mGetNumBits\u001b[0m\u001b[0;34m(\u001b[0m\u001b[0;34m)\u001b[0m\u001b[0;34m\u001b[0m\u001b[0;34m\u001b[0m\u001b[0m\n\u001b[1;32m     41\u001b[0m     \u001b[0;32mif\u001b[0m \u001b[0msz1\u001b[0m \u001b[0;34m<\u001b[0m \u001b[0msz2\u001b[0m\u001b[0;34m:\u001b[0m\u001b[0;34m\u001b[0m\u001b[0;34m\u001b[0m\u001b[0m\n",
            "\u001b[0;31mAttributeError\u001b[0m: 'UIntSparseIntVect' object has no attribute 'GetNumBits'"
          ]
        }
      ]
    },
    {
      "cell_type": "markdown",
      "source": [
        "TanimotoSimilarity의 값은 위의 유사도 값과 동일하다. \n",
        "\n",
        "즉, FingerprintSimilarity의 기본은 TanimotoSimilarity이다. "
      ],
      "metadata": {
        "id": "nuIHi87h5DZY"
      }
    },
    {
      "cell_type": "code",
      "source": [
        "DataStructs.TanimotoSimilarity(fp1_bit, fp2_bit)"
      ],
      "metadata": {
        "colab": {
          "base_uri": "https://localhost:8080/"
        },
        "id": "vyXCmrZn3siZ",
        "outputId": "8f87230b-aa37-4c1d-91d0-2c5627afd83d"
      },
      "execution_count": 66,
      "outputs": [
        {
          "output_type": "execute_result",
          "data": {
            "text/plain": [
              "0.16393442622950818"
            ]
          },
          "metadata": {},
          "execution_count": 66
        }
      ]
    },
    {
      "cell_type": "markdown",
      "source": [
        "TanimotoSimilarity를 사용하는게 일반적이다."
      ],
      "metadata": {
        "id": "2jaiMRcspD6Y"
      }
    },
    {
      "cell_type": "code",
      "execution_count": 67,
      "metadata": {
        "id": "SQ9bbTSbMQxk"
      },
      "outputs": [],
      "source": [
        "#임의의 두개의 bit vector (0/1로 이루어진)에서 합집합: 둘 중에 하나라도 1인 경우에 1로 표현. "
      ]
    },
    {
      "cell_type": "code",
      "execution_count": 68,
      "metadata": {
        "id": "St1B5L3bMQxk"
      },
      "outputs": [],
      "source": [
        "#임의의 두개의 bit vector (0/1로 이루어진)에서 교집합 (interaction): 둘 다 1인 경우에 1로 표현. "
      ]
    },
    {
      "cell_type": "markdown",
      "source": [
        "### Dice simillarity\n",
        "![picture](https://wikimedia.org/api/rest_v1/media/math/render/svg/a80a97215e1afc0b222e604af1b2099dc9363d3b)"
      ],
      "metadata": {
        "id": "kxpoc5kvNVJc"
      }
    },
    {
      "cell_type": "code",
      "execution_count": 69,
      "metadata": {
        "id": "zrSQtRW8MQxj",
        "outputId": "eae2d8bc-1900-4747-a3ec-3a27f3dcfb7e",
        "colab": {
          "base_uri": "https://localhost:8080/"
        }
      },
      "outputs": [
        {
          "output_type": "execute_result",
          "data": {
            "text/plain": [
              "0.4"
            ]
          },
          "metadata": {},
          "execution_count": 69
        }
      ],
      "source": [
        "DataStructs.DiceSimilarity(fp1, fp2) # fp1과 fp2 사이의 Dice similarity 비교. "
      ]
    },
    {
      "cell_type": "markdown",
      "source": [
        "## 예제: drugs.smi 파일에서 첫번째 분자와 유사도 0.45 이상인 분자들을 찾아보자. \n"
      ],
      "metadata": {
        "id": "NhfFfJ-S755c"
      }
    },
    {
      "cell_type": "code",
      "source": [
        "from tqdm import tqdm\n",
        "fp1 = fps[0] # 첫번째 분자의 fingerprint\n",
        "for idx, fp in tqdm(enumerate(fps[1:])):\n",
        "  sim = DataStructs.TanimotoSimilarity(fp, fp1)\n",
        "  if sim > 0.45:\n",
        "    smiles = Chem.MolToSmiles(molecules[idx+1])\n",
        "    print(f\"\\nIndex: {idx}\\t{smiles} is highly similar to the first molecule: Tc = {sim:.3f}\")"
      ],
      "metadata": {
        "colab": {
          "base_uri": "https://localhost:8080/"
        },
        "id": "M1mxWDWuLSKq",
        "outputId": "cbd1bcd1-9b5a-4d78-94b7-9169b9f345d1"
      },
      "execution_count": 72,
      "outputs": [
        {
          "output_type": "stream",
          "name": "stderr",
          "text": [
            "599it [00:00, 146888.92it/s]"
          ]
        },
        {
          "output_type": "stream",
          "name": "stdout",
          "text": [
            "\n",
            "Index: 184\t[H]c1nc(C([H])([H])[H])n2c1C([H])([H])N=C(c1c([H])c([H])c([H])c([H])c1F)c1c([H])c(Cl)c([H])c([H])c1-2 is highly similar to the first molecule: Tc = 0.461\n",
            "\n",
            "Index: 415\t[H]c1c([H])c([H])c(C2=NC([H])([H])C(=O)N(C([H])([H])[H])c3c([H])c([H])c(Cl)c([H])c32)c([H])c1[H] is highly similar to the first molecule: Tc = 0.514\n"
          ]
        },
        {
          "output_type": "stream",
          "name": "stderr",
          "text": [
            "\n"
          ]
        }
      ]
    },
    {
      "cell_type": "markdown",
      "source": [
        "# Exercise\n",
        "-----\n",
        "**ECFP2**와 Tanimoto similariy 를 이용해서 유사도가 0.45 이상인 분자들의 pair 들을 찾아보자. \n",
        "\n",
        "앞서 얻은 결과와 어떻게 다른지 살펴보라. \n",
        "\n",
        "nbits=2048로 바꾸면 결과가 어떻게 달라지는지 확인해보라. "
      ],
      "metadata": {
        "id": "d7sl4RdW7aV3"
      }
    },
    {
      "cell_type": "code",
      "source": [
        "ecfp2_1024 = []\n",
        "for m in molecules:\n",
        "  fp = AllChem.GetMorganFingerprintAsBitVect(m,2, nBits=2048)\n",
        "  ecfp2_1024.append(fp)"
      ],
      "metadata": {
        "id": "ONjozdd254PR"
      },
      "execution_count": 73,
      "outputs": []
    },
    {
      "cell_type": "code",
      "source": [
        "fp0 = ecfp2_1024[0]\n",
        "for idx, fp in enumerate(ecfp2_1024[1:]):\n",
        "  sim = DataStructs.TanimotoSimilarity(fp0, fp)\n",
        "  if sim > 0.45 :\n",
        "    smiles = Chem.MolToSmiles(molecules[idx+1])\n",
        "    print(f\"\\nIndex: {idx}\\t{smiles} is highly similar to the first molecule: Tc = {sim:.3f}\")"
      ],
      "metadata": {
        "id": "3JEnFYPc71fB"
      },
      "execution_count": 78,
      "outputs": []
    },
    {
      "cell_type": "code",
      "source": [
        "fp0 = ecfp2_1024[0]\n",
        "for idx, fp in enumerate(ecfp2_1024[1:]):\n",
        "  sim = DataStructs.TanimotoSimilarity(fp0, fp)\n",
        "  if sim > 0.3 :\n",
        "    smiles = Chem.MolToSmiles(molecules[idx+1])\n",
        "    print(f\"\\nIndex: {idx}\\t{smiles} is highly similar to the first molecule: Tc = {sim:.3f}\")"
      ],
      "metadata": {
        "id": "xhCu8vQ7qHyG",
        "outputId": "2243a509-299c-4176-930f-823c7488d077",
        "colab": {
          "base_uri": "https://localhost:8080/"
        }
      },
      "execution_count": 79,
      "outputs": [
        {
          "output_type": "stream",
          "name": "stdout",
          "text": [
            "\n",
            "Index: 151\t[H]c1nc2c(c([H])c1[H])C(=O)N([H])c1c(nc([H])c([H])c1C([H])([H])[H])N2C1([H])C([H])([H])C1([H])[H] is highly similar to the first molecule: Tc = 0.302\n",
            "\n",
            "Index: 415\t[H]c1c([H])c([H])c(C2=NC([H])([H])C(=O)N(C([H])([H])[H])c3c([H])c([H])c(Cl)c([H])c32)c([H])c1[H] is highly similar to the first molecule: Tc = 0.362\n"
          ]
        }
      ]
    },
    {
      "cell_type": "code",
      "source": [],
      "metadata": {
        "id": "s9X98JyU6xwn"
      },
      "execution_count": null,
      "outputs": []
    }
  ],
  "metadata": {
    "kernelspec": {
      "display_name": "Python 3",
      "name": "python3"
    },
    "language_info": {
      "name": "python"
    },
    "colab": {
      "provenance": [],
      "collapsed_sections": [
        "YBIwwpUOMk43",
        "Jlp09atTrERF",
        "sWLCjJU0MtoL",
        "noRVcNwcM1jB",
        "2yPiUJnG1v9_",
        "7RXxV67315jE",
        "Kx4_DCLd55xP",
        "HsFPnO1C5Vtw",
        "kxpoc5kvNVJc"
      ],
      "machine_shape": "hm",
      "include_colab_link": true
    },
    "accelerator": "GPU"
  },
  "nbformat": 4,
  "nbformat_minor": 0
}