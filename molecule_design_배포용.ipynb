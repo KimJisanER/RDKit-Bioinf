{
  "cells": [
    {
      "cell_type": "markdown",
      "metadata": {
        "id": "view-in-github",
        "colab_type": "text"
      },
      "source": [
        "<a href=\"https://colab.research.google.com/github/KimJisanER/LAIDD/blob/main/molecule_design_%EB%B0%B0%ED%8F%AC%EC%9A%A9.ipynb\" target=\"_parent\"><img src=\"https://colab.research.google.com/assets/colab-badge.svg\" alt=\"Open In Colab\"/></a>"
      ]
    },
    {
      "cell_type": "code",
      "execution_count": 1,
      "id": "mGBzg9bbjN2p",
      "metadata": {
        "id": "mGBzg9bbjN2p",
        "colab": {
          "base_uri": "https://localhost:8080/"
        },
        "outputId": "0be42119-f9b1-4954-d63c-9f441fd07c09"
      },
      "outputs": [
        {
          "output_type": "stream",
          "name": "stdout",
          "text": [
            "Mounted at /content/drive\n"
          ]
        }
      ],
      "source": [
        "# 구글 드라이브 마운트 및 working directory 경로 설정하기\n",
        "from google.colab import drive\n",
        "drive.mount('/content/drive')\n",
        "path = '/content/drive/MyDrive/denovo/' # change the directory to yours"
      ]
    },
    {
      "cell_type": "code",
      "execution_count": 2,
      "id": "IbedibWhnbiB",
      "metadata": {
        "id": "IbedibWhnbiB",
        "colab": {
          "base_uri": "https://localhost:8080/"
        },
        "outputId": "9443e25d-6809-4f5e-c7fc-e1b86353679a"
      },
      "outputs": [
        {
          "output_type": "stream",
          "name": "stdout",
          "text": [
            "Looking in indexes: https://pypi.org/simple, https://us-python.pkg.dev/colab-wheels/public/simple/\n",
            "Collecting rdkit\n",
            "  Downloading rdkit-2022.3.5-cp37-cp37m-manylinux_2_17_x86_64.manylinux2014_x86_64.whl (36.8 MB)\n",
            "\u001b[K     |████████████████████████████████| 36.8 MB 1.2 MB/s \n",
            "\u001b[?25hRequirement already satisfied: numpy in /usr/local/lib/python3.7/dist-packages (from rdkit) (1.21.6)\n",
            "Requirement already satisfied: Pillow in /usr/local/lib/python3.7/dist-packages (from rdkit) (7.1.2)\n",
            "Installing collected packages: rdkit\n",
            "Successfully installed rdkit-2022.3.5\n"
          ]
        }
      ],
      "source": [
        "!pip install rdkit"
      ]
    },
    {
      "cell_type": "markdown",
      "id": "59359a16",
      "metadata": {
        "id": "59359a16"
      },
      "source": [
        "# 랜덤 시뮬레이션"
      ]
    },
    {
      "cell_type": "code",
      "execution_count": 3,
      "id": "53dc0c5e-2404-4574-9a08-6a01aec68463",
      "metadata": {
        "id": "53dc0c5e-2404-4574-9a08-6a01aec68463"
      },
      "outputs": [],
      "source": [
        "# building block과 reaction template 불러오기\n",
        "\n",
        "building_blocks = []\n",
        "reaction_templates = []\n",
        "with open(path+\"building_blocks.csv\") as fin:\n",
        "    for line in fin:\n",
        "        if line[0] == '#':\n",
        "            continue\n",
        "        content = line.rstrip('\\n').split(',')\n",
        "        smiles = content[1]\n",
        "        building_blocks.append(smiles)\n",
        "\n",
        "with open(path+\"reaction_templates.tsv\") as fin:\n",
        "    for line in fin:\n",
        "        if line[0] == '#':\n",
        "            continue\n",
        "        content = line.rstrip('\\n').split('\\t')\n",
        "        smart = content[1]\n",
        "        reaction_templates.append(smart)\n",
        "\n"
      ]
    },
    {
      "cell_type": "code",
      "execution_count": 4,
      "id": "d2479c8d",
      "metadata": {
        "id": "d2479c8d",
        "colab": {
          "base_uri": "https://localhost:8080/"
        },
        "outputId": "c8748c23-0828-491e-ae35-edcc01f6f328"
      },
      "outputs": [
        {
          "output_type": "stream",
          "name": "stdout",
          "text": [
            "the total number of building blocks = 100\n",
            "the total number of reaction templates = 64\n",
            "== sample building blocks ==\n",
            "CC#CCn1c(N2CCCC(NC(N)=O)C2)nc2c1c(=O)n(Cc1nc(C)c3ccccc3n1)c(=O)n2C\n",
            "CC#C[C@@H](CC(=O)O)c1ccc(OCc2cccc(-c3ccc(C(F)(F)F)cc3)c2)cc1\n",
            "CC#C[C@]1(O)CC[C@H]2[C@@H]3CCC4=CC(=O)CCC4=C3[C@@H](c3ccc(N(C)C)cc3)C[C@@]21C\n",
            "C#Cc1cccc(Nc2ncnc3cc(OCCOC)c(OCCOC)cc23)c1\n",
            "C#CCC1(C(=O)O)CCN(C(=O)OCC2c3ccccc3-c3ccccc32)CC1\n",
            "== sample reaction templates ==\n",
            "[$(C([CH2,CH3])),CH:10](=[O:11])-[NH+0:9]-[C$(C(N)(C)(C)(C)),C$([CH](N)(C)(C)),C$([CH2](N)(C)):8]-[C$(C(c)(C)(C)(C)),C$([CH](c)(C)(C)),C$([CH2](c)(C)):7]-[c:6]1[cH:1][c:2][c:3][c:4][c:5]1>>[C:10]-1=[N+0:9]-[C:8]-[C:7]-[c:6]2[c:5][c:4][c:3][c:2][c:1]-12\n",
            "[$(C([CH2,CH3])),CH:10](=[O:11])-[NH+0:9]-[C$([CH](N)(C)(C)),C$([CH2](N)(C)):8]-[C$([C](c)(C)(C)),C$([CH](c)(C)):7]([O$(OC),OH])-[c:6]1[cH:1][c:2][c:3][c:4][c:5]1>>[c:10]-1[n:9][c:8][c:7][c:6]2[c:5][c:4][c:3][c:2][c:1]-12\n",
            "[NH3+,NH2]-[C$(C(N)(C)(C)(C)),C$([CH](N)(C)(C)),C$([CH2](N)(C)):8]-[C$(C(c)(C)(C)(C)),C$([CH](c)(C)(C)),C$([CH2](c)(C)):7]-[c:6]1[c:1][c:2][c:3][c:4][cH:5]1.[CH:10](-[CX4:12])=[O:11]>>[c,C:12]-[CH:10]-1-[N]-[C:8]-[C:7]-[c:6]2[c:1][c:2][c:3][c:4][c:5]-12\n",
            "[NH3+,NH2]-[C$(C(N)(C)(C)(C)),C$([CH](N)(C)(C)),C$([CH2](N)(C)):8]-[C$(C(c)(C)(C)(C)),C$([CH](c)(C)(C)),C$([CH2](c)(C)):7]-[c:6]1[c:1][c:2][nH:3][cH:5]1.[CH:10](-[CX4:12])=[O:11]>>[c,C:12]-[CH:10]-1-[N]-[C:8]-[C:7]-[c:6]2[c:1][c:2][nH:3][c:5]-12\n",
            "[NH2,NH3+1:8]-[c:5]1[cH:4][c:3][c:2][c:1][c:6]1.[Br:18][C$([CH2](C)(Br)),C$([CH](C)(C)(Br)):17]-[C:15](=[O:16])-[c:10]1[c:11][c:12][c:13][c:14][c:9]1>>[c:13]1[c:12][c:11][c:10]([c:9][c:14]1)-[c:15]1[c:17][c:4]2[c:3][c:2][c:1][c:6][c:5]2[nH+0:8]1\n"
          ]
        }
      ],
      "source": [
        "print(f\"the total number of building blocks = {len(building_blocks)}\")\n",
        "print(f\"the total number of reaction templates = {len(reaction_templates)}\")\n",
        "print(\"== sample building blocks ==\")\n",
        "print('\\n'.join(building_blocks[0:5]))\n",
        "print(\"== sample reaction templates ==\")\n",
        "print('\\n'.join(reaction_templates[0:5]))"
      ]
    },
    {
      "cell_type": "code",
      "execution_count": 5,
      "id": "4390153f",
      "metadata": {
        "id": "4390153f"
      },
      "outputs": [],
      "source": [
        "# 합성식에서 입력/출력되는 물질의 개수를 확인하는 함수를 정의하자\n",
        "\n",
        "def count_reactants(reaction_template):\n",
        "    try:\n",
        "        split_template = reaction_template.split('>')\n",
        "        # '>>' 으로 split 하지 않는 이유는 중간 합성이 있는 경우가 있기 때문\n",
        "        # 예를 들어, A.B>C.D>E\n",
        "        input_template = split_template[0]\n",
        "        output_template = split_template[-1]\n",
        "    except:\n",
        "        print(reaction_template)\n",
        "    # 합성식에서 물질은 '.'으로 구분되므로\n",
        "    input_count = len(input_template.split('.'))\n",
        "    output_count = len(output_template.split('.'))\n",
        "\n",
        "    return input_count, output_count\n"
      ]
    },
    {
      "cell_type": "code",
      "execution_count": 6,
      "id": "a63cd6f9",
      "metadata": {
        "id": "a63cd6f9",
        "colab": {
          "base_uri": "https://localhost:8080/"
        },
        "outputId": "dfb9004a-8b26-44f5-9da8-fc8557b00071"
      },
      "outputs": [
        {
          "output_type": "stream",
          "name": "stdout",
          "text": [
            "2 1\n",
            "1 1\n"
          ]
        }
      ],
      "source": [
        "# 입력/출력 물질 개수의 최대값/최소값을 확인해 보자\n",
        "import numpy as np\n",
        "\n",
        "max_input, max_output = 0, 0\n",
        "min_input, min_output = np.inf, np.inf  # np.inf 는 무한대를 의미\n",
        "for template in reaction_templates:\n",
        "    num_in, num_out = count_reactants(template)\n",
        "    max_input = num_in if num_in > max_input else max_input\n",
        "    max_output = num_out if num_out > max_output else max_output\n",
        "    min_input = num_in if num_in < min_input else min_input\n",
        "    min_output = num_out if num_out < min_output else min_output\n",
        "\n",
        "print(max_input, max_output)\n",
        "print(min_input, min_output)\n",
        "\n",
        "# 입력 물질은 최대 2개이고 결과물은 항상 하나 뿐이라는 것을 확인"
      ]
    },
    {
      "cell_type": "code",
      "execution_count": 13,
      "id": "33ecfdbe",
      "metadata": {
        "id": "33ecfdbe"
      },
      "outputs": [],
      "source": [
        "# 주어진 reaction 과 입력 물질들에 대해 sanitized 된 물질을 반환하는 함수\n",
        "from rdkit import Chem\n",
        "\n",
        "def get_sanitized_smiles(reaction, blocks):\n",
        "    sanitized_smiles = []\n",
        "    all_products = reaction.RunReactants(blocks)\n",
        "    for product in all_products:\n",
        "        try:\n",
        "            [Chem.SanitizeMol(mol) for mol in product]\n",
        "            smiles = Chem.MolToSmiles(product[0])\n",
        "            # 왜 product 뒤에 [0] 이 붙는지 생각해 보자\n",
        "            sanitized_smiles.append(smiles)\n",
        "        except ValueError:\n",
        "            continue\n",
        "\n",
        "    return sanitized_smiles  # sanitization 에 실패했다면 빈 list 반환"
      ]
    },
    {
      "cell_type": "code",
      "execution_count": 8,
      "id": "3641d550",
      "metadata": {
        "id": "3641d550"
      },
      "outputs": [],
      "source": [
        "# 어떤 화합물 (target_compound) 에 대해\n",
        "# 가능한 모든 reation_template 과 building_block을 시뮬레이션해서 성공한 product를 반환\n",
        "\n",
        "import random\n",
        "from rdkit.Chem import AllChem\n",
        "\n",
        "\n",
        "def get_simulated_smiles(target_compound, reaction_templates, reactant_blocks):\n",
        "    # 매번 random 한 template을 가져오기 위해 순서를 섞는다\n",
        "    simulated_smiles = []\n",
        "    random.shuffle(reaction_templates)\n",
        "    for template in reaction_templates:\n",
        "        num_in, _ = count_reactants(template)  # 입력 물질 개수 확인\n",
        "        reaction = AllChem.ReactionFromSmarts(template)\n",
        "\n",
        "        if num_in == 1:\n",
        "            smiles = get_sanitized_smiles(reaction, (target_compound,))\n",
        "            if smiles:\n",
        "                simulated_smiles += smiles\n",
        "\n",
        "        elif num_in == 2:\n",
        "            random.shuffle(reactant_blocks)\n",
        "            for reactant in reactant_blocks:\n",
        "                smiles = get_sanitized_smiles(reaction, (target_compound, reactant))\n",
        "                if smiles:\n",
        "                    simulated_smiles += smiles\n",
        "\n",
        "    return simulated_smiles  # 그 어떤 반응도 불가능하다면 빈 list 반환"
      ]
    },
    {
      "cell_type": "code",
      "execution_count": 14,
      "id": "a8f65dee",
      "metadata": {
        "id": "a8f65dee"
      },
      "outputs": [],
      "source": [
        "# 초기 구조들을 최대 5번까지 합성을 하는 랜덤 시뮬레이션\n",
        "\n",
        "from rdkit import Chem\n",
        "\n",
        "\n",
        "product_pool = set()\n",
        "selected_products = set() \n",
        "reactant_blocks = [Chem.MolFromSmiles(block) for block in building_blocks]\n",
        "reaction_count = {  # 최대 합성 횟수 저장 dictionary\n",
        "    0: 0,\n",
        "    1: 0,\n",
        "    2: 0,\n",
        "    3: 0,\n",
        "    4: 0,\n",
        "    5: 0,\n",
        "}\n",
        "\n",
        "max_reaction = 5  # 한 물질 당 최대 5번까지 합성\n",
        "for block in building_blocks:\n",
        "    current_block = Chem.MolFromSmiles(block)\n",
        "    for current_reaction in range(1, max_reaction+1):\n",
        "        smiles = get_simulated_smiles(\n",
        "            current_block,\n",
        "            reaction_templates,\n",
        "            reactant_blocks,\n",
        "        )\n",
        "\n",
        "        if smiles:\n",
        "            product_pool.update(smiles)\n",
        "            selected_smiles = smiles[0]\n",
        "            # 여기서는 random simulation 이므로 첫번째 smiles 선택\n",
        "            # 최적화를 하고 싶다면 여기서 Best smiles 를 선택\n",
        "            selected_products.add(selected_smiles)\n",
        "            current_block = Chem.MolFromSmiles(selected_smiles)\n",
        "\n",
        "            if current_reaction == max_reaction:\n",
        "                reaction_count[current_reaction] += 1\n",
        "        else:\n",
        "            reaction_count[current_reaction-1] += 1  # 최대 합성 횟수 기록\n",
        "            break  # 더 이상 합성이 불가능하므로\n"
      ]
    },
    {
      "cell_type": "code",
      "execution_count": 10,
      "id": "ac52507a",
      "metadata": {
        "id": "ac52507a"
      },
      "outputs": [],
      "source": [
        "# 결과를 저장 (product_pool, selected_products, reaction_count)\n",
        "import os\n",
        "\n",
        "\n",
        "os.makedirs(path+\"result\", exist_ok=True)\n",
        "\n",
        "product_path = path+\"result/product_smiles.txt\"\n",
        "selected_path = path+\"result/selected_smiles.txt\"\n",
        "count_path = path+\"result/reaction_count.txt\"\n",
        "\n",
        "with open(product_path, 'w') as fout:\n",
        "    fout.write(\"#SMILES\\n\")\n",
        "    for product in product_pool:\n",
        "        fout.write(product + '\\n')\n",
        "\n",
        "with open(selected_path, 'w') as fout:\n",
        "    fout.write(\"#SMILES\\n\")\n",
        "    for product in selected_products:\n",
        "        fout.write(product + '\\n')\n",
        "\n",
        "with open(count_path, 'w') as fout:\n",
        "    fout.write(\"#Reaction\\tCount\\n\")\n",
        "    for key in reaction_count:\n",
        "        fout.write(f\"{key}\\t{reaction_count[key]}\\n\")\n"
      ]
    },
    {
      "cell_type": "markdown",
      "id": "3221f8c4",
      "metadata": {
        "id": "3221f8c4"
      },
      "source": [
        "# QED 를 최적화하는 방향으로 합성 시뮬레이션\n",
        "여기서는 여러분이 virtual screening을 통해 찾은 lead의 QED score를 최적화 할 것입니다."
      ]
    },
    {
      "cell_type": "code",
      "execution_count": 11,
      "id": "Ds-3VFuXq-En",
      "metadata": {
        "id": "Ds-3VFuXq-En"
      },
      "outputs": [],
      "source": [
        "# QED score를 계산하는 함수를 정의\n",
        "\n",
        "from rdkit import Chem\n",
        "from rdkit.Chem import QED\n",
        "\n",
        "def get_QED(smiles):\n",
        "    mol = Chem.rdmolfiles.MolFromSmiles(smiles)\n",
        "    qed_value = QED.qed(mol)\n",
        "    return qed_value"
      ]
    },
    {
      "cell_type": "code",
      "execution_count": 12,
      "id": "Oj7g9XfbqAN6",
      "metadata": {
        "id": "Oj7g9XfbqAN6"
      },
      "outputs": [],
      "source": [
        "# 초기 구조들을 최대 5번까지 합성을 해서 QED 가 높은 물질 선정\n",
        "\n",
        "from rdkit import Chem\n",
        "\n",
        "\n",
        "product_pool = set()\n",
        "selected_products = set()\n",
        "reactant_blocks = [Chem.MolFromSmiles(block) for block in building_blocks]\n",
        "reaction_count = {  # 최대 합성 횟수 저장 dictionary\n",
        "    0: 0,\n",
        "    1: 0,\n",
        "    2: 0,\n",
        "    3: 0,\n",
        "    4: 0,\n",
        "    5: 0,\n",
        "}\n",
        "\n",
        "max_reaction = 5  # 한 물질 당 최대 5번까지 합성\n",
        "for block in building_blocks: # change to lead smiles\n",
        "    current_block = Chem.MolFromSmiles(block)\n",
        "    initial_qed = get_QED(block)\n",
        "    for current_reaction in range(1, max_reaction+1):\n",
        "        smiles = get_simulated_smiles(\n",
        "            current_block,\n",
        "            reaction_templates,\n",
        "            reactant_blocks,\n",
        "        )\n",
        "        if smiles:\n",
        "            product_pool.update(smiles)\n",
        "            # smiles에 있는 molecule 중에서 가장 QED score가 높은 것을 찾아야 함\n",
        "            best_qed_score = 0                       ### best_qed_score를 0으로 초기화함\n",
        "            for smi in smiles:                       ### \"smiles\"에 대해 for loop를 돌면서,\n",
        "              current_qed_score = get_QED(smi)       ### smi의 qed score를 계산하고\n",
        "              if current_qed_score > best_qed_score: ### 만약 smi의 qed score가 best score보다 높다면,\n",
        "                  best_qed_score = current_qed_score ### best score를 smi의 score로 갱신하고,\n",
        "                  selected_smiles = smi              ### selected_smiles를 smi로 지정\n",
        "            if best_qed_score > initial_qed:  # 초기 물질보다 생성된 물질의 QED가 높아진 경우에만 저장한다\n",
        "                selected_products.add(selected_smiles)\n",
        "            current_block = Chem.MolFromSmiles(selected_smiles)\n",
        "\n",
        "            if current_reaction == max_reaction:\n",
        "                reaction_count[current_reaction] += 1\n",
        "        else:\n",
        "            reaction_count[current_reaction-1] += 1  # 최대 합성 횟수 기록\n",
        "            break  # 더 이상 합성이 불가능하므로"
      ]
    },
    {
      "cell_type": "code",
      "execution_count": 15,
      "id": "mDrtMKvevTe4",
      "metadata": {
        "id": "mDrtMKvevTe4"
      },
      "outputs": [],
      "source": [
        "# 결과를 저장 (product_pool, selected_products, reaction_count)\n",
        "import os\n",
        "\n",
        "\n",
        "os.makedirs(path+\"result_qed\", exist_ok=True)\n",
        "\n",
        "product_path = path+\"result_qed/product_smiles.txt\"\n",
        "selected_path = path+\"result_qed/selected_smiles.txt\"\n",
        "count_path = path+\"result_qed/reaction_count.txt\"\n",
        "\n",
        "with open(product_path, 'w') as fout:\n",
        "    fout.write(\"#SMILES\\n\")\n",
        "    for product in product_pool:\n",
        "        fout.write(product + '\\n')\n",
        "\n",
        "with open(selected_path, 'w') as fout:\n",
        "    fout.write(\"#SMILES\\n\")\n",
        "    for product in selected_products:\n",
        "        fout.write(product + '\\n')\n",
        "\n",
        "with open(count_path, 'w') as fout:\n",
        "    fout.write(\"#Reaction\\tCount\\n\")\n",
        "    for key in reaction_count:\n",
        "        fout.write(f\"{key}\\t{reaction_count[key]}\\n\")\n"
      ]
    },
    {
      "cell_type": "code",
      "execution_count": 16,
      "id": "qDjVDFR1G5V4",
      "metadata": {
        "id": "qDjVDFR1G5V4",
        "colab": {
          "base_uri": "https://localhost:8080/",
          "height": 319
        },
        "outputId": "7ec11dec-170b-4faa-c952-b0b4195b79c7"
      },
      "outputs": [
        {
          "output_type": "stream",
          "name": "stdout",
          "text": [
            "Mean score of output: 0.2556788351695346\n",
            "Mean score of input: 0.6130560219067653\n"
          ]
        },
        {
          "output_type": "execute_result",
          "data": {
            "text/plain": [
              "(0.0, 1.0)"
            ]
          },
          "metadata": {},
          "execution_count": 16
        },
        {
          "output_type": "display_data",
          "data": {
            "text/plain": [
              "<Figure size 432x288 with 2 Axes>"
            ],
            "image/png": "[encoded data removed]"
          },
          "metadata": {
            "needs_background": "light"
          }
        }
      ],
      "source": [
        "# input molecule과 output molecule의 QED score를 histogram으로 나타내보자.\n",
        "\n",
        "qed_scores_output = []\n",
        "qed_scores_input = []\n",
        "for smi_out, smi_in in zip(selected_products, building_blocks):\n",
        "    qed_scores_output.append(get_QED(smi_out))\n",
        "    qed_scores_input.append(get_QED(smi_in))\n",
        "\n",
        "\n",
        "import matplotlib.pyplot as plt\n",
        "\n",
        "print(f\"Mean score of output: {np.mean(qed_scores_output)}\")\n",
        "print(f\"Mean score of input: {np.mean(qed_scores_input)}\")\n",
        "plt.subplot(2,1,1)\n",
        "plt.hist(qed_scores_output, bins=np.arange(0,1,0.1))\n",
        "plt.xlim(0,1)\n",
        "plt.subplot(2,1,2)\n",
        "plt.hist(qed_scores_input, bins=np.arange(0,1,0.1))\n",
        "plt.xlim(0,1)"
      ]
    },
    {
      "cell_type": "markdown",
      "id": "0e9511ca",
      "metadata": {
        "id": "0e9511ca"
      },
      "source": [
        "# Target 과의 결합을 최적화하는 방향으로 합성 시뮬레이션"
      ]
    },
    {
      "cell_type": "code",
      "execution_count": 17,
      "id": "s7s6IDpO803M",
      "metadata": {
        "id": "s7s6IDpO803M",
        "colab": {
          "base_uri": "https://localhost:8080/"
        },
        "outputId": "5e6c94fa-b50f-4834-b3b3-32b59d2c2e0a"
      },
      "outputs": [
        {
          "output_type": "stream",
          "name": "stdout",
          "text": [
            "0.7643390394578734\n"
          ]
        }
      ],
      "source": [
        "# JAK2 와의 결합을 최적하는 방향으로 합성 시뮬레이션\n",
        "\n",
        "# 09.29일에 했던 수업과 동일한 방식으로 RandomForest 기반 QSAR 모델을 생성하고 학습함. \n",
        "import pandas as pd\n",
        "import sklearn\n",
        "from sklearn.model_selection import train_test_split\n",
        "from sklearn.ensemble import RandomForestRegressor\n",
        "from sklearn.metrics import mean_squared_error\n",
        "\n",
        "# Train QSAR model of JAK2 pIC50 prediction\n",
        "data = pd.read_csv(path+\"JAK2_Chembl.csv\")\n",
        "smiles = data['Smiles']        # Input 값은 SMILES\n",
        "pic50 = data['pChEMBL Value']\n",
        "\n",
        "X = []\n",
        "for i in smiles:\n",
        "  mol = Chem.MolFromSmiles(i)\n",
        "  fp = AllChem.GetMorganFingerprintAsBitVect(mol, 2, nBits=1024)\n",
        "  fp = np.array(fp)\n",
        "  X.append(fp)\n",
        "\n",
        "X_train, X_test, y_train, y_test = sklearn.model_selection.train_test_split(X, pic50, test_size=0.1, random_state=42)\n",
        "\n",
        "rf_model = RandomForestRegressor() # 빈 모델을 생성\n",
        "rf_model.fit(X_train, y_train) # Training set 으로 학습을 진행\n",
        "y_pred = rf_model.predict(X_test) # Test set 의 Feature (ECFP)로 Target value들을 예측\n",
        "mse = mean_squared_error(y_test, y_pred)\n",
        "print(mse)"
      ]
    },
    {
      "cell_type": "code",
      "execution_count": 18,
      "id": "7YEVXkpt5yDy",
      "metadata": {
        "id": "7YEVXkpt5yDy"
      },
      "outputs": [],
      "source": [
        "# 학습된 RF-QSAR모델을 이용해 pIC50 예측값을 불러오는 함수를 정의\n",
        "\n",
        "def get_QSARScore(smiles):\n",
        "    fp = AllChem.GetMorganFingerprintAsBitVect(Chem.MolFromSmiles(smiles), radius=2, nBits=1024)\n",
        "    return rf_model.predict([fp])"
      ]
    },
    {
      "cell_type": "code",
      "execution_count": 19,
      "id": "gd5_WMr8qDsB",
      "metadata": {
        "id": "gd5_WMr8qDsB"
      },
      "outputs": [],
      "source": [
        "# 초기 구조들을 최대 5번까지 합성을 해서 QSAR score 가 높은 물질 선정\n",
        "\n",
        "from rdkit import Chem\n",
        "\n",
        "\n",
        "product_pool = set()\n",
        "selected_products = set()\n",
        "reactant_blocks = [Chem.MolFromSmiles(block) for block in building_blocks]\n",
        "reaction_count = {  # 최대 합성 횟수 저장 dictionary\n",
        "    0: 0,\n",
        "    1: 0,\n",
        "    2: 0,\n",
        "    3: 0,\n",
        "    4: 0,\n",
        "    5: 0,\n",
        "}\n",
        "\n",
        "max_reaction = 5  # 한 물질 당 최대 5번까지 합성\n",
        "for block in building_blocks:\n",
        "    current_block = Chem.MolFromSmiles(block)\n",
        "    inital_qsar_score = get_QSARScore(block)\n",
        "    for current_reaction in range(1, max_reaction+1):\n",
        "        smiles = get_simulated_smiles(\n",
        "            current_block,\n",
        "            reaction_templates,\n",
        "            reactant_blocks,\n",
        "        )\n",
        "        if smiles:\n",
        "            product_pool.update(smiles)\n",
        "            best_qsar_score = 0                         ### best_qed_score를 0으로 초기화함\n",
        "            for smi in smiles:                          ### \"smiles\"에 대해 for loop를 돌면서,\n",
        "              current_qsar_score = get_QSARScore(smi)   ### smi의 qsar score를 계산하고\n",
        "              if current_qsar_score > best_qsar_score:  ### 만약 smi의 qsar score가 best score보다 높다면,\n",
        "                  best_qsar_score = current_qsar_score  ### best score를 smi의 score로 갱신하고,\n",
        "                  selected_smiles = smi                 ### selected_smiles를 smi로 지정\n",
        "            if best_qsar_score > inital_qsar_score:  # QSAR 점수가 초기 구조보다 높으면 저장\n",
        "                selected_products.add(selected_smiles)\n",
        "            current_block = Chem.MolFromSmiles(selected_smiles)\n",
        "\n",
        "            if current_reaction == max_reaction:\n",
        "                reaction_count[current_reaction] += 1\n",
        "        else:\n",
        "            reaction_count[current_reaction-1] += 1  # 최대 합성 횟수 기록\n",
        "            break  # 더 이상 합성이 불가능하므로"
      ]
    },
    {
      "cell_type": "code",
      "execution_count": 20,
      "id": "DiWCVIaM6Qj5",
      "metadata": {
        "id": "DiWCVIaM6Qj5"
      },
      "outputs": [],
      "source": [
        "# 결과를 저장 (product_pool, selected_products, reaction_count)\n",
        "import os\n",
        "\n",
        "\n",
        "os.makedirs(path+\"result_qsar\", exist_ok=True)\n",
        "\n",
        "product_path = path+\"result_qsar/product_smiles.txt\"\n",
        "selected_path = path+\"result_qsar/selected_smiles.txt\"\n",
        "count_path = path+\"result_qsar/reaction_count.txt\"\n",
        "\n",
        "with open(product_path, 'w') as fout:\n",
        "    fout.write(\"#SMILES\\n\")\n",
        "    for product in product_pool:\n",
        "        fout.write(product + '\\n')\n",
        "\n",
        "with open(selected_path, 'w') as fout:\n",
        "    fout.write(\"#SMILES\\n\")\n",
        "    for product in selected_products:\n",
        "        fout.write(product + '\\n')\n",
        "\n",
        "with open(count_path, 'w') as fout:\n",
        "    fout.write(\"#Reaction\\tCount\\n\")\n",
        "    for key in reaction_count:\n",
        "        fout.write(f\"{key}\\t{reaction_count[key]}\\n\")\n"
      ]
    },
    {
      "cell_type": "code",
      "execution_count": 21,
      "id": "oNfZ_FcLJVrn",
      "metadata": {
        "id": "oNfZ_FcLJVrn",
        "colab": {
          "base_uri": "https://localhost:8080/",
          "height": 319
        },
        "outputId": "b6b6181a-969d-431b-8be5-a2b594d25bd7"
      },
      "outputs": [
        {
          "output_type": "stream",
          "name": "stdout",
          "text": [
            "Mean score of output: 7.184102580749805\n",
            "Mean score of input: 6.2380616344201165\n"
          ]
        },
        {
          "output_type": "execute_result",
          "data": {
            "text/plain": [
              "(4.0, 10.0)"
            ]
          },
          "metadata": {},
          "execution_count": 21
        },
        {
          "output_type": "display_data",
          "data": {
            "text/plain": [
              "<Figure size 432x288 with 2 Axes>"
            ],
            "image/png": "[encoded data removed]"
          },
          "metadata": {
            "needs_background": "light"
          }
        }
      ],
      "source": [
        "# input molecule과 output molecule의 QSAR score를 histogram으로 나타내보자.\n",
        "\n",
        "qsar_scores_output = []\n",
        "qsar_scores_input = []\n",
        "for smi_out, smi_in in zip(selected_products, building_blocks):\n",
        "  qsar_scores_output.append(get_QSARScore(smi_out))\n",
        "  qsar_scores_input.append(get_QSARScore(smi_in))\n",
        "qsar_scores_output = np.array(qsar_scores_output).flatten()\n",
        "qsar_scores_input = np.array(qsar_scores_input).flatten()\n",
        "\n",
        "import matplotlib.pyplot as plt\n",
        "\n",
        "print(f\"Mean score of output: {qsar_scores_output.mean()}\")\n",
        "print(f\"Mean score of input: {qsar_scores_input.mean()}\")\n",
        "plt.subplot(2,1,1)\n",
        "plt.hist(qsar_scores_output, bins=np.arange(4,10,0.1))\n",
        "plt.xlim(4,10)\n",
        "plt.subplot(2,1,2)\n",
        "plt.hist(qsar_scores_input, bins=np.arange(4,10,0.1))\n",
        "plt.xlim(4,10)"
      ]
    },
    {
      "cell_type": "markdown",
      "id": "1d447634",
      "metadata": {
        "id": "1d447634"
      },
      "source": [
        "# QED 와 QSAR 를 모두 만족하는 물질 생성"
      ]
    },
    {
      "cell_type": "code",
      "execution_count": 22,
      "id": "lxEx9rStSVHF",
      "metadata": {
        "id": "lxEx9rStSVHF"
      },
      "outputs": [],
      "source": [
        "# QSAR 점수의 정규화(normalization)\n",
        "def NormQSARScore(qsar_score):\n",
        "    min_score = pic50.min()\n",
        "    max_score = pic50.max()\n",
        "    norm_qsar_score = (qsar_score-min_score)/(max_score-min_score)\n",
        "    return norm_qsar_score"
      ]
    },
    {
      "cell_type": "code",
      "execution_count": 23,
      "id": "6bde1973",
      "metadata": {
        "id": "6bde1973"
      },
      "outputs": [],
      "source": [
        "def combined_score(smi):\n",
        "    return get_QED(smi) * 0.5 + NormQSARScore(get_QSARScore(smi)) * 0.5"
      ]
    },
    {
      "cell_type": "code",
      "execution_count": 24,
      "id": "GAAR2l6PqEI0",
      "metadata": {
        "id": "GAAR2l6PqEI0"
      },
      "outputs": [],
      "source": [
        "# 초기 구조들을 최대 5번까지 합성을 해서 QED와 QSAR 가 높은 물질 선정\n",
        "from rdkit import Chem\n",
        "\n",
        "\n",
        "product_pool = set()\n",
        "selected_products = set()\n",
        "reactant_blocks = [Chem.MolFromSmiles(block) for block in building_blocks]\n",
        "reaction_count = {  # 최대 합성 횟수 저장 dictionary\n",
        "    0: 0,\n",
        "    1: 0,\n",
        "    2: 0,\n",
        "    3: 0,\n",
        "    4: 0,\n",
        "    5: 0,\n",
        "}\n",
        "\n",
        "max_reaction = 5  # 한 물질 당 최대 5번까지 합성\n",
        "for block in building_blocks:\n",
        "    current_block = Chem.MolFromSmiles(block)\n",
        "    initial_score = combined_score(block)\n",
        "    for current_reaction in range(1, max_reaction+1):\n",
        "        smiles = get_simulated_smiles(\n",
        "            current_block,\n",
        "            reaction_templates,\n",
        "            reactant_blocks,\n",
        "        )\n",
        "        if smiles:\n",
        "            product_pool.update(smiles)               \n",
        "            best_score = 0                                      ### best_qed_score를 0으로 초기화함\n",
        "            for smi in smiles:                                  ### \"smiles\"에 대해 for loop를 돌면서,\n",
        "              current_score = combined_score(smi)   ### smi의 (QED+QSAR) score를 계산하고\n",
        "              if current_score > best_score:                    ### 만약 smi의 score가 best score보다 높다면,\n",
        "                  best_score = current_score                    ### best score를 smi의 score로 갱신하고,\n",
        "                  selected_smiles = smi                         ### selected_smiles를 smi로 지정\n",
        "            if best_score > initial_score:\n",
        "                selected_products.add(selected_smiles)\n",
        "            current_block = Chem.MolFromSmiles(selected_smiles)\n",
        "\n",
        "            if current_reaction == max_reaction:\n",
        "                reaction_count[current_reaction] += 1\n",
        "        else:\n",
        "            reaction_count[current_reaction-1] += 1  # 최대 합성 횟수 기록\n",
        "            break  # 더 이상 합성이 불가능하므로"
      ]
    },
    {
      "cell_type": "code",
      "execution_count": 25,
      "id": "IYxumNDJiRK7",
      "metadata": {
        "id": "IYxumNDJiRK7"
      },
      "outputs": [],
      "source": [
        "# 결과를 저장 (product_pool, selected_products, reaction_count)\n",
        "import os\n",
        "\n",
        "\n",
        "os.makedirs(path+\"result_qed_qsar\", exist_ok=True)\n",
        "\n",
        "product_path = path+\"result_qed_qsar/product_smiles.txt\"\n",
        "selected_path = path+\"result_qed_qsar/selected_smiles.txt\"\n",
        "count_path = path+\"result_qed_qsar/reaction_count.txt\"\n",
        "\n",
        "with open(product_path, 'w') as fout:\n",
        "    fout.write(\"#SMILES\\n\")\n",
        "    for product in product_pool:\n",
        "        fout.write(product + '\\n')\n",
        "\n",
        "with open(selected_path, 'w') as fout:\n",
        "    fout.write(\"#SMILES\\n\")\n",
        "    for product in selected_products:\n",
        "        fout.write(product + '\\n')\n",
        "\n",
        "with open(count_path, 'w') as fout:\n",
        "    fout.write(\"#Reaction\\tCount\\n\")\n",
        "    for key in reaction_count:\n",
        "        fout.write(f\"{key}\\t{reaction_count[key]}\\n\")\n"
      ]
    },
    {
      "cell_type": "code",
      "execution_count": 26,
      "id": "0a78c10b",
      "metadata": {
        "id": "0a78c10b",
        "colab": {
          "base_uri": "https://localhost:8080/",
          "height": 319
        },
        "outputId": "0e28b6bf-374a-46a3-bd35-e308ac60eabf"
      },
      "outputs": [
        {
          "output_type": "stream",
          "name": "stdout",
          "text": [
            "Mean score of output: 6.669661445367957\n",
            "Mean score of input: 6.224537785335537\n"
          ]
        },
        {
          "output_type": "execute_result",
          "data": {
            "text/plain": [
              "(4.0, 10.0)"
            ]
          },
          "metadata": {},
          "execution_count": 26
        },
        {
          "output_type": "display_data",
          "data": {
            "text/plain": [
              "<Figure size 432x288 with 2 Axes>"
            ],
            "image/png": "[encoded data removed]"
          },
          "metadata": {
            "needs_background": "light"
          }
        }
      ],
      "source": [
        "# 합성 전후 QSAR score 분포 확인\n",
        "\n",
        "import matplotlib.pyplot as plt\n",
        "\n",
        "qsar_scores_output = []\n",
        "qsar_scores_input = []\n",
        "for smi_out, smi_in in zip(selected_products, building_blocks):\n",
        "  qsar_scores_output.append(get_QSARScore(smi_out))\n",
        "  qsar_scores_input.append(get_QSARScore(smi_in))\n",
        "qsar_scores_output = np.array(qsar_scores_output)\n",
        "qsar_scores_input = np.array(qsar_scores_input)\n",
        "\n",
        "print(f\"Mean score of output: {qsar_scores_output.mean()}\")\n",
        "print(f\"Mean score of input: {qsar_scores_input.mean()}\")\n",
        "plt.subplot(2,1,1)\n",
        "plt.hist(qsar_scores_output, bins=np.arange(4,10,0.1))\n",
        "plt.xlim(4,10)\n",
        "plt.subplot(2,1,2)\n",
        "plt.hist(qsar_scores_input, bins=np.arange(4,10,0.1))\n",
        "plt.xlim(4,10)"
      ]
    },
    {
      "cell_type": "code",
      "execution_count": 27,
      "id": "c33a6d22",
      "metadata": {
        "id": "c33a6d22",
        "colab": {
          "base_uri": "https://localhost:8080/",
          "height": 319
        },
        "outputId": "009f4f23-0253-4692-fee4-9e587c5e6669"
      },
      "outputs": [
        {
          "output_type": "stream",
          "name": "stdout",
          "text": [
            "Mean score of output: 0.6483381924275124\n",
            "Mean score of input: 0.6117703184290393\n"
          ]
        },
        {
          "output_type": "execute_result",
          "data": {
            "text/plain": [
              "(0.0, 1.0)"
            ]
          },
          "metadata": {},
          "execution_count": 27
        },
        {
          "output_type": "display_data",
          "data": {
            "text/plain": [
              "<Figure size 432x288 with 2 Axes>"
            ],
            "image/png": "[encoded data removed]"
          },
          "metadata": {
            "needs_background": "light"
          }
        }
      ],
      "source": [
        "# 합성 전후 QED score 분포 확인\n",
        "\n",
        "import matplotlib.pyplot as plt\n",
        "\n",
        "qed_scores_output = []\n",
        "qed_scores_input = []\n",
        "for smi_out, smi_in in zip(selected_products, building_blocks):\n",
        "    qed_scores_output.append(get_QED(smi_out))\n",
        "    qed_scores_input.append(get_QED(smi_in))\n",
        "\n",
        "print(f\"Mean score of output: {np.mean(qed_scores_output)}\")\n",
        "print(f\"Mean score of input: {np.mean(qed_scores_input)}\")\n",
        "plt.subplot(2,1,1)\n",
        "plt.hist(qed_scores_output, bins=np.arange(0,1,0.1))\n",
        "plt.xlim(0,1)\n",
        "plt.subplot(2,1,2)\n",
        "plt.hist(qed_scores_input, bins=np.arange(0,1,0.1))\n",
        "plt.xlim(0,1)"
      ]
    },
    {
      "cell_type": "markdown",
      "id": "6dc461d3",
      "metadata": {
        "id": "6dc461d3"
      },
      "source": [
        "# 주어진 smiles file을 초기구조로 사용해서 표적 결합력을 최적화"
      ]
    },
    {
      "cell_type": "code",
      "execution_count": 29,
      "id": "f2847540",
      "metadata": {
        "id": "f2847540"
      },
      "outputs": [],
      "source": [
        "# def get_QSARScore(smiles): <- 이미 만들어둔 QSAR score 함수를 사용하자\n",
        "def get_QSARScore(smiles):\n",
        "    fp = AllChem.GetMorganFingerprintAsBitVect(Chem.MolFromSmiles(smiles), radius=2, nBits=1024)\n",
        "    return rf_model.predict([fp])\n",
        "\n",
        "from rdkit import Chem\n",
        "\n",
        "with open(path+'vs_result3.csv') as f:\n",
        "  vs_molecules = f.read().splitlines()\n",
        "\n",
        "initial_blocks = vs_molecules #4 Load SMILES list of pre-defined molecules\n",
        "\n",
        "product_pool = set()\n",
        "selected_products = set()\n",
        "reactant_blocks = [Chem.MolFromSmiles(block) for block in building_blocks]\n",
        "reaction_count = {  # 최대 합성 횟수 저장 dictionary\n",
        "    0: 0,\n",
        "    1: 0,\n",
        "    2: 0,\n",
        "    3: 0,\n",
        "    4: 0,\n",
        "    5: 0,\n",
        "}\n",
        "\n",
        "max_reaction = 5  # 한 물질 당 최대 5번까지 합성\n",
        "for block in initial_blocks:  # building blocks 대신 초기물질로 inital_blocks 사용\n",
        "    current_block = Chem.MolFromSmiles(block)\n",
        "    inital_qsar_score = get_QSARScore(block)\n",
        "    for current_reaction in range(1, max_reaction+1):\n",
        "        smiles = get_simulated_smiles(\n",
        "            current_block,\n",
        "            reaction_templates,\n",
        "            reactant_blocks,\n",
        "        )\n",
        "        if smiles:\n",
        "            product_pool.update(smiles)\n",
        "            best_qsar_score = 0                         ### best_qed_score를 0으로 초기화함\n",
        "            for smi in smiles:                          ### \"smiles\"에 대해 for loop를 돌면서,\n",
        "              current_qsar_score = get_QSARScore(smi)   ### smi의 qsar score를 계산하고\n",
        "              if current_qsar_score > best_qsar_score:  ### 만약 smi의 qsar score가 best score보다 높다면,\n",
        "                  best_qsar_score = current_qsar_score  ### best score를 smi의 score로 갱신하고,\n",
        "                  selected_smiles = smi                 ### selected_smiles를 smi로 지정\n",
        "            if best_qsar_score > inital_qsar_score:  # QSAR 점수가 초기 구조보다 높으면 저장\n",
        "                selected_products.add(selected_smiles)\n",
        "            current_block = Chem.MolFromSmiles(selected_smiles)\n",
        "\n",
        "            if current_reaction == max_reaction:\n",
        "                reaction_count[current_reaction] += 1\n",
        "        else:\n",
        "            reaction_count[current_reaction-1] += 1  # 최대 합성 횟수 기록\n",
        "            break  # 더 이상 합성이 불가능하므로"
      ]
    },
    {
      "cell_type": "code",
      "execution_count": 30,
      "id": "da8e9ec3",
      "metadata": {
        "id": "da8e9ec3",
        "colab": {
          "base_uri": "https://localhost:8080/",
          "height": 319
        },
        "outputId": "71f1bb77-2648-4da3-d01e-752ab5be0a42"
      },
      "outputs": [
        {
          "output_type": "stream",
          "name": "stdout",
          "text": [
            "Mean score of output: 7.774391608986813\n",
            "Mean score of input: 7.34787571930926\n"
          ]
        },
        {
          "output_type": "execute_result",
          "data": {
            "text/plain": [
              "(4.0, 10.0)"
            ]
          },
          "metadata": {},
          "execution_count": 30
        },
        {
          "output_type": "display_data",
          "data": {
            "text/plain": [
              "<Figure size 432x288 with 2 Axes>"
            ],
            "image/png": "[encoded data removed]"
          },
          "metadata": {
            "needs_background": "light"
          }
        }
      ],
      "source": [
        "# 전후의 QSAR score를 비교\n",
        "\n",
        "import matplotlib.pyplot as plt\n",
        "\n",
        "qsar_scores_output = []\n",
        "qsar_scores_input = []\n",
        "for smi_out, smi_in in zip(selected_products, initial_blocks):\n",
        "  qsar_scores_output.append(get_QSARScore(smi_out))\n",
        "  qsar_scores_input.append(get_QSARScore(smi_in))\n",
        "qsar_scores_output = np.array(qsar_scores_output)\n",
        "qsar_scores_input = np.array(qsar_scores_input)\n",
        "\n",
        "print(f\"Mean score of output: {qsar_scores_output.mean()}\")\n",
        "print(f\"Mean score of input: {qsar_scores_input.mean()}\")\n",
        "plt.subplot(2,1,1)\n",
        "plt.hist(qsar_scores_output, bins=np.arange(4,10,0.1))\n",
        "plt.xlim(4,10)\n",
        "plt.subplot(2,1,2)\n",
        "plt.hist(qsar_scores_input, bins=np.arange(4,10,0.1))\n",
        "plt.xlim(4,10)"
      ]
    },
    {
      "cell_type": "markdown",
      "id": "f88b1ea2",
      "metadata": {
        "id": "f88b1ea2"
      },
      "source": [
        "### Final project: QED, DLscore, QSAR 의 가중치를 달리해서 합성해 보자\n",
        "### Hint: new score = (QED * 0.3 + DLscore * 0.2 + QSAR * 0.5)"
      ]
    },
    {
      "cell_type": "code",
      "execution_count": 31,
      "id": "23d69c93",
      "metadata": {
        "id": "23d69c93"
      },
      "outputs": [],
      "source": [
        "# Druglike-molecules 섹션에서 개발한 Random Forest 모델을 활용 (DLscore)\n",
        "# Sess 2 (Druglike_molecules.ipynb 에서 학습한 classifier (DL_model.pickle)을 불러오기\n",
        "import pickle\n",
        "from sklearn.ensemble import RandomForestClassifier\n",
        "\n",
        "dl_model = RandomForestClassifier(n_estimators=100)\n",
        "with open(path + 'DL_model.pickle', 'rb') as frb:\n",
        "  dl_model = pickle.load(frb)"
      ]
    },
    {
      "cell_type": "code",
      "source": [
        "# 위에서 배운 내용을 토대로, new score를 최적화하는 모델 만들기"
      ],
      "metadata": {
        "id": "eWMcbKHSpMSD"
      },
      "id": "eWMcbKHSpMSD",
      "execution_count": 32,
      "outputs": []
    },
    {
      "cell_type": "code",
      "execution_count": 33,
      "id": "758d8629",
      "metadata": {
        "id": "758d8629",
        "colab": {
          "base_uri": "https://localhost:8080/",
          "height": 319
        },
        "outputId": "f100bd21-ad00-469c-a7b1-8567b9a68186"
      },
      "outputs": [
        {
          "output_type": "stream",
          "name": "stdout",
          "text": [
            "Mean score of output: 7.774391608986813\n",
            "Mean score of input: 6.2380616344201165\n"
          ]
        },
        {
          "output_type": "execute_result",
          "data": {
            "text/plain": [
              "(4.0, 10.0)"
            ]
          },
          "metadata": {},
          "execution_count": 33
        },
        {
          "output_type": "display_data",
          "data": {
            "text/plain": [
              "<Figure size 432x288 with 2 Axes>"
            ],
            "image/png": "[encoded data removed]"
          },
          "metadata": {
            "needs_background": "light"
          }
        }
      ],
      "source": [
        "# 전후의 QSAR score를 비교\n",
        "\n",
        "import matplotlib.pyplot as plt\n",
        "\n",
        "qsar_scores_output = []\n",
        "qsar_scores_input = []\n",
        "for smi_out, smi_in in zip(selected_products, building_blocks):\n",
        "  qsar_scores_output.append(get_QSARScore(smi_out))\n",
        "  qsar_scores_input.append(get_QSARScore(smi_in))\n",
        "qsar_scores_output = np.array(qsar_scores_output)\n",
        "qsar_scores_input = np.array(qsar_scores_input)\n",
        "\n",
        "print(f\"Mean score of output: {qsar_scores_output.mean()}\")\n",
        "print(f\"Mean score of input: {qsar_scores_input.mean()}\")\n",
        "plt.subplot(2,1,1)\n",
        "plt.hist(qsar_scores_output, bins=np.arange(4,10,0.1))\n",
        "plt.xlim(4,10)\n",
        "plt.subplot(2,1,2)\n",
        "plt.hist(qsar_scores_input, bins=np.arange(4,10,0.1))\n",
        "plt.xlim(4,10)"
      ]
    },
    {
      "cell_type": "code",
      "execution_count": 34,
      "id": "46a1c1aa",
      "metadata": {
        "id": "46a1c1aa",
        "colab": {
          "base_uri": "https://localhost:8080/",
          "height": 319
        },
        "outputId": "fd312a70-3082-4d14-ee3f-fb4f6fde3e11"
      },
      "outputs": [
        {
          "output_type": "stream",
          "name": "stdout",
          "text": [
            "Mean score of output: 0.17674869237801222\n",
            "Mean score of input: 0.6130560219067653\n"
          ]
        },
        {
          "output_type": "execute_result",
          "data": {
            "text/plain": [
              "(0.0, 1.0)"
            ]
          },
          "metadata": {},
          "execution_count": 34
        },
        {
          "output_type": "display_data",
          "data": {
            "text/plain": [
              "<Figure size 432x288 with 2 Axes>"
            ],
            "image/png": "[encoded data removed]"
          },
          "metadata": {
            "needs_background": "light"
          }
        }
      ],
      "source": [
        "# 전후의 QED score를 비교\n",
        "\n",
        "import matplotlib.pyplot as plt\n",
        "\n",
        "qed_scores_output = []\n",
        "qed_scores_input = []\n",
        "for smi_out, smi_in in zip(selected_products, building_blocks):\n",
        "    qed_scores_output.append(get_QED(smi_out))\n",
        "    qed_scores_input.append(get_QED(smi_in))\n",
        "\n",
        "print(f\"Mean score of output: {np.mean(qed_scores_output)}\")\n",
        "print(f\"Mean score of input: {np.mean(qed_scores_input)}\")\n",
        "plt.subplot(2,1,1)\n",
        "plt.hist(qed_scores_output, bins=np.arange(0,1,0.1))\n",
        "plt.xlim(0,1)\n",
        "plt.subplot(2,1,2)\n",
        "plt.hist(qed_scores_input, bins=np.arange(0,1,0.1))\n",
        "plt.xlim(0,1)"
      ]
    }
  ],
  "metadata": {
    "colab": {
      "collapsed_sections": [],
      "provenance": [],
      "include_colab_link": true
    },
    "kernelspec": {
      "display_name": "Python 3.7.9 64-bit",
      "language": "python",
      "name": "python3"
    },
    "language_info": {
      "codemirror_mode": {
        "name": "ipython",
        "version": 3
      },
      "file_extension": ".py",
      "mimetype": "text/x-python",
      "name": "python",
      "nbconvert_exporter": "python",
      "pygments_lexer": "ipython3",
      "version": "3.7.9"
    },
    "vscode": {
      "interpreter": {
        "hash": "aee8b7b246df8f9039afb4144a1f6fd8d2ca17a180786b69acc140d282b71a49"
      }
    }
  },
  "nbformat": 4,
  "nbformat_minor": 5
}