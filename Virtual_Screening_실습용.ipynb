{
  "nbformat": 4,
  "nbformat_minor": 0,
  "metadata": {
    "colab": {
      "provenance": [],
      "collapsed_sections": [],
      "include_colab_link": true
    },
    "kernelspec": {
      "name": "python3",
      "display_name": "Python 3"
    },
    "language_info": {
      "name": "python"
    }
  },
  "cells": [
    {
      "cell_type": "markdown",
      "metadata": {
        "id": "view-in-github",
        "colab_type": "text"
      },
      "source": [
        "<a href=\"https://colab.research.google.com/github/KimJisanER/LAIDD/blob/main/Virtual_Screening_%EC%8B%A4%EC%8A%B5%EC%9A%A9.ipynb\" target=\"_parent\"><img src=\"https://colab.research.google.com/assets/colab-badge.svg\" alt=\"Open In Colab\"/></a>"
      ]
    },
    {
      "cell_type": "markdown",
      "source": [
        "# Ligand Based Virtual Screening based on JAK2 inhibitor activity prediction model \n",
        "\n",
        "## **Goal of the Project**\n",
        "- Build Deep Learning Model to predict the activty of JAK2 inhibitors\n",
        "- Screening molecules with high activity with JAK2. \n",
        "\n",
        "\n",
        ">## **Janus kinase**\n",
        "Janus kinase (JAK) is a family of intracellular, non-receptor tyrosine kinases that transduce cytokine-mediated signals via the JAK-STAT pathway. They were initially named \"just another kinase\" 1 and 2 (since they were just two of many discoveries in a PCR-based screen of kinases),[1] but were ultimately published as \"Janus kinase\". The name is taken from the two-faced Roman god of beginnings, endings and duality, Janus, because the JAKs possess two near-identical phosphate-transferring domains. One domain exhibits the kinase activity, while the other negatively regulates the kinase activity of the first.\n",
        "![picture](https://upload.wikimedia.org/wikipedia/commons/thumb/3/35/Protein_JAK2_PDB_2b7a.png/500px-Protein_JAK2_PDB_2b7a.png)"
      ],
      "metadata": {
        "id": "qBw4t54PEX0e"
      }
    },
    {
      "cell_type": "markdown",
      "source": [
        "## 1. 필요한 라이브러리 Import 및 다운로드"
      ],
      "metadata": {
        "id": "1ioy1AJ82lCR"
      }
    },
    {
      "cell_type": "code",
      "execution_count": 1,
      "metadata": {
        "id": "dH3EM7OeVzH8",
        "colab": {
          "base_uri": "https://localhost:8080/"
        },
        "outputId": "1876447e-760f-413d-b753-c46d1e50d8c3"
      },
      "outputs": [
        {
          "output_type": "stream",
          "name": "stdout",
          "text": [
            "\u001b[33mWARNING: Running pip as the 'root' user can result in broken permissions and conflicting behaviour with the system package manager. It is recommended to use a virtual environment instead: https://pip.pypa.io/warnings/venv\u001b[0m\u001b[33m\n",
            "\u001b[0m✨🍰✨ Everything looks OK!\n",
            "✨🍰✨ Everything looks OK!\n",
            "\n",
            "                  __    __    __    __\n",
            "                 /  \\  /  \\  /  \\  /  \\\n",
            "                /    \\/    \\/    \\/    \\\n",
            "███████████████/  /██/  /██/  /██/  /████████████████████████\n",
            "              /  / \\   / \\   / \\   / \\  \\____\n",
            "             /  /   \\_/   \\_/   \\_/   \\    o \\__,\n",
            "            / _/                       \\_____/  `\n",
            "            |/\n",
            "        ███╗   ███╗ █████╗ ███╗   ███╗██████╗  █████╗\n",
            "        ████╗ ████║██╔══██╗████╗ ████║██╔══██╗██╔══██╗\n",
            "        ██╔████╔██║███████║██╔████╔██║██████╔╝███████║\n",
            "        ██║╚██╔╝██║██╔══██║██║╚██╔╝██║██╔══██╗██╔══██║\n",
            "        ██║ ╚═╝ ██║██║  ██║██║ ╚═╝ ██║██████╔╝██║  ██║\n",
            "        ╚═╝     ╚═╝╚═╝  ╚═╝╚═╝     ╚═╝╚═════╝ ╚═╝  ╚═╝\n",
            "\n",
            "        mamba (0.25.0) supported by @QuantStack\n",
            "\n",
            "        GitHub:  https://github.com/mamba-org/mamba\n",
            "        Twitter: https://twitter.com/QuantStack\n",
            "\n",
            "█████████████████████████████████████████████████████████████\n",
            "\n",
            "\n",
            "Looking for: ['rdkit==2021.03.5']\n",
            "\n",
            "\u001b[?25l\u001b[2K\u001b[0G[+] 0.0s\n",
            "\u001b[2K\u001b[1A\u001b[2K\u001b[0G[+] 0.1s\n",
            "conda-forge/linux-64  ⣾  \n",
            "conda-forge/noarch    ⣾  \u001b[2K\u001b[1A\u001b[2K\u001b[1A\u001b[2K\u001b[0G[+] 0.2s\n",
            "conda-forge/linux-64  ⣾  \n",
            "conda-forge/noarch    ⣾  \u001b[2K\u001b[1A\u001b[2K\u001b[1A\u001b[2K\u001b[0Gconda-forge/linux-64                                          No change\n",
            "[+] 0.3s\n",
            "conda-forge/noarch  ⣾  \u001b[2K\u001b[1A\u001b[2K\u001b[0G[+] 0.4s\n",
            "conda-forge/noarch  ⣾  \u001b[2K\u001b[1A\u001b[2K\u001b[0G[+] 0.5s\n",
            "conda-forge/noarch  ⣾  \u001b[2K\u001b[1A\u001b[2K\u001b[0G[+] 0.6s\n",
            "conda-forge/noarch  ⣾  \u001b[2K\u001b[1A\u001b[2K\u001b[0G[+] 0.7s\n",
            "conda-forge/noarch  ⣾  \u001b[2K\u001b[1A\u001b[2K\u001b[0G[+] 0.8s\n",
            "conda-forge/noarch  ⣾  \u001b[2K\u001b[1A\u001b[2K\u001b[0G[+] 0.9s\n",
            "conda-forge/noarch  ⣾  \u001b[2K\u001b[1A\u001b[2K\u001b[0G[+] 1.0s\n",
            "conda-forge/noarch  ⣾  \u001b[2K\u001b[1A\u001b[2K\u001b[0G[+] 1.1s\n",
            "conda-forge/noarch  ⣾  \u001b[2K\u001b[1A\u001b[2K\u001b[0G[+] 1.2s\n",
            "conda-forge/noarch  ⣾  \u001b[2K\u001b[1A\u001b[2K\u001b[0G[+] 1.3s\n",
            "conda-forge/noarch  ⣾  \u001b[2K\u001b[1A\u001b[2K\u001b[0G[+] 1.4s\n",
            "conda-forge/noarch  ⣾  \u001b[2K\u001b[1A\u001b[2K\u001b[0G[+] 1.5s\n",
            "conda-forge/noarch  ⣾  \u001b[2K\u001b[1A\u001b[2K\u001b[0G[+] 1.6s\n",
            "conda-forge/noarch  ⣾  \u001b[2K\u001b[1A\u001b[2K\u001b[0G[+] 1.7s\n",
            "conda-forge/noarch  ⣾  \u001b[2K\u001b[1A\u001b[2K\u001b[0G[+] 1.8s\n",
            "conda-forge/noarch  ⣾  \u001b[2K\u001b[1A\u001b[2K\u001b[0G[+] 1.9s\n",
            "conda-forge/noarch  ⣾  \u001b[2K\u001b[1A\u001b[2K\u001b[0G[+] 2.0s\n",
            "conda-forge/noarch  ⣾  \u001b[2K\u001b[1A\u001b[2K\u001b[0G[+] 2.1s\n",
            "conda-forge/noarch 100%\u001b[2K\u001b[1A\u001b[2K\u001b[0G[+] 2.2s\n",
            "conda-forge/noarch 100%\u001b[2K\u001b[1A\u001b[2K\u001b[0G[+] 2.3s\n",
            "conda-forge/noarch 100%\u001b[2K\u001b[1A\u001b[2K\u001b[0Gconda-forge/noarch                                \n",
            "\u001b[?25h\n",
            "Pinned packages:\n",
            "  - python 3.7.*\n",
            "  - python 3.7.*\n",
            "  - python_abi 3.7.* *cp37*\n",
            "  - cudatoolkit 11.1.*\n",
            "\n",
            "\n",
            "Transaction\n",
            "\n",
            "  Prefix: /usr/local\n",
            "\n",
            "  All requested packages already installed\n",
            "\n",
            "\u001b[?25l\u001b[2K\u001b[0G\u001b[?25h"
          ]
        }
      ],
      "source": [
        "!pip install -q condacolab\n",
        "import condacolab\n",
        "condacolab.install()\n",
        "\n",
        "import sys\n",
        "sys.path\n",
        "\n",
        "import condacolab\n",
        "condacolab.check()\n",
        "\n",
        "!mamba install -c conda-forge rdkit==2021.03.5"
      ]
    },
    {
      "cell_type": "code",
      "source": [
        "import rdkit\n",
        "import rdkit.Chem as Chem"
      ],
      "metadata": {
        "id": "i_dy-h8wV2xb"
      },
      "execution_count": 2,
      "outputs": []
    },
    {
      "cell_type": "code",
      "source": [
        "import matplotlib as mpl\n",
        "import matplotlib.pyplot as plt\n",
        "import pandas as pd\n",
        "import numpy as np\n",
        "import sklearn"
      ],
      "metadata": {
        "id": "M5WrY-UNV6Nm"
      },
      "execution_count": 3,
      "outputs": []
    },
    {
      "cell_type": "markdown",
      "source": [
        "## 2. Data Processing\n",
        "\n",
        ">## **IC50** \n",
        "The **half maximal inhibitory concentration (IC50)** is a measure of the potency of a substance in inhibiting a specific biological or biochemical function.  \n",
        "IC50 is a quantitative measure that indicates **how much of a particular inhibitory substance (e.g. drug) is needed to inhibit, in vitro, a given biological process or biological component by 50%.** \n",
        "The biological component could be an enzyme, cell, cell receptor or microorganism. IC50 values are typically expressed as molar concentration.   \n",
        "**In general, the IC50 value of a typical drug is around several nM.**  \n",
        "```\n",
        "  pIC50 = -log_10(IC50)\n",
        "```"
      ],
      "metadata": {
        "id": "N3kNDWqvV-GR"
      }
    },
    {
      "cell_type": "markdown",
      "source": [
        "###2-1. CSV 파일로부터 데이터 추출\n",
        "- Pandas DataFrame을 이용하여 CSV 파일을 읽음\n",
        "- Pandas DataFrame 참고 자료 (https://pandas.pydata.org/docs/reference/api/pandas.DataFrame.html)\n",
        "- ChEMBL에서 가져온 JAK2에 대한 Ligand 들의 SMILES code와 pIC50 값 (pChEMBL Value)을 읽어들임"
      ],
      "metadata": {
        "id": "qdTPWP15WSFI"
      }
    },
    {
      "cell_type": "code",
      "source": [
        "from google.colab import drive\n",
        "drive.mount('/content/drive')"
      ],
      "metadata": {
        "colab": {
          "base_uri": "https://localhost:8080/"
        },
        "id": "ZnQ-zP34xLbl",
        "outputId": "1daf8a44-e759-44d6-e9f4-e5bd8835de21"
      },
      "execution_count": 4,
      "outputs": [
        {
          "output_type": "stream",
          "name": "stdout",
          "text": [
            "Drive already mounted at /content/drive; to attempt to forcibly remount, call drive.mount(\"/content/drive\", force_remount=True).\n"
          ]
        }
      ]
    },
    {
      "cell_type": "code",
      "source": [
        "JAK2_dataframe = pd.read_csv('/content/drive/MyDrive/JAK2_Chembl.csv')\n",
        "print(JAK2_dataframe)"
      ],
      "metadata": {
        "id": "aTwQaRiJa33E",
        "colab": {
          "base_uri": "https://localhost:8080/"
        },
        "outputId": "d2c684bb-ed3e-4129-db1b-a560a7f53d11"
      },
      "execution_count": 5,
      "outputs": [
        {
          "output_type": "stream",
          "name": "stdout",
          "text": [
            "     Molecule ChEMBL ID Molecule Name  Molecule Max Phase  Molecular Weight  \\\n",
            "0         CHEMBL3126347           NaN                   0            415.28   \n",
            "1         CHEMBL3126345           NaN                   0            374.30   \n",
            "2         CHEMBL3126348           NaN                   0            423.26   \n",
            "3         CHEMBL3126346           NaN                   0            401.25   \n",
            "4         CHEMBL3984720           NaN                   0            611.05   \n",
            "...                 ...           ...                 ...               ...   \n",
            "6446      CHEMBL4589415           NaN                   0            472.47   \n",
            "6447      CHEMBL4518786           NaN                   0            443.51   \n",
            "6448      CHEMBL4750368           NaN                   0            274.35   \n",
            "6449      CHEMBL1789941   RUXOLITINIB                   4            306.37   \n",
            "6450      CHEMBL4849617           NaN                   0            509.59   \n",
            "\n",
            "      #RO5 Violations  AlogP Compound Key  \\\n",
            "0                 0.0   4.75           25   \n",
            "1                 0.0   4.37           20   \n",
            "2                 0.0   4.91           28   \n",
            "3                 0.0   4.58           24   \n",
            "4                 1.0   3.90   BDBM232460   \n",
            "...               ...    ...          ...   \n",
            "6446              0.0   4.17         16d'   \n",
            "6447              0.0   3.52          14d   \n",
            "6448              0.0   3.09           25   \n",
            "6449              0.0   3.47  Ruxolitinib   \n",
            "6450              2.0   5.64          14h   \n",
            "\n",
            "                                                 Smiles Standard Type  \\\n",
            "0     CC(C)(O)c1cc(Cl)c(Nc2nc3ccncc3c3c(=O)[nH]ccc23...          IC50   \n",
            "1       O=c1[nH]ccc2c(Nc3c(F)cccc3C(F)(F)F)nc3ccncc3c12          IC50   \n",
            "2     O=c1[nH]ccc2c(Nc3c(Cl)cc(-c4ccn[nH]4)cc3Cl)nc3...          IC50   \n",
            "3     CC(O)c1cc(Cl)c(Nc2nc3ccncc3c3c(=O)[nH]ccc23)c(...          IC50   \n",
            "4     O=C(Nc1cn(CC(=O)N2C[C@@H]3CN(CC4CC4)C[C@@H]3C2...            Ki   \n",
            "...                                                 ...           ...   \n",
            "6446  O=C(Nc1ccc(CNc2cc(Nc3ccc(N4CCOCC4)cc3)ncn2)cc1...          IC50   \n",
            "6447  N#CCC(=O)Nc1ccc(CNc2cc(Nc3ccc(N4CCOCC4)cc3)ncn...          IC50   \n",
            "6448                CNc1nc(C)c(C(=O)/C=C/c2ccc(O)cc2)s1          IC50   \n",
            "6449       N#CC[C@H](C1CCCC1)n1cc(-c2ncnc3[nH]ccc23)cn1          IC50   \n",
            "6450  CC(C)(C)c1ccc(C(=O)N2CCc3cc(Nc4ncc(F)c(-c5cnn(...          IC50   \n",
            "\n",
            "     Standard Relation  ...                   Target Name Target Organism  \\\n",
            "0                  '='  ...  Tyrosine-protein kinase JAK2    Homo sapiens   \n",
            "1                  '='  ...  Tyrosine-protein kinase JAK2    Homo sapiens   \n",
            "2                  '='  ...  Tyrosine-protein kinase JAK2    Homo sapiens   \n",
            "3                  '='  ...  Tyrosine-protein kinase JAK2    Homo sapiens   \n",
            "4                  '='  ...  Tyrosine-protein kinase JAK2    Homo sapiens   \n",
            "...                ...  ...                           ...             ...   \n",
            "6446               '='  ...  Tyrosine-protein kinase JAK2    Homo sapiens   \n",
            "6447               '='  ...  Tyrosine-protein kinase JAK2    Homo sapiens   \n",
            "6448               '='  ...  Tyrosine-protein kinase JAK2    Homo sapiens   \n",
            "6449               '='  ...  Tyrosine-protein kinase JAK2    Homo sapiens   \n",
            "6450               '='  ...  Tyrosine-protein kinase JAK2    Homo sapiens   \n",
            "\n",
            "         Target Type  Document ChEMBL ID  Source ID     Source Description  \\\n",
            "0     SINGLE PROTEIN       CHEMBL3124786          1  Scientific Literature   \n",
            "1     SINGLE PROTEIN       CHEMBL3124786          1  Scientific Literature   \n",
            "2     SINGLE PROTEIN       CHEMBL3124786          1  Scientific Literature   \n",
            "3     SINGLE PROTEIN       CHEMBL3124786          1  Scientific Literature   \n",
            "4     SINGLE PROTEIN       CHEMBL3886737         37     BindingDB Database   \n",
            "...              ...                 ...        ...                    ...   \n",
            "6446  SINGLE PROTEIN       CHEMBL4480445          1  Scientific Literature   \n",
            "6447  SINGLE PROTEIN       CHEMBL4480445          1  Scientific Literature   \n",
            "6448  SINGLE PROTEIN       CHEMBL4732032          1  Scientific Literature   \n",
            "6449  SINGLE PROTEIN       CHEMBL4732032          1  Scientific Literature   \n",
            "6450  SINGLE PROTEIN       CHEMBL4825658          1  Scientific Literature   \n",
            "\n",
            "              Document Journal  Document Year  Cell ChEMBL ID  \\\n",
            "0     Bioorg. Med. Chem. Lett.         2014.0            None   \n",
            "1     Bioorg. Med. Chem. Lett.         2014.0            None   \n",
            "2     Bioorg. Med. Chem. Lett.         2014.0            None   \n",
            "3     Bioorg. Med. Chem. Lett.         2014.0            None   \n",
            "4                          NaN         2016.0            None   \n",
            "...                        ...            ...             ...   \n",
            "6446           Bioorg Med Chem         2019.0            None   \n",
            "6447           Bioorg Med Chem         2019.0            None   \n",
            "6448              RSC Med Chem         2021.0            None   \n",
            "6449              RSC Med Chem         2021.0            None   \n",
            "6450                J Med Chem         2021.0            None   \n",
            "\n",
            "            Properties  \n",
            "0                  NaN  \n",
            "1                  NaN  \n",
            "2                  NaN  \n",
            "3                  NaN  \n",
            "4                  NaN  \n",
            "...                ...  \n",
            "6446               NaN  \n",
            "6447               NaN  \n",
            "6448     TIME = 1.0 hr  \n",
            "6449     TIME = 1.0 hr  \n",
            "6450  TIME = 0.6667 hr  \n",
            "\n",
            "[6451 rows x 45 columns]\n"
          ]
        }
      ]
    },
    {
      "cell_type": "markdown",
      "source": [
        "#### Input 값은 Smiles, Target value 값은 pChEMBL Value로 저장\n",
        "\n",
        "\n"
      ],
      "metadata": {
        "id": "qDWJqM6cWeCo"
      }
    },
    {
      "cell_type": "code",
      "source": [
        "smiles = JAK2_dataframe['Smiles']\n",
        "pic50 = JAK2_dataframe['pChEMBL Value']\n",
        "print(smiles)\n",
        "print(pic50)"
      ],
      "metadata": {
        "id": "LEWoh-T5WO6T",
        "colab": {
          "base_uri": "https://localhost:8080/"
        },
        "outputId": "71cfb859-d30f-4d9b-fbd3-0f816b32386b"
      },
      "execution_count": 6,
      "outputs": [
        {
          "output_type": "stream",
          "name": "stdout",
          "text": [
            "0       CC(C)(O)c1cc(Cl)c(Nc2nc3ccncc3c3c(=O)[nH]ccc23...\n",
            "1         O=c1[nH]ccc2c(Nc3c(F)cccc3C(F)(F)F)nc3ccncc3c12\n",
            "2       O=c1[nH]ccc2c(Nc3c(Cl)cc(-c4ccn[nH]4)cc3Cl)nc3...\n",
            "3       CC(O)c1cc(Cl)c(Nc2nc3ccncc3c3c(=O)[nH]ccc23)c(...\n",
            "4       O=C(Nc1cn(CC(=O)N2C[C@@H]3CN(CC4CC4)C[C@@H]3C2...\n",
            "                              ...                        \n",
            "6446    O=C(Nc1ccc(CNc2cc(Nc3ccc(N4CCOCC4)cc3)ncn2)cc1...\n",
            "6447    N#CCC(=O)Nc1ccc(CNc2cc(Nc3ccc(N4CCOCC4)cc3)ncn...\n",
            "6448                  CNc1nc(C)c(C(=O)/C=C/c2ccc(O)cc2)s1\n",
            "6449         N#CC[C@H](C1CCCC1)n1cc(-c2ncnc3[nH]ccc23)cn1\n",
            "6450    CC(C)(C)c1ccc(C(=O)N2CCc3cc(Nc4ncc(F)c(-c5cnn(...\n",
            "Name: Smiles, Length: 6451, dtype: object\n",
            "0       7.75\n",
            "1       7.05\n",
            "2       9.00\n",
            "3       9.22\n",
            "4       9.12\n",
            "        ... \n",
            "6446    6.55\n",
            "6447    5.84\n",
            "6448    7.47\n",
            "6449    7.74\n",
            "6450    6.22\n",
            "Name: pChEMBL Value, Length: 6451, dtype: float64\n"
          ]
        }
      ]
    },
    {
      "cell_type": "markdown",
      "source": [
        "### 2-2. Ligand Featurization\n",
        "\n",
        "- SMILES 형태로 나타낸 분자를 fingerprint 형태로 featurization"
      ],
      "metadata": {
        "id": "AmytfMB0W0Yf"
      }
    },
    {
      "cell_type": "code",
      "source": [
        "from rdkit.Chem import AllChem\n",
        "from rdkit import Chem\n",
        "\n",
        "X = []\n",
        "for i in smiles:\n",
        "    mol = Chem.MolFromSmiles(i)\n",
        "    fp = AllChem.GetMorganFingerprintAsBitVect(mol, 4, nBits=1024)\n",
        "    fp = np.array(fp)\n",
        "    X.append(fp)\n"
      ],
      "metadata": {
        "id": "mBlK_3vGXAED"
      },
      "execution_count": 7,
      "outputs": []
    },
    {
      "cell_type": "markdown",
      "source": [
        "###2-3. 전체 데이터셋을 Training set, Validation set, Test set 으로 나눔\n",
        "- Training set: Prediction model을 학습하기 위한 data\n",
        "- Validation set: Prediction model이 제대로 학습이 진행중인지 확인하는 data\n",
        "- Test set: Prediction model의 성능을 확인하는 data"
      ],
      "metadata": {
        "id": "pOEmeGdqXpiA"
      }
    },
    {
      "cell_type": "code",
      "source": [
        "import sklearn.model_selection\n",
        "X_train, X_test, y_train, y_test = sklearn.model_selection.train_test_split(X, pic50, test_size=0.1, random_state=42)\n",
        "X_train, X_val, y_train, y_val = sklearn.model_selection.train_test_split(X_train, y_train, test_size=0.1, random_state=42)"
      ],
      "metadata": {
        "id": "HTyi_7esXtv_"
      },
      "execution_count": 8,
      "outputs": []
    },
    {
      "cell_type": "markdown",
      "source": [
        "## 3. Deep Learning Model 만들기"
      ],
      "metadata": {
        "id": "u5-aCHHiXUgH"
      }
    },
    {
      "cell_type": "code",
      "source": [
        "import tensorflow as tf\n",
        "from tensorflow.keras.models import Sequential\n",
        "from tensorflow.keras.layers import Dense\n",
        "from tensorflow.keras.layers import Flatten"
      ],
      "metadata": {
        "id": "M2IENx3EXZ-Y"
      },
      "execution_count": 9,
      "outputs": []
    },
    {
      "cell_type": "markdown",
      "source": [
        "###3-1. 데이터 값들을 Tensor로 변환"
      ],
      "metadata": {
        "id": "HM0QHB1KXxr6"
      }
    },
    {
      "cell_type": "code",
      "source": [
        "X_train = tf.convert_to_tensor(X_train, dtype=tf.float32)\n",
        "y_train = tf.convert_to_tensor(y_train)\n",
        "X_val = tf.convert_to_tensor(X_val, dtype=tf.float32)\n",
        "y_val = tf.convert_to_tensor(y_val)\n",
        "X_test = tf.convert_to_tensor(X_test, dtype=tf.float32)"
      ],
      "metadata": {
        "id": "BOAPUNjIX0MU"
      },
      "execution_count": 10,
      "outputs": []
    },
    {
      "cell_type": "markdown",
      "source": [
        "### 3-2. Deep Learning Model을 Sequential 모델로 정의 \n",
        "- 아래와 같은 순서로 Layer가  model 정의\n",
        "1. Dense layer \n",
        "2. Dropout layer\n",
        "3. Dense layer\n",
        "4. Dropout layer\n",
        "5. Dense layer"
      ],
      "metadata": {
        "id": "vsNCWeQXX6rN"
      }
    },
    {
      "cell_type": "code",
      "source": [
        "dl_model = Sequential([\n",
        "                    tf.keras.layers.Dense(64, activation='relu', name=\"A\"),\n",
        "                    tf.keras.layers.Dropout(0.1),\n",
        "                    tf.keras.layers.Dense(32, activation='relu', name=\"B\"),\n",
        "                    tf.keras.layers.Dropout(0.1),\n",
        "                    tf.keras.layers.Dense(1, name=\"C\"),\n",
        "])"
      ],
      "metadata": {
        "id": "djJ0tm_QYV98"
      },
      "execution_count": 83,
      "outputs": []
    },
    {
      "cell_type": "markdown",
      "source": [
        "### 3-3. Model Compile\n",
        "- Adam Optimizer를 Optimizer로 사용\n",
        "- Loss Function은 Mean Sequared error function\n",
        "- Monitoring 할 metric은 mean squared error\n",
        "\n",
        "- Tensorflow 홈페이지 참조(https://www.tensorflow.org/api_docs/python/tf/keras/Model)"
      ],
      "metadata": {
        "id": "T1ewAWpUYfQI"
      }
    },
    {
      "cell_type": "code",
      "source": [
        "mse = tf.keras.losses.MeanSquaredError()\n",
        "mmse = tf.keras.metrics.MeanSquaredError()\n",
        "\n",
        "dl_model.compile(optimizer = 'adam',\n",
        "                 loss = mse,\n",
        "                 metrics = mmse)"
      ],
      "metadata": {
        "id": "xPSy9pBBYqIO"
      },
      "execution_count": 84,
      "outputs": []
    },
    {
      "cell_type": "markdown",
      "source": [
        "###3-4.  Early Stopping 설정\n",
        "\n",
        "\n",
        ">## **Early Stopping**\n",
        "> -  너무 많은 epoch는 overfitting을 일으키고 너무 적은 epoch는 underfitting을 일으킴\n",
        "-  일반적으로 validation set에서 성능이 더이상 증가하지 않을 때 학습을 중지\n",
        "-  patience = 10 -> validation set에서 10 epoch가 지나도 성능이 증가하지 않으면 학습을 중지\n",
        "\n",
        "- training 데이터를 사용하여 100 epoch까지 Early stopping 을 활용하여 모델 학습\n",
        "- batch size는 32\n"
      ],
      "metadata": {
        "id": "tUQBeuo5Y5hE"
      }
    },
    {
      "cell_type": "code",
      "source": [
        "callback = tf.keras.callbacks.EarlyStopping(monitor='val_loss', patience=10)\n",
        "history = dl_model.fit(\n",
        "    x=X_train,\n",
        "    y=y_train,\n",
        "    epochs=100,\n",
        "    batch_size=32,\n",
        "    callbacks=[callback],               # early stopping\n",
        "    validation_data=(X_val, y_val)      # X_val, y_val을 validation set으로 사용\n",
        ")\n",
        "dl_model.summary()"
      ],
      "metadata": {
        "id": "myN0mfbIY_OP",
        "colab": {
          "base_uri": "https://localhost:8080/"
        },
        "outputId": "ee9195f8-bd51-4740-cf13-2e6ccf2be4bb"
      },
      "execution_count": 85,
      "outputs": [
        {
          "output_type": "stream",
          "name": "stdout",
          "text": [
            "Epoch 1/100\n",
            "164/164 [==============================] - 1s 4ms/step - loss: 5.1110 - mean_squared_error: 5.1110 - val_loss: 1.0561 - val_mean_squared_error: 1.0561\n",
            "Epoch 2/100\n",
            "164/164 [==============================] - 0s 3ms/step - loss: 1.7076 - mean_squared_error: 1.7076 - val_loss: 0.9746 - val_mean_squared_error: 0.9746\n",
            "Epoch 3/100\n",
            "164/164 [==============================] - 0s 3ms/step - loss: 1.4548 - mean_squared_error: 1.4548 - val_loss: 0.9516 - val_mean_squared_error: 0.9516\n",
            "Epoch 4/100\n",
            "164/164 [==============================] - 0s 3ms/step - loss: 1.3494 - mean_squared_error: 1.3494 - val_loss: 0.9361 - val_mean_squared_error: 0.9361\n",
            "Epoch 5/100\n",
            "164/164 [==============================] - 0s 3ms/step - loss: 1.1861 - mean_squared_error: 1.1861 - val_loss: 0.8822 - val_mean_squared_error: 0.8822\n",
            "Epoch 6/100\n",
            "164/164 [==============================] - 0s 3ms/step - loss: 1.1635 - mean_squared_error: 1.1635 - val_loss: 0.9624 - val_mean_squared_error: 0.9624\n",
            "Epoch 7/100\n",
            "164/164 [==============================] - 0s 3ms/step - loss: 1.1202 - mean_squared_error: 1.1202 - val_loss: 0.8804 - val_mean_squared_error: 0.8804\n",
            "Epoch 8/100\n",
            "164/164 [==============================] - 0s 3ms/step - loss: 1.1362 - mean_squared_error: 1.1362 - val_loss: 0.8675 - val_mean_squared_error: 0.8675\n",
            "Epoch 9/100\n",
            "164/164 [==============================] - 0s 3ms/step - loss: 1.0454 - mean_squared_error: 1.0454 - val_loss: 0.8462 - val_mean_squared_error: 0.8462\n",
            "Epoch 10/100\n",
            "164/164 [==============================] - 0s 3ms/step - loss: 1.0216 - mean_squared_error: 1.0216 - val_loss: 0.9052 - val_mean_squared_error: 0.9052\n",
            "Epoch 11/100\n",
            "164/164 [==============================] - 1s 3ms/step - loss: 1.0203 - mean_squared_error: 1.0203 - val_loss: 0.8352 - val_mean_squared_error: 0.8352\n",
            "Epoch 12/100\n",
            "164/164 [==============================] - 0s 3ms/step - loss: 1.0056 - mean_squared_error: 1.0056 - val_loss: 0.8108 - val_mean_squared_error: 0.8108\n",
            "Epoch 13/100\n",
            "164/164 [==============================] - 0s 3ms/step - loss: 1.0045 - mean_squared_error: 1.0045 - val_loss: 0.8887 - val_mean_squared_error: 0.8887\n",
            "Epoch 14/100\n",
            "164/164 [==============================] - 0s 3ms/step - loss: 0.9432 - mean_squared_error: 0.9432 - val_loss: 0.8496 - val_mean_squared_error: 0.8496\n",
            "Epoch 15/100\n",
            "164/164 [==============================] - 0s 3ms/step - loss: 0.9183 - mean_squared_error: 0.9183 - val_loss: 0.8936 - val_mean_squared_error: 0.8936\n",
            "Epoch 16/100\n",
            "164/164 [==============================] - 0s 3ms/step - loss: 0.8804 - mean_squared_error: 0.8804 - val_loss: 0.8376 - val_mean_squared_error: 0.8376\n",
            "Epoch 17/100\n",
            "164/164 [==============================] - 0s 3ms/step - loss: 0.9240 - mean_squared_error: 0.9240 - val_loss: 0.8652 - val_mean_squared_error: 0.8652\n",
            "Epoch 18/100\n",
            "164/164 [==============================] - 1s 3ms/step - loss: 0.8555 - mean_squared_error: 0.8555 - val_loss: 1.0428 - val_mean_squared_error: 1.0428\n",
            "Epoch 19/100\n",
            "164/164 [==============================] - 0s 3ms/step - loss: 0.8842 - mean_squared_error: 0.8842 - val_loss: 0.8252 - val_mean_squared_error: 0.8252\n",
            "Epoch 20/100\n",
            "164/164 [==============================] - 0s 3ms/step - loss: 0.8475 - mean_squared_error: 0.8475 - val_loss: 0.8111 - val_mean_squared_error: 0.8111\n",
            "Epoch 21/100\n",
            "164/164 [==============================] - 0s 3ms/step - loss: 0.8057 - mean_squared_error: 0.8057 - val_loss: 0.7759 - val_mean_squared_error: 0.7759\n",
            "Epoch 22/100\n",
            "164/164 [==============================] - 0s 3ms/step - loss: 0.8189 - mean_squared_error: 0.8189 - val_loss: 0.7727 - val_mean_squared_error: 0.7727\n",
            "Epoch 23/100\n",
            "164/164 [==============================] - 0s 3ms/step - loss: 0.8203 - mean_squared_error: 0.8203 - val_loss: 0.7777 - val_mean_squared_error: 0.7777\n",
            "Epoch 24/100\n",
            "164/164 [==============================] - 1s 3ms/step - loss: 0.7946 - mean_squared_error: 0.7946 - val_loss: 0.9385 - val_mean_squared_error: 0.9385\n",
            "Epoch 25/100\n",
            "164/164 [==============================] - 0s 3ms/step - loss: 0.7869 - mean_squared_error: 0.7869 - val_loss: 0.8391 - val_mean_squared_error: 0.8391\n",
            "Epoch 26/100\n",
            "164/164 [==============================] - 0s 3ms/step - loss: 0.7590 - mean_squared_error: 0.7590 - val_loss: 0.8607 - val_mean_squared_error: 0.8607\n",
            "Epoch 27/100\n",
            "164/164 [==============================] - 0s 3ms/step - loss: 0.7936 - mean_squared_error: 0.7936 - val_loss: 0.7504 - val_mean_squared_error: 0.7504\n",
            "Epoch 28/100\n",
            "164/164 [==============================] - 0s 3ms/step - loss: 0.7266 - mean_squared_error: 0.7266 - val_loss: 0.7929 - val_mean_squared_error: 0.7929\n",
            "Epoch 29/100\n",
            "164/164 [==============================] - 0s 3ms/step - loss: 0.7309 - mean_squared_error: 0.7309 - val_loss: 0.8266 - val_mean_squared_error: 0.8266\n",
            "Epoch 30/100\n",
            "164/164 [==============================] - 0s 3ms/step - loss: 0.7455 - mean_squared_error: 0.7455 - val_loss: 0.7587 - val_mean_squared_error: 0.7587\n",
            "Epoch 31/100\n",
            "164/164 [==============================] - 0s 3ms/step - loss: 0.7265 - mean_squared_error: 0.7265 - val_loss: 0.8539 - val_mean_squared_error: 0.8539\n",
            "Epoch 32/100\n",
            "164/164 [==============================] - 0s 3ms/step - loss: 0.6917 - mean_squared_error: 0.6917 - val_loss: 0.7879 - val_mean_squared_error: 0.7879\n",
            "Epoch 33/100\n",
            "164/164 [==============================] - 0s 3ms/step - loss: 0.6826 - mean_squared_error: 0.6826 - val_loss: 0.7480 - val_mean_squared_error: 0.7480\n",
            "Epoch 34/100\n",
            "164/164 [==============================] - 0s 3ms/step - loss: 0.6808 - mean_squared_error: 0.6808 - val_loss: 0.8399 - val_mean_squared_error: 0.8399\n",
            "Epoch 35/100\n",
            "164/164 [==============================] - 0s 3ms/step - loss: 0.6678 - mean_squared_error: 0.6678 - val_loss: 0.8488 - val_mean_squared_error: 0.8488\n",
            "Epoch 36/100\n",
            "164/164 [==============================] - 0s 3ms/step - loss: 0.6499 - mean_squared_error: 0.6499 - val_loss: 0.8162 - val_mean_squared_error: 0.8162\n",
            "Epoch 37/100\n",
            "164/164 [==============================] - 0s 2ms/step - loss: 0.6545 - mean_squared_error: 0.6545 - val_loss: 0.7631 - val_mean_squared_error: 0.7631\n",
            "Epoch 38/100\n",
            "164/164 [==============================] - 0s 3ms/step - loss: 0.6510 - mean_squared_error: 0.6510 - val_loss: 0.9304 - val_mean_squared_error: 0.9304\n",
            "Epoch 39/100\n",
            "164/164 [==============================] - 0s 3ms/step - loss: 0.6178 - mean_squared_error: 0.6178 - val_loss: 0.7537 - val_mean_squared_error: 0.7537\n",
            "Epoch 40/100\n",
            "164/164 [==============================] - 0s 3ms/step - loss: 0.6200 - mean_squared_error: 0.6200 - val_loss: 0.8243 - val_mean_squared_error: 0.8243\n",
            "Epoch 41/100\n",
            "164/164 [==============================] - 0s 3ms/step - loss: 0.6343 - mean_squared_error: 0.6343 - val_loss: 0.8358 - val_mean_squared_error: 0.8358\n",
            "Epoch 42/100\n",
            "164/164 [==============================] - 0s 2ms/step - loss: 0.6101 - mean_squared_error: 0.6101 - val_loss: 0.8199 - val_mean_squared_error: 0.8199\n",
            "Epoch 43/100\n",
            "164/164 [==============================] - 0s 3ms/step - loss: 0.6044 - mean_squared_error: 0.6044 - val_loss: 0.7992 - val_mean_squared_error: 0.7992\n",
            "Model: \"sequential_4\"\n",
            "_________________________________________________________________\n",
            " Layer (type)                Output Shape              Param #   \n",
            "=================================================================\n",
            " A (Dense)                   (None, 64)                65600     \n",
            "                                                                 \n",
            " dropout_8 (Dropout)         (None, 64)                0         \n",
            "                                                                 \n",
            " B (Dense)                   (None, 32)                2080      \n",
            "                                                                 \n",
            " dropout_9 (Dropout)         (None, 32)                0         \n",
            "                                                                 \n",
            " C (Dense)                   (None, 1)                 33        \n",
            "                                                                 \n",
            "=================================================================\n",
            "Total params: 67,713\n",
            "Trainable params: 67,713\n",
            "Non-trainable params: 0\n",
            "_________________________________________________________________\n"
          ]
        }
      ]
    },
    {
      "cell_type": "markdown",
      "source": [
        "## 4. Deep Learning Model Evaluation"
      ],
      "metadata": {
        "id": "kEBF7gy0Z7LO"
      }
    },
    {
      "cell_type": "markdown",
      "source": [
        "#### 만들어진 Deep Learning 모델의 성능 평가\n",
        "##### X_test 값을 활용하여 dl_model에서 pIC값을 예측"
      ],
      "metadata": {
        "id": "0oQ7Q3vsaCsa"
      }
    },
    {
      "cell_type": "code",
      "source": [
        "y_pred = dl_model.predict(X_test)"
      ],
      "metadata": {
        "id": "s7--5aocZ-a9"
      },
      "execution_count": 86,
      "outputs": []
    },
    {
      "cell_type": "code",
      "source": [
        "print(y_pred)"
      ],
      "metadata": {
        "colab": {
          "base_uri": "https://localhost:8080/"
        },
        "id": "-e1Gx0u96Wgu",
        "outputId": "ade79a13-c1b2-49ec-9646-51782e1491ae"
      },
      "execution_count": 87,
      "outputs": [
        {
          "output_type": "stream",
          "name": "stdout",
          "text": [
            "[[ 7.155858 ]\n",
            " [ 9.003448 ]\n",
            " [ 6.0502586]\n",
            " [ 8.605072 ]\n",
            " [ 5.7395353]\n",
            " [ 6.7041063]\n",
            " [ 6.357828 ]\n",
            " [ 5.260081 ]\n",
            " [ 6.09328  ]\n",
            " [ 7.185637 ]\n",
            " [ 5.7625217]\n",
            " [ 7.539097 ]\n",
            " [ 7.0865984]\n",
            " [ 6.5069637]\n",
            " [ 7.804928 ]\n",
            " [ 6.9045525]\n",
            " [ 5.217723 ]\n",
            " [ 6.282531 ]\n",
            " [10.432973 ]\n",
            " [ 8.559893 ]\n",
            " [ 7.737826 ]\n",
            " [ 6.6911583]\n",
            " [ 7.081011 ]\n",
            " [ 7.8346043]\n",
            " [ 6.666996 ]\n",
            " [ 6.4853764]\n",
            " [ 8.166848 ]\n",
            " [ 8.749003 ]\n",
            " [ 6.944419 ]\n",
            " [ 7.0322576]\n",
            " [ 8.813408 ]\n",
            " [ 5.808464 ]\n",
            " [10.01702  ]\n",
            " [ 7.828346 ]\n",
            " [ 6.976206 ]\n",
            " [ 5.870395 ]\n",
            " [ 6.224628 ]\n",
            " [ 7.680872 ]\n",
            " [ 6.4556236]\n",
            " [ 7.355727 ]\n",
            " [ 7.3939342]\n",
            " [ 8.234882 ]\n",
            " [ 7.8749113]\n",
            " [ 6.613914 ]\n",
            " [ 6.6972504]\n",
            " [ 6.908571 ]\n",
            " [ 5.2409134]\n",
            " [ 9.124214 ]\n",
            " [ 6.7218046]\n",
            " [ 7.9197855]\n",
            " [ 9.207811 ]\n",
            " [ 8.0182905]\n",
            " [ 6.60063  ]\n",
            " [ 6.9324627]\n",
            " [ 6.421407 ]\n",
            " [ 6.240365 ]\n",
            " [ 7.4231124]\n",
            " [ 6.830451 ]\n",
            " [ 8.559246 ]\n",
            " [ 6.6400614]\n",
            " [ 7.6377473]\n",
            " [ 6.3827925]\n",
            " [ 9.256572 ]\n",
            " [ 6.9722347]\n",
            " [ 6.94491  ]\n",
            " [ 9.106784 ]\n",
            " [ 6.355518 ]\n",
            " [ 6.0686975]\n",
            " [ 7.130036 ]\n",
            " [ 7.330019 ]\n",
            " [ 6.600055 ]\n",
            " [ 7.203173 ]\n",
            " [ 6.0686975]\n",
            " [ 6.9168124]\n",
            " [ 8.819803 ]\n",
            " [ 7.3028946]\n",
            " [ 7.569136 ]\n",
            " [ 6.4231186]\n",
            " [ 6.426725 ]\n",
            " [ 6.204962 ]\n",
            " [ 5.5136733]\n",
            " [ 6.2072115]\n",
            " [ 7.323365 ]\n",
            " [ 8.534542 ]\n",
            " [ 6.009903 ]\n",
            " [ 7.285303 ]\n",
            " [ 6.553775 ]\n",
            " [ 6.44584  ]\n",
            " [ 6.5813646]\n",
            " [ 6.6190987]\n",
            " [ 7.787381 ]\n",
            " [ 7.3449583]\n",
            " [ 7.7227573]\n",
            " [ 8.68678  ]\n",
            " [ 6.236249 ]\n",
            " [ 8.900119 ]\n",
            " [ 5.116968 ]\n",
            " [ 6.3026166]\n",
            " [ 7.274328 ]\n",
            " [ 8.781944 ]\n",
            " [ 9.432538 ]\n",
            " [ 7.323365 ]\n",
            " [ 6.825858 ]\n",
            " [ 7.524498 ]\n",
            " [ 6.972752 ]\n",
            " [ 6.113454 ]\n",
            " [ 7.8229113]\n",
            " [ 6.9945507]\n",
            " [10.016903 ]\n",
            " [ 6.434262 ]\n",
            " [ 7.2016892]\n",
            " [ 6.1953697]\n",
            " [ 7.228984 ]\n",
            " [10.01702  ]\n",
            " [ 6.932991 ]\n",
            " [ 7.1156693]\n",
            " [ 7.364869 ]\n",
            " [ 9.594626 ]\n",
            " [ 7.1789265]\n",
            " [ 8.436976 ]\n",
            " [ 7.7466063]\n",
            " [ 7.5589485]\n",
            " [ 7.1290092]\n",
            " [ 8.000017 ]\n",
            " [ 7.570821 ]\n",
            " [ 6.5192   ]\n",
            " [ 7.7281713]\n",
            " [ 6.1228237]\n",
            " [ 9.026186 ]\n",
            " [ 7.7707024]\n",
            " [ 5.611269 ]\n",
            " [ 6.089715 ]\n",
            " [ 7.039966 ]\n",
            " [ 6.91415  ]\n",
            " [ 7.35585  ]\n",
            " [ 5.9265733]\n",
            " [ 7.655526 ]\n",
            " [ 7.2293262]\n",
            " [ 6.4293118]\n",
            " [ 7.857009 ]\n",
            " [ 6.617339 ]\n",
            " [ 8.579073 ]\n",
            " [ 5.902543 ]\n",
            " [ 6.025182 ]\n",
            " [ 7.323365 ]\n",
            " [ 7.370078 ]\n",
            " [ 6.515315 ]\n",
            " [ 6.719111 ]\n",
            " [ 6.9533567]\n",
            " [ 7.3886523]\n",
            " [ 7.0766525]\n",
            " [ 6.6887655]\n",
            " [ 6.141473 ]\n",
            " [ 7.4608316]\n",
            " [ 9.107147 ]\n",
            " [ 7.603848 ]\n",
            " [ 8.400172 ]\n",
            " [ 8.241689 ]\n",
            " [ 7.6797643]\n",
            " [ 6.9839334]\n",
            " [ 7.336771 ]\n",
            " [ 9.121105 ]\n",
            " [ 7.287422 ]\n",
            " [ 6.184102 ]\n",
            " [ 9.677741 ]\n",
            " [ 5.900725 ]\n",
            " [ 8.553392 ]\n",
            " [ 7.2993784]\n",
            " [ 5.9309044]\n",
            " [ 8.457457 ]\n",
            " [ 5.236173 ]\n",
            " [ 6.2179203]\n",
            " [ 9.314988 ]\n",
            " [ 8.657902 ]\n",
            " [ 7.5675573]\n",
            " [ 7.4048567]\n",
            " [ 7.270897 ]\n",
            " [ 7.7650595]\n",
            " [ 7.64398  ]\n",
            " [ 6.769039 ]\n",
            " [ 9.24936  ]\n",
            " [ 6.525279 ]\n",
            " [ 7.5359716]\n",
            " [ 6.8476715]\n",
            " [ 6.170352 ]\n",
            " [ 9.601584 ]\n",
            " [ 6.396614 ]\n",
            " [ 7.2209496]\n",
            " [ 7.659593 ]\n",
            " [ 6.800008 ]\n",
            " [ 5.2434387]\n",
            " [ 7.701206 ]\n",
            " [ 7.8447948]\n",
            " [ 6.178747 ]\n",
            " [ 6.389739 ]\n",
            " [ 6.634196 ]\n",
            " [ 6.6472597]\n",
            " [ 7.1939564]\n",
            " [ 6.390792 ]\n",
            " [ 7.231109 ]\n",
            " [ 6.862834 ]\n",
            " [ 6.941163 ]\n",
            " [ 7.479205 ]\n",
            " [ 9.799272 ]\n",
            " [ 6.5817614]\n",
            " [ 6.3307896]\n",
            " [ 7.6286254]\n",
            " [ 5.6973605]\n",
            " [ 6.385894 ]\n",
            " [10.088798 ]\n",
            " [ 7.323365 ]\n",
            " [ 7.1848893]\n",
            " [ 7.5964727]\n",
            " [ 5.6471   ]\n",
            " [ 8.422808 ]\n",
            " [ 5.3994718]\n",
            " [ 6.922024 ]\n",
            " [ 8.690456 ]\n",
            " [ 7.660722 ]\n",
            " [ 6.4247274]\n",
            " [ 6.936776 ]\n",
            " [ 7.028858 ]\n",
            " [ 7.0564957]\n",
            " [ 6.5093064]\n",
            " [ 8.908653 ]\n",
            " [ 7.254859 ]\n",
            " [ 6.7218046]\n",
            " [ 6.8846903]\n",
            " [ 7.356984 ]\n",
            " [ 8.112623 ]\n",
            " [ 6.677936 ]\n",
            " [ 9.534511 ]\n",
            " [ 4.6919613]\n",
            " [ 7.2199306]\n",
            " [ 7.782546 ]\n",
            " [ 8.796851 ]\n",
            " [ 7.323365 ]\n",
            " [ 7.16131  ]\n",
            " [ 7.653577 ]\n",
            " [ 7.3658814]\n",
            " [ 8.521691 ]\n",
            " [ 9.803489 ]\n",
            " [ 5.6743717]\n",
            " [ 6.2092137]\n",
            " [ 7.441901 ]\n",
            " [ 9.517033 ]\n",
            " [ 5.948224 ]\n",
            " [ 6.4682198]\n",
            " [ 5.9868937]\n",
            " [ 8.115355 ]\n",
            " [ 6.5685296]\n",
            " [ 9.987079 ]\n",
            " [10.061846 ]\n",
            " [ 8.29748  ]\n",
            " [ 7.4169903]\n",
            " [ 7.5667305]\n",
            " [ 6.269991 ]\n",
            " [ 6.3013887]\n",
            " [ 7.703658 ]\n",
            " [ 7.8050804]\n",
            " [ 7.1249533]\n",
            " [ 6.691202 ]\n",
            " [ 6.999433 ]\n",
            " [ 6.522532 ]\n",
            " [ 7.861125 ]\n",
            " [ 6.7636557]\n",
            " [ 5.9688454]\n",
            " [ 6.45033  ]\n",
            " [ 5.813546 ]\n",
            " [ 8.990165 ]\n",
            " [ 9.051621 ]\n",
            " [ 6.088002 ]\n",
            " [ 6.234694 ]\n",
            " [ 7.3108983]\n",
            " [ 8.857115 ]\n",
            " [ 6.8727756]\n",
            " [ 7.370533 ]\n",
            " [ 7.109015 ]\n",
            " [ 7.0866513]\n",
            " [ 6.4531107]\n",
            " [ 7.2007008]\n",
            " [ 4.903727 ]\n",
            " [ 8.429951 ]\n",
            " [ 7.463276 ]\n",
            " [ 5.865972 ]\n",
            " [ 6.3712215]\n",
            " [ 7.717781 ]\n",
            " [ 6.965626 ]\n",
            " [ 6.9170485]\n",
            " [ 6.5834208]\n",
            " [ 7.299816 ]\n",
            " [ 7.205465 ]\n",
            " [ 8.851537 ]\n",
            " [ 6.5746408]\n",
            " [ 5.9835567]\n",
            " [ 7.3745255]\n",
            " [ 9.971439 ]\n",
            " [ 5.8941326]\n",
            " [ 7.5147114]\n",
            " [ 6.3285065]\n",
            " [ 7.6514225]\n",
            " [ 7.1161075]\n",
            " [ 5.76738  ]\n",
            " [ 5.7528095]\n",
            " [ 9.965473 ]\n",
            " [ 7.399979 ]\n",
            " [ 5.8354673]\n",
            " [ 6.0580525]\n",
            " [ 8.138813 ]\n",
            " [ 6.6746206]\n",
            " [ 7.9611526]\n",
            " [ 7.429459 ]\n",
            " [ 7.059317 ]\n",
            " [ 7.0374293]\n",
            " [ 8.633878 ]\n",
            " [ 7.901577 ]\n",
            " [ 7.0768595]\n",
            " [ 7.658572 ]\n",
            " [ 8.941859 ]\n",
            " [ 6.144156 ]\n",
            " [ 6.822835 ]\n",
            " [ 7.4908795]\n",
            " [ 7.601735 ]\n",
            " [ 6.2098103]\n",
            " [ 7.064315 ]\n",
            " [ 6.75315  ]\n",
            " [ 7.6701813]\n",
            " [ 6.509781 ]\n",
            " [ 7.954007 ]\n",
            " [ 7.630394 ]\n",
            " [ 7.6978097]\n",
            " [ 7.7801704]\n",
            " [ 8.628451 ]\n",
            " [ 7.9985657]\n",
            " [ 5.621969 ]\n",
            " [ 7.0949163]\n",
            " [ 8.028822 ]\n",
            " [ 9.555781 ]\n",
            " [ 9.491063 ]\n",
            " [ 6.1197233]\n",
            " [ 7.1842012]\n",
            " [ 8.900512 ]\n",
            " [ 6.191219 ]\n",
            " [ 7.1840444]\n",
            " [ 7.8130784]\n",
            " [ 5.6812468]\n",
            " [ 7.238967 ]\n",
            " [ 6.7476797]\n",
            " [ 8.908653 ]\n",
            " [ 6.825014 ]\n",
            " [ 8.226696 ]\n",
            " [ 7.606834 ]\n",
            " [ 7.0070324]\n",
            " [ 6.088669 ]\n",
            " [ 5.7791777]\n",
            " [ 8.085519 ]\n",
            " [ 6.5570784]\n",
            " [ 7.3197284]\n",
            " [ 7.2785773]\n",
            " [ 6.330109 ]\n",
            " [ 6.387884 ]\n",
            " [ 7.9980774]\n",
            " [ 7.2999744]\n",
            " [ 7.836984 ]\n",
            " [ 6.9137707]\n",
            " [ 6.3123045]\n",
            " [10.398112 ]\n",
            " [ 6.6949196]\n",
            " [ 6.691202 ]\n",
            " [ 7.2452784]\n",
            " [ 8.826347 ]\n",
            " [ 8.135016 ]\n",
            " [ 5.9300756]\n",
            " [ 8.593913 ]\n",
            " [ 9.278456 ]\n",
            " [ 7.0968876]\n",
            " [ 7.9111423]\n",
            " [ 6.238056 ]\n",
            " [ 8.635694 ]\n",
            " [ 7.189499 ]\n",
            " [ 6.9657636]\n",
            " [ 8.950413 ]\n",
            " [ 7.965476 ]\n",
            " [ 6.0057726]\n",
            " [ 6.6221504]\n",
            " [ 7.7281528]\n",
            " [ 7.016883 ]\n",
            " [ 8.321446 ]\n",
            " [ 7.354583 ]\n",
            " [ 7.604072 ]\n",
            " [ 9.17895  ]\n",
            " [ 8.862746 ]\n",
            " [ 7.488532 ]\n",
            " [ 7.3964148]\n",
            " [ 7.8652954]\n",
            " [ 8.138813 ]\n",
            " [ 7.2679534]\n",
            " [ 7.0917826]\n",
            " [ 7.3964825]\n",
            " [ 6.0560713]\n",
            " [ 7.602881 ]\n",
            " [ 8.820016 ]\n",
            " [ 8.703333 ]\n",
            " [ 6.1340413]\n",
            " [ 8.52012  ]\n",
            " [ 9.755851 ]\n",
            " [ 6.545565 ]\n",
            " [ 7.6662207]\n",
            " [ 6.5114045]\n",
            " [ 7.1304016]\n",
            " [ 7.191738 ]\n",
            " [ 7.663287 ]\n",
            " [ 8.643656 ]\n",
            " [ 5.6892314]\n",
            " [ 6.3123045]\n",
            " [ 8.015356 ]\n",
            " [ 7.665368 ]\n",
            " [ 6.874799 ]\n",
            " [ 7.274637 ]\n",
            " [ 8.03785  ]\n",
            " [ 9.249281 ]\n",
            " [ 6.477062 ]\n",
            " [ 6.9876614]\n",
            " [ 7.0024137]\n",
            " [ 6.1652145]\n",
            " [ 8.908653 ]\n",
            " [ 5.9370975]\n",
            " [ 7.59027  ]\n",
            " [ 6.7447968]\n",
            " [ 5.367317 ]\n",
            " [ 6.8958044]\n",
            " [ 6.3835797]\n",
            " [ 7.4610057]\n",
            " [ 5.943616 ]\n",
            " [ 7.23643  ]\n",
            " [ 7.161517 ]\n",
            " [ 7.0224924]\n",
            " [ 6.752632 ]\n",
            " [ 7.7092643]\n",
            " [ 5.9010563]\n",
            " [ 7.5705633]\n",
            " [ 5.1510024]\n",
            " [ 6.7739573]\n",
            " [ 6.0087395]\n",
            " [ 5.9031463]\n",
            " [ 7.7201824]\n",
            " [ 7.356591 ]\n",
            " [ 8.712888 ]\n",
            " [ 8.869499 ]\n",
            " [ 7.890398 ]\n",
            " [ 7.323365 ]\n",
            " [ 7.0297003]\n",
            " [ 5.190438 ]\n",
            " [ 7.737172 ]\n",
            " [ 9.009426 ]\n",
            " [ 6.6723404]\n",
            " [ 7.323365 ]\n",
            " [ 9.759627 ]\n",
            " [ 8.138815 ]\n",
            " [ 7.219014 ]\n",
            " [ 8.68046  ]\n",
            " [ 7.240109 ]\n",
            " [ 6.8537917]\n",
            " [ 6.4592915]\n",
            " [ 7.2720547]\n",
            " [ 9.968149 ]\n",
            " [ 7.595154 ]\n",
            " [ 6.5526743]\n",
            " [ 5.9197283]\n",
            " [ 7.251683 ]\n",
            " [ 7.3916025]\n",
            " [ 6.538189 ]\n",
            " [ 8.231202 ]\n",
            " [ 7.3082275]\n",
            " [ 6.053007 ]\n",
            " [ 7.2322717]\n",
            " [ 8.557702 ]\n",
            " [ 6.6373687]\n",
            " [ 7.6341567]\n",
            " [ 5.2665677]\n",
            " [ 6.871261 ]\n",
            " [ 5.830222 ]\n",
            " [ 8.401017 ]\n",
            " [ 5.1963816]\n",
            " [ 6.2692065]\n",
            " [ 7.271247 ]\n",
            " [ 8.277453 ]\n",
            " [ 6.2471724]\n",
            " [ 8.372852 ]\n",
            " [ 8.15592  ]\n",
            " [ 6.7479887]\n",
            " [ 7.22381  ]\n",
            " [ 7.2167587]\n",
            " [ 7.4073277]\n",
            " [ 6.76963  ]\n",
            " [ 7.052432 ]\n",
            " [ 7.210909 ]\n",
            " [ 7.373516 ]\n",
            " [ 7.985705 ]\n",
            " [ 6.932638 ]\n",
            " [ 6.2444577]\n",
            " [ 6.674095 ]\n",
            " [ 4.9634514]\n",
            " [ 6.766243 ]\n",
            " [ 8.419294 ]\n",
            " [ 7.234062 ]\n",
            " [ 6.49533  ]\n",
            " [ 8.839404 ]\n",
            " [ 7.7077236]\n",
            " [ 7.0525684]\n",
            " [ 9.279803 ]\n",
            " [ 7.089924 ]\n",
            " [ 6.984605 ]\n",
            " [ 6.543689 ]\n",
            " [ 8.117417 ]\n",
            " [ 7.3178225]\n",
            " [ 6.935666 ]\n",
            " [ 5.409309 ]\n",
            " [ 7.8922544]\n",
            " [ 8.08386  ]\n",
            " [ 7.3497562]\n",
            " [ 5.0372024]\n",
            " [ 8.73212  ]\n",
            " [ 5.976641 ]\n",
            " [ 8.752724 ]\n",
            " [ 6.4817095]\n",
            " [ 9.288888 ]\n",
            " [ 6.8938923]\n",
            " [ 7.358984 ]\n",
            " [ 8.27079  ]\n",
            " [ 5.900725 ]\n",
            " [ 5.615961 ]\n",
            " [ 5.711296 ]\n",
            " [ 6.395129 ]\n",
            " [ 8.254089 ]\n",
            " [ 9.24713  ]\n",
            " [ 6.699419 ]\n",
            " [ 7.004914 ]\n",
            " [ 7.897748 ]\n",
            " [ 6.825036 ]\n",
            " [ 7.2688346]\n",
            " [ 6.3764486]\n",
            " [ 6.1925926]\n",
            " [ 7.0417137]\n",
            " [ 9.141977 ]\n",
            " [ 5.8675017]\n",
            " [ 8.687221 ]\n",
            " [ 7.323864 ]\n",
            " [ 6.28451  ]\n",
            " [ 9.338249 ]\n",
            " [ 7.000552 ]\n",
            " [ 6.8363748]\n",
            " [ 6.5083904]\n",
            " [ 7.5466876]\n",
            " [ 6.2094626]\n",
            " [ 7.18799  ]\n",
            " [ 6.8527703]\n",
            " [ 7.627653 ]\n",
            " [ 7.4607697]\n",
            " [ 7.6637487]\n",
            " [ 7.360357 ]\n",
            " [ 5.6213937]\n",
            " [ 7.0894613]\n",
            " [ 7.435627 ]\n",
            " [ 7.197583 ]\n",
            " [ 6.223255 ]\n",
            " [ 8.083439 ]\n",
            " [ 6.679468 ]\n",
            " [ 6.713969 ]\n",
            " [ 7.6586647]\n",
            " [ 6.7747784]\n",
            " [ 7.618328 ]\n",
            " [ 6.952277 ]\n",
            " [ 7.54198  ]\n",
            " [ 6.297086 ]\n",
            " [ 6.772399 ]\n",
            " [ 5.495216 ]\n",
            " [ 6.5459137]\n",
            " [ 8.348826 ]\n",
            " [ 7.16131  ]\n",
            " [ 5.735587 ]\n",
            " [ 7.166147 ]\n",
            " [ 8.711652 ]\n",
            " [ 6.3476543]\n",
            " [ 7.2327757]\n",
            " [ 7.217945 ]\n",
            " [ 7.057864 ]\n",
            " [ 7.4568224]\n",
            " [ 7.412988 ]\n",
            " [ 7.6737046]\n",
            " [ 8.513628 ]\n",
            " [ 7.7728043]\n",
            " [ 9.284692 ]\n",
            " [ 5.3203974]\n",
            " [ 6.2063417]\n",
            " [ 9.599568 ]\n",
            " [ 8.908653 ]\n",
            " [ 6.5227127]\n",
            " [ 6.761395 ]\n",
            " [ 6.959218 ]\n",
            " [ 7.371278 ]\n",
            " [ 6.569345 ]\n",
            " [ 6.6769476]\n",
            " [ 8.849318 ]\n",
            " [ 7.150596 ]\n",
            " [ 6.089715 ]\n",
            " [ 8.460094 ]\n",
            " [ 5.8798985]\n",
            " [ 7.6285925]\n",
            " [ 6.542778 ]\n",
            " [ 5.502098 ]\n",
            " [ 9.000587 ]\n",
            " [ 6.4024467]\n",
            " [ 6.9374866]\n",
            " [ 6.79299  ]\n",
            " [ 6.435087 ]\n",
            " [ 7.192094 ]\n",
            " [ 6.809678 ]\n",
            " [ 8.147108 ]\n",
            " [ 6.905863 ]\n",
            " [ 7.66621  ]\n",
            " [ 8.93891  ]\n",
            " [ 6.0894113]\n",
            " [ 8.046848 ]\n",
            " [ 7.9961033]\n",
            " [ 6.6891985]\n",
            " [ 6.8080244]\n",
            " [ 5.7760186]\n",
            " [ 8.195473 ]\n",
            " [ 6.537292 ]\n",
            " [ 6.507964 ]\n",
            " [ 6.330341 ]\n",
            " [ 6.634453 ]\n",
            " [ 9.587476 ]\n",
            " [ 7.059036 ]\n",
            " [ 6.033332 ]\n",
            " [ 5.168763 ]\n",
            " [ 6.763688 ]\n",
            " [ 7.565645 ]\n",
            " [ 5.97716  ]\n",
            " [ 7.256381 ]\n",
            " [ 9.774354 ]\n",
            " [ 5.515208 ]\n",
            " [ 9.112235 ]\n",
            " [ 7.3725867]\n",
            " [ 7.4453363]]\n"
          ]
        }
      ]
    },
    {
      "cell_type": "markdown",
      "source": [
        "#### Mean squared error를 통해 정량적으로 성능을 측정"
      ],
      "metadata": {
        "id": "MzjOdJ6QaVij"
      }
    },
    {
      "cell_type": "code",
      "source": [
        "from sklearn.metrics import mean_squared_error\n",
        "mse = mean_squared_error(y_pred,y_test)\n",
        "print(mse)"
      ],
      "metadata": {
        "id": "6NSa_BJVab1N",
        "colab": {
          "base_uri": "https://localhost:8080/"
        },
        "outputId": "52362d39-d18c-44e6-8f68-8eb033daeb9e"
      },
      "execution_count": 88,
      "outputs": [
        {
          "output_type": "stream",
          "name": "stdout",
          "text": [
            "0.8740872649276068\n"
          ]
        }
      ]
    },
    {
      "cell_type": "markdown",
      "source": [
        "#### Epoch에 따른 training loss와 validation loss를 visualization"
      ],
      "metadata": {
        "id": "od_eaDWaah1o"
      }
    },
    {
      "cell_type": "code",
      "source": [
        "history_dict = history.history\n",
        "print(history_dict.keys())\n",
        "\n",
        "loss = history_dict['loss']\n",
        "val_loss = history_dict['val_loss']\n",
        "\n",
        "epoch = range(1, len(loss)+1)\n",
        "\n",
        "plt.plot(epoch, loss, 'bo', label='Training Loss')\n",
        "plt.plot(epoch, val_loss, 'b', label='Validation Loss')\n",
        "plt.title('Training and Validation Loss')\n",
        "plt.xlabel('epoch')\n",
        "plt.ylabel('loss')\n",
        "plt.legend()\n",
        "plt.show()"
      ],
      "metadata": {
        "id": "bCrapsZwajlR",
        "colab": {
          "base_uri": "https://localhost:8080/",
          "height": 313
        },
        "outputId": "f56bae19-d224-4d85-d578-4c0041f3c2bf"
      },
      "execution_count": 89,
      "outputs": [
        {
          "output_type": "stream",
          "name": "stdout",
          "text": [
            "dict_keys(['loss', 'mean_squared_error', 'val_loss', 'val_mean_squared_error'])\n"
          ]
        },
        {
          "output_type": "display_data",
          "data": {
            "text/plain": [
              "<Figure size 432x288 with 1 Axes>"
            ],
            "image/png": "[encoded data removed]"
          },
          "metadata": {
            "needs_background": "light"
          }
        }
      ]
    },
    {
      "cell_type": "markdown",
      "source": [
        "### Scatter Plot을 이용하여 예측이 잘 되었는지 확인\n"
      ],
      "metadata": {
        "id": "zq-AFjIVIzdp"
      }
    },
    {
      "cell_type": "code",
      "source": [
        "plt.scatter(y_test, y_pred)\n",
        "plt.xlabel('Experimental pIC50')\n",
        "plt.ylabel('Predicted pIC50')\n",
        "\n",
        "plt.grid()\n",
        "plt.xlim(4.5, 11)\n",
        "plt.ylim(4.5, 11)\n",
        "plt.plot(range(4, 12), range(4, 12), \"r--\", label=\"y=x\")\n",
        "plt.show()"
      ],
      "metadata": {
        "id": "ufSUGLa_Ivdu",
        "colab": {
          "base_uri": "https://localhost:8080/",
          "height": 283
        },
        "outputId": "9fd1fbd5-2544-4f86-9f01-54201179fa03"
      },
      "execution_count": 90,
      "outputs": [
        {
          "output_type": "display_data",
          "data": {
            "text/plain": [
              "<Figure size 432x288 with 1 Axes>"
            ],
            "image/png": "[encoded data removed]"
          },
          "metadata": {
            "needs_background": "light"
          }
        }
      ]
    },
    {
      "cell_type": "markdown",
      "source": [
        "## 5. Virtual Screening"
      ],
      "metadata": {
        "id": "kLdKBwh-asB0"
      }
    },
    {
      "cell_type": "markdown",
      "source": [
        "##### Zinc15 database의 Compound Library로부터 새로운 candidate를 찾기\n",
        "##### Compound Library를 csv파일로부터 불러들임"
      ],
      "metadata": {
        "id": "5bHA_c2Jaw0x"
      }
    },
    {
      "cell_type": "code",
      "source": [
        "compound_lib =pd.read_csv('/content/drive/MyDrive/zinc15_compound_library.csv')\n",
        "print(compound_lib)"
      ],
      "metadata": {
        "id": "_mCBgrDxa54U",
        "colab": {
          "base_uri": "https://localhost:8080/"
        },
        "outputId": "9f6291ef-61e9-4a92-e402-3356f1a89424"
      },
      "execution_count": 91,
      "outputs": [
        {
          "output_type": "stream",
          "name": "stdout",
          "text": [
            "                zinc_id                                             smiles\n",
            "0      ZINC000023247639  CCN1CCN(Cc2ccc(NC(=O)Nc3ccc(Oc4cc(NC)ncn4)cc3)...\n",
            "1      ZINC000003964325  CCN(CC)CCNC(=O)c1c(C)[nH]c(/C=C2\\C(=O)Nc3ccc(F...\n",
            "2      ZINC000004793192                    CCN1/C(=C/C(C)=O)Sc2ccc(OC)cc21\n",
            "3      ZINC000018825344  Cc1[nH]c(/C=C2\\C(=O)Nc3ccc(F)cc32)c(C)c1C(=O)N...\n",
            "4      ZINC000211266712    COc1cccc(C(=O)Nc2nc3cc4c(cc3[nH]2)OC(F)(F)O4)c1\n",
            "...                 ...                                                ...\n",
            "78309  ZINC000040935360                     Nc1[nH]nc2ccc(-c3cc[nH]n3)cc12\n",
            "78310  ZINC000299856072  COc1cccc(NC(=O)c2cnc(N3CCN(c4ccccc4OC)CC3)c([N...\n",
            "78311  ZINC000103271379  O=C1NC(=O)C(c2c[nH]c3ccccc23)=C1Nc1ccc(OCCNc2c...\n",
            "78312  ZINC000003874496        O=C(Nc1ccc([N+](=O)[O-])cc1Cl)c1cc(Cl)ccc1O\n",
            "78313  ZINC000084654286  CSc1ccccc1Nc1nc(N2CCN(C3CCNCC3)CC2)nc2c(NCC3CC...\n",
            "\n",
            "[78314 rows x 2 columns]\n"
          ]
        }
      ]
    },
    {
      "cell_type": "markdown",
      "source": [
        "#### Input 값은 SMILES"
      ],
      "metadata": {
        "id": "yqdW9JD0a-I9"
      }
    },
    {
      "cell_type": "code",
      "source": [
        "comp_smiles = compound_lib['smiles']"
      ],
      "metadata": {
        "id": "9KSOYnivbHdI"
      },
      "execution_count": 92,
      "outputs": []
    },
    {
      "cell_type": "markdown",
      "source": [
        "#### Compound SMILES로부터 분자 읽어들이기"
      ],
      "metadata": {
        "id": "pyPz3ljTbKnE"
      }
    },
    {
      "cell_type": "code",
      "source": [
        "X_comp = []\n",
        "for i in comp_smiles:\n",
        "    mol = Chem.MolFromSmiles(i)\n",
        "    fp = AllChem.GetMorganFingerprintAsBitVect(mol, 4, nBits=1024),\n",
        "    fp = np.array(fp)\n",
        "    X_comp.append(fp)"
      ],
      "metadata": {
        "id": "1HtaEq_UbKbk"
      },
      "execution_count": 93,
      "outputs": []
    },
    {
      "cell_type": "markdown",
      "source": [
        "#### 개발한 QSAR regression model (Deep learning model :dl_model)을 Compound Library에 적용"
      ],
      "metadata": {
        "id": "Qg6YNLX-bWQK"
      }
    },
    {
      "cell_type": "code",
      "source": [
        "# # 데이터를 tensor로 변환 후\n",
        "X_comp = tf.convert_to_tensor(X_comp)"
      ],
      "metadata": {
        "id": "CguPAXkzbaBh"
      },
      "execution_count": 94,
      "outputs": []
    },
    {
      "cell_type": "code",
      "source": [
        "# dl_model을 통해 예측값을 구함\n",
        "comp_predict = dl_model.predict(X_comp)"
      ],
      "metadata": {
        "id": "-QncDX6DbkKD",
        "colab": {
          "base_uri": "https://localhost:8080/"
        },
        "outputId": "8d5a158b-632d-4c0c-ef2a-76eaef658ce1"
      },
      "execution_count": 95,
      "outputs": [
        {
          "output_type": "stream",
          "name": "stdout",
          "text": [
            "WARNING:tensorflow:Model was constructed with shape (None, 1024) for input KerasTensor(type_spec=TensorSpec(shape=(None, 1024), dtype=tf.float32, name='A_input'), name='A_input', description=\"created by layer 'A_input'\"), but it was called on an input with incompatible shape (None, 1, 1024).\n"
          ]
        },
        {
          "output_type": "stream",
          "name": "stderr",
          "text": [
            "WARNING:tensorflow:Model was constructed with shape (None, 1024) for input KerasTensor(type_spec=TensorSpec(shape=(None, 1024), dtype=tf.float32, name='A_input'), name='A_input', description=\"created by layer 'A_input'\"), but it was called on an input with incompatible shape (None, 1, 1024).\n"
          ]
        }
      ]
    },
    {
      "cell_type": "markdown",
      "source": [
        "#### 예측값을 compound library 데이터프레임에 새로운 column으로 입력"
      ],
      "metadata": {
        "id": "bhZrztL2bgno"
      }
    },
    {
      "cell_type": "code",
      "source": [
        "compound_lib"
      ],
      "metadata": {
        "colab": {
          "base_uri": "https://localhost:8080/",
          "height": 424
        },
        "id": "aeNOKA0K7N-w",
        "outputId": "69121e5d-5131-421f-86e4-47da6414667b"
      },
      "execution_count": 96,
      "outputs": [
        {
          "output_type": "execute_result",
          "data": {
            "text/plain": [
              "                zinc_id                                             smiles\n",
              "0      ZINC000023247639  CCN1CCN(Cc2ccc(NC(=O)Nc3ccc(Oc4cc(NC)ncn4)cc3)...\n",
              "1      ZINC000003964325  CCN(CC)CCNC(=O)c1c(C)[nH]c(/C=C2\\C(=O)Nc3ccc(F...\n",
              "2      ZINC000004793192                    CCN1/C(=C/C(C)=O)Sc2ccc(OC)cc21\n",
              "3      ZINC000018825344  Cc1[nH]c(/C=C2\\C(=O)Nc3ccc(F)cc32)c(C)c1C(=O)N...\n",
              "4      ZINC000211266712    COc1cccc(C(=O)Nc2nc3cc4c(cc3[nH]2)OC(F)(F)O4)c1\n",
              "...                 ...                                                ...\n",
              "78309  ZINC000040935360                     Nc1[nH]nc2ccc(-c3cc[nH]n3)cc12\n",
              "78310  ZINC000299856072  COc1cccc(NC(=O)c2cnc(N3CCN(c4ccccc4OC)CC3)c([N...\n",
              "78311  ZINC000103271379  O=C1NC(=O)C(c2c[nH]c3ccccc23)=C1Nc1ccc(OCCNc2c...\n",
              "78312  ZINC000003874496        O=C(Nc1ccc([N+](=O)[O-])cc1Cl)c1cc(Cl)ccc1O\n",
              "78313  ZINC000084654286  CSc1ccccc1Nc1nc(N2CCN(C3CCNCC3)CC2)nc2c(NCC3CC...\n",
              "\n",
              "[78314 rows x 2 columns]"
            ],
            "text/html": [
              "\n",
              "  <div id=\"df-00e65a6d-4a4e-460d-8c60-5e0a4da72b8b\">\n",
              "    <div class=\"colab-df-container\">\n",
              "      <div>\n",
              "<style scoped>\n",
              "    .dataframe tbody tr th:only-of-type {\n",
              "        vertical-align: middle;\n",
              "    }\n",
              "\n",
              "    .dataframe tbody tr th {\n",
              "        vertical-align: top;\n",
              "    }\n",
              "\n",
              "    .dataframe thead th {\n",
              "        text-align: right;\n",
              "    }\n",
              "</style>\n",
              "<table border=\"1\" class=\"dataframe\">\n",
              "  <thead>\n",
              "    <tr style=\"text-align: right;\">\n",
              "      <th></th>\n",
              "      <th>zinc_id</th>\n",
              "      <th>smiles</th>\n",
              "    </tr>\n",
              "  </thead>\n",
              "  <tbody>\n",
              "    <tr>\n",
              "      <th>0</th>\n",
              "      <td>ZINC000023247639</td>\n",
              "      <td>CCN1CCN(Cc2ccc(NC(=O)Nc3ccc(Oc4cc(NC)ncn4)cc3)...</td>\n",
              "    </tr>\n",
              "    <tr>\n",
              "      <th>1</th>\n",
              "      <td>ZINC000003964325</td>\n",
              "      <td>CCN(CC)CCNC(=O)c1c(C)[nH]c(/C=C2\\C(=O)Nc3ccc(F...</td>\n",
              "    </tr>\n",
              "    <tr>\n",
              "      <th>2</th>\n",
              "      <td>ZINC000004793192</td>\n",
              "      <td>CCN1/C(=C/C(C)=O)Sc2ccc(OC)cc21</td>\n",
              "    </tr>\n",
              "    <tr>\n",
              "      <th>3</th>\n",
              "      <td>ZINC000018825344</td>\n",
              "      <td>Cc1[nH]c(/C=C2\\C(=O)Nc3ccc(F)cc32)c(C)c1C(=O)N...</td>\n",
              "    </tr>\n",
              "    <tr>\n",
              "      <th>4</th>\n",
              "      <td>ZINC000211266712</td>\n",
              "      <td>COc1cccc(C(=O)Nc2nc3cc4c(cc3[nH]2)OC(F)(F)O4)c1</td>\n",
              "    </tr>\n",
              "    <tr>\n",
              "      <th>...</th>\n",
              "      <td>...</td>\n",
              "      <td>...</td>\n",
              "    </tr>\n",
              "    <tr>\n",
              "      <th>78309</th>\n",
              "      <td>ZINC000040935360</td>\n",
              "      <td>Nc1[nH]nc2ccc(-c3cc[nH]n3)cc12</td>\n",
              "    </tr>\n",
              "    <tr>\n",
              "      <th>78310</th>\n",
              "      <td>ZINC000299856072</td>\n",
              "      <td>COc1cccc(NC(=O)c2cnc(N3CCN(c4ccccc4OC)CC3)c([N...</td>\n",
              "    </tr>\n",
              "    <tr>\n",
              "      <th>78311</th>\n",
              "      <td>ZINC000103271379</td>\n",
              "      <td>O=C1NC(=O)C(c2c[nH]c3ccccc23)=C1Nc1ccc(OCCNc2c...</td>\n",
              "    </tr>\n",
              "    <tr>\n",
              "      <th>78312</th>\n",
              "      <td>ZINC000003874496</td>\n",
              "      <td>O=C(Nc1ccc([N+](=O)[O-])cc1Cl)c1cc(Cl)ccc1O</td>\n",
              "    </tr>\n",
              "    <tr>\n",
              "      <th>78313</th>\n",
              "      <td>ZINC000084654286</td>\n",
              "      <td>CSc1ccccc1Nc1nc(N2CCN(C3CCNCC3)CC2)nc2c(NCC3CC...</td>\n",
              "    </tr>\n",
              "  </tbody>\n",
              "</table>\n",
              "<p>78314 rows × 2 columns</p>\n",
              "</div>\n",
              "      <button class=\"colab-df-convert\" onclick=\"convertToInteractive('df-00e65a6d-4a4e-460d-8c60-5e0a4da72b8b')\"\n",
              "              title=\"Convert this dataframe to an interactive table.\"\n",
              "              style=\"display:none;\">\n",
              "        \n",
              "  <svg xmlns=\"http://www.w3.org/2000/svg\" height=\"24px\"viewBox=\"0 0 24 24\"\n",
              "       width=\"24px\">\n",
              "    <path d=\"M0 0h24v24H0V0z\" fill=\"none\"/>\n",
              "    <path d=\"M18.56 5.44l.94 2.06.94-2.06 2.06-.94-2.06-.94-.94-2.06-.94 2.06-2.06.94zm-11 1L8.5 8.5l.94-2.06 2.06-.94-2.06-.94L8.5 2.5l-.94 2.06-2.06.94zm10 10l.94 2.06.94-2.06 2.06-.94-2.06-.94-.94-2.06-.94 2.06-2.06.94z\"/><path d=\"M17.41 7.96l-1.37-1.37c-.4-.4-.92-.59-1.43-.59-.52 0-1.04.2-1.43.59L10.3 9.45l-7.72 7.72c-.78.78-.78 2.05 0 2.83L4 21.41c.39.39.9.59 1.41.59.51 0 1.02-.2 1.41-.59l7.78-7.78 2.81-2.81c.8-.78.8-2.07 0-2.86zM5.41 20L4 18.59l7.72-7.72 1.47 1.35L5.41 20z\"/>\n",
              "  </svg>\n",
              "      </button>\n",
              "      \n",
              "  <style>\n",
              "    .colab-df-container {\n",
              "      display:flex;\n",
              "      flex-wrap:wrap;\n",
              "      gap: 12px;\n",
              "    }\n",
              "\n",
              "    .colab-df-convert {\n",
              "      background-color: #E8F0FE;\n",
              "      border: none;\n",
              "      border-radius: 50%;\n",
              "      cursor: pointer;\n",
              "      display: none;\n",
              "      fill: #1967D2;\n",
              "      height: 32px;\n",
              "      padding: 0 0 0 0;\n",
              "      width: 32px;\n",
              "    }\n",
              "\n",
              "    .colab-df-convert:hover {\n",
              "      background-color: #E2EBFA;\n",
              "      box-shadow: 0px 1px 2px rgba(60, 64, 67, 0.3), 0px 1px 3px 1px rgba(60, 64, 67, 0.15);\n",
              "      fill: #174EA6;\n",
              "    }\n",
              "\n",
              "    [theme=dark] .colab-df-convert {\n",
              "      background-color: #3B4455;\n",
              "      fill: #D2E3FC;\n",
              "    }\n",
              "\n",
              "    [theme=dark] .colab-df-convert:hover {\n",
              "      background-color: #434B5C;\n",
              "      box-shadow: 0px 1px 3px 1px rgba(0, 0, 0, 0.15);\n",
              "      filter: drop-shadow(0px 1px 2px rgba(0, 0, 0, 0.3));\n",
              "      fill: #FFFFFF;\n",
              "    }\n",
              "  </style>\n",
              "\n",
              "      <script>\n",
              "        const buttonEl =\n",
              "          document.querySelector('#df-00e65a6d-4a4e-460d-8c60-5e0a4da72b8b button.colab-df-convert');\n",
              "        buttonEl.style.display =\n",
              "          google.colab.kernel.accessAllowed ? 'block' : 'none';\n",
              "\n",
              "        async function convertToInteractive(key) {\n",
              "          const element = document.querySelector('#df-00e65a6d-4a4e-460d-8c60-5e0a4da72b8b');\n",
              "          const dataTable =\n",
              "            await google.colab.kernel.invokeFunction('convertToInteractive',\n",
              "                                                     [key], {});\n",
              "          if (!dataTable) return;\n",
              "\n",
              "          const docLinkHtml = 'Like what you see? Visit the ' +\n",
              "            '<a target=\"_blank\" href=https://colab.research.google.com/notebooks/data_table.ipynb>data table notebook</a>'\n",
              "            + ' to learn more about interactive tables.';\n",
              "          element.innerHTML = '';\n",
              "          dataTable['output_type'] = 'display_data';\n",
              "          await google.colab.output.renderOutput(dataTable, element);\n",
              "          const docLink = document.createElement('div');\n",
              "          docLink.innerHTML = docLinkHtml;\n",
              "          element.appendChild(docLink);\n",
              "        }\n",
              "      </script>\n",
              "    </div>\n",
              "  </div>\n",
              "  "
            ]
          },
          "metadata": {},
          "execution_count": 96
        }
      ]
    },
    {
      "cell_type": "code",
      "source": [
        "comp_predict"
      ],
      "metadata": {
        "colab": {
          "base_uri": "https://localhost:8080/"
        },
        "id": "-sN44sc67RlR",
        "outputId": "bae91e30-0e17-4840-ef75-9c9ce789f274"
      },
      "execution_count": 97,
      "outputs": [
        {
          "output_type": "execute_result",
          "data": {
            "text/plain": [
              "array([[[5.7196054]],\n",
              "\n",
              "       [[6.1035132]],\n",
              "\n",
              "       [[4.9060636]],\n",
              "\n",
              "       ...,\n",
              "\n",
              "       [[5.3117895]],\n",
              "\n",
              "       [[5.2313004]],\n",
              "\n",
              "       [[6.369855 ]]], dtype=float32)"
            ]
          },
          "metadata": {},
          "execution_count": 97
        }
      ]
    },
    {
      "cell_type": "code",
      "source": [
        "comp_predict=comp_predict.reshape(78314,-1)"
      ],
      "metadata": {
        "id": "PjeaUnbR7Vqf"
      },
      "execution_count": 98,
      "outputs": []
    },
    {
      "cell_type": "code",
      "source": [
        "compound_lib['predicted_pIC50'] = comp_predict"
      ],
      "metadata": {
        "id": "5HwMbuGg6956"
      },
      "execution_count": 99,
      "outputs": []
    },
    {
      "cell_type": "code",
      "source": [
        "print(compound_lib)"
      ],
      "metadata": {
        "colab": {
          "base_uri": "https://localhost:8080/"
        },
        "id": "b2P0zPmF7I_5",
        "outputId": "55854cb1-edfa-4c00-aac7-fb766bcd5a50"
      },
      "execution_count": 100,
      "outputs": [
        {
          "output_type": "stream",
          "name": "stdout",
          "text": [
            "                zinc_id                                             smiles  \\\n",
            "0      ZINC000023247639  CCN1CCN(Cc2ccc(NC(=O)Nc3ccc(Oc4cc(NC)ncn4)cc3)...   \n",
            "1      ZINC000003964325  CCN(CC)CCNC(=O)c1c(C)[nH]c(/C=C2\\C(=O)Nc3ccc(F...   \n",
            "2      ZINC000004793192                    CCN1/C(=C/C(C)=O)Sc2ccc(OC)cc21   \n",
            "3      ZINC000018825344  Cc1[nH]c(/C=C2\\C(=O)Nc3ccc(F)cc32)c(C)c1C(=O)N...   \n",
            "4      ZINC000211266712    COc1cccc(C(=O)Nc2nc3cc4c(cc3[nH]2)OC(F)(F)O4)c1   \n",
            "...                 ...                                                ...   \n",
            "78309  ZINC000040935360                     Nc1[nH]nc2ccc(-c3cc[nH]n3)cc12   \n",
            "78310  ZINC000299856072  COc1cccc(NC(=O)c2cnc(N3CCN(c4ccccc4OC)CC3)c([N...   \n",
            "78311  ZINC000103271379  O=C1NC(=O)C(c2c[nH]c3ccccc23)=C1Nc1ccc(OCCNc2c...   \n",
            "78312  ZINC000003874496        O=C(Nc1ccc([N+](=O)[O-])cc1Cl)c1cc(Cl)ccc1O   \n",
            "78313  ZINC000084654286  CSc1ccccc1Nc1nc(N2CCN(C3CCNCC3)CC2)nc2c(NCC3CC...   \n",
            "\n",
            "       predicted_pIC50  \n",
            "0             5.719605  \n",
            "1             6.103513  \n",
            "2             4.906064  \n",
            "3             5.649905  \n",
            "4             6.316155  \n",
            "...                ...  \n",
            "78309         5.496545  \n",
            "78310         5.171971  \n",
            "78311         5.311790  \n",
            "78312         5.231300  \n",
            "78313         6.369855  \n",
            "\n",
            "[78314 rows x 3 columns]\n"
          ]
        }
      ]
    },
    {
      "cell_type": "markdown",
      "source": [
        "#### 전체 compound library 데이터를 'predicted_pIC50'값으로 내림차순 정렬\n",
        "- 참고자료: https://pandas.pydata.org/docs/reference/api/pandas.DataFrame.sort_values.html"
      ],
      "metadata": {
        "id": "J_umCngfbz2k"
      }
    },
    {
      "cell_type": "code",
      "source": [
        "sorted_data = compound_lib.sort_values(by=['predicted_pIC50'], ascending=False)\n",
        "print(sorted_data)"
      ],
      "metadata": {
        "id": "31ccjR90b2Nt",
        "colab": {
          "base_uri": "https://localhost:8080/"
        },
        "outputId": "1ceec548-4349-4da0-9cfe-09f7c5b03c9a"
      },
      "execution_count": 101,
      "outputs": [
        {
          "output_type": "stream",
          "name": "stdout",
          "text": [
            "                zinc_id                                             smiles  \\\n",
            "77064  ZINC000096282528  O=C(O)c1ccc(Nc2nc3c(-c4cnn(C5CCCC5)c4)cccn3n2)cc1   \n",
            "23388  ZINC000168934370  CS(=O)(=O)N1CCC[C@H](Nc2ncncc2-c2cnc3[nH]ccc3n...   \n",
            "77848  ZINC000168934370  CS(=O)(=O)N1CCC[C@H](Nc2ncncc2-c2cnc3[nH]ccc3n...   \n",
            "54911  ZINC000168934370  CS(=O)(=O)N1CCC[C@H](Nc2ncncc2-c2cnc3[nH]ccc3n...   \n",
            "1894   ZINC000084713925  O=C1[C@H](Nc2cc(F)cc(Cl)c2)CCCN1[C@@H]1CCCN(c2...   \n",
            "...                 ...                                                ...   \n",
            "14734  ZINC000103236201                          Cc1c(O)c(O)c(O)c2c1COC2=O   \n",
            "19205  ZINC000000587938   c1ccc(-n2cnc3cc(-c4ccc(OCCN5CCCCC5)cc4)cnc32)cc1   \n",
            "41703  ZINC000008437745                                            NC(N)=S   \n",
            "41655  ZINC000008437745                                            NC(N)=S   \n",
            "74219  ZINC000001529266                         CCN(CC)C(=S)SSC(=S)N(CC)CC   \n",
            "\n",
            "       predicted_pIC50  \n",
            "77064        10.017020  \n",
            "23388         9.971439  \n",
            "77848         9.971439  \n",
            "54911         9.971439  \n",
            "1894          9.814370  \n",
            "...                ...  \n",
            "14734         3.932176  \n",
            "19205         3.923308  \n",
            "41703         3.819010  \n",
            "41655         3.819010  \n",
            "74219         3.727583  \n",
            "\n",
            "[78314 rows x 3 columns]\n"
          ]
        }
      ]
    },
    {
      "cell_type": "markdown",
      "source": [
        "#### 가장 높은 activity를 보일 것으로 예측된 100개의 후보물질들을 뽑음\n",
        "- 참고자료: https://pandas.pydata.org/docs/reference/api/pandas.DataFrame.iloc.html"
      ],
      "metadata": {
        "id": "XT7hfWd1cFcP"
      }
    },
    {
      "cell_type": "code",
      "source": [
        "candidates = sorted_data.head(100)\n",
        "print(candidates)"
      ],
      "metadata": {
        "id": "ZPrqNZeicIEk",
        "colab": {
          "base_uri": "https://localhost:8080/"
        },
        "outputId": "b42d0fea-bb06-4c9e-b9f6-fc6453b51c6d"
      },
      "execution_count": 102,
      "outputs": [
        {
          "output_type": "stream",
          "name": "stdout",
          "text": [
            "                zinc_id                                             smiles  \\\n",
            "77064  ZINC000096282528  O=C(O)c1ccc(Nc2nc3c(-c4cnn(C5CCCC5)c4)cccn3n2)cc1   \n",
            "23388  ZINC000168934370  CS(=O)(=O)N1CCC[C@H](Nc2ncncc2-c2cnc3[nH]ccc3n...   \n",
            "77848  ZINC000168934370  CS(=O)(=O)N1CCC[C@H](Nc2ncncc2-c2cnc3[nH]ccc3n...   \n",
            "54911  ZINC000168934370  CS(=O)(=O)N1CCC[C@H](Nc2ncncc2-c2cnc3[nH]ccc3n...   \n",
            "1894   ZINC000084713925  O=C1[C@H](Nc2cc(F)cc(Cl)c2)CCCN1[C@@H]1CCCN(c2...   \n",
            "...                 ...                                                ...   \n",
            "72541  ZINC000043207851       N#CC[C@H](C1CCCC1)n1cc(-c2ncnc3[nH]ccc23)cn1   \n",
            "54456  ZINC000043207851       N#CC[C@H](C1CCCC1)n1cc(-c2ncnc3[nH]ccc23)cn1   \n",
            "36940  ZINC000043207851       N#CC[C@H](C1CCCC1)n1cc(-c2ncnc3[nH]ccc23)cn1   \n",
            "74155  ZINC000043207851       N#CC[C@H](C1CCCC1)n1cc(-c2ncnc3[nH]ccc23)cn1   \n",
            "62702  ZINC000043207851       N#CC[C@H](C1CCCC1)n1cc(-c2ncnc3[nH]ccc23)cn1   \n",
            "\n",
            "       predicted_pIC50  \n",
            "77064        10.017020  \n",
            "23388         9.971439  \n",
            "77848         9.971439  \n",
            "54911         9.971439  \n",
            "1894          9.814370  \n",
            "...                ...  \n",
            "72541         8.908653  \n",
            "54456         8.908653  \n",
            "36940         8.908653  \n",
            "74155         8.908653  \n",
            "62702         8.908653  \n",
            "\n",
            "[100 rows x 3 columns]\n"
          ]
        }
      ]
    },
    {
      "cell_type": "markdown",
      "source": [
        "## 6. Training에 활용된 데이터와 비슷한 Ligand 제거"
      ],
      "metadata": {
        "id": "nPj0V9vkccB3"
      }
    },
    {
      "cell_type": "markdown",
      "source": [
        "#### 후보물질들의 SMILES를 구함"
      ],
      "metadata": {
        "id": "M1tPSEpNchvS"
      }
    },
    {
      "cell_type": "code",
      "source": [
        "cand_smiles = candidates['smiles']\n",
        "print(cand_smiles)"
      ],
      "metadata": {
        "id": "V28ri9aYcgSV",
        "colab": {
          "base_uri": "https://localhost:8080/"
        },
        "outputId": "97177bb2-20c5-4cfa-a4fa-78d48d067bea"
      },
      "execution_count": 103,
      "outputs": [
        {
          "output_type": "stream",
          "name": "stdout",
          "text": [
            "77064    O=C(O)c1ccc(Nc2nc3c(-c4cnn(C5CCCC5)c4)cccn3n2)cc1\n",
            "23388    CS(=O)(=O)N1CCC[C@H](Nc2ncncc2-c2cnc3[nH]ccc3n...\n",
            "77848    CS(=O)(=O)N1CCC[C@H](Nc2ncncc2-c2cnc3[nH]ccc3n...\n",
            "54911    CS(=O)(=O)N1CCC[C@H](Nc2ncncc2-c2cnc3[nH]ccc3n...\n",
            "1894     O=C1[C@H](Nc2cc(F)cc(Cl)c2)CCCN1[C@@H]1CCCN(c2...\n",
            "                               ...                        \n",
            "72541         N#CC[C@H](C1CCCC1)n1cc(-c2ncnc3[nH]ccc23)cn1\n",
            "54456         N#CC[C@H](C1CCCC1)n1cc(-c2ncnc3[nH]ccc23)cn1\n",
            "36940         N#CC[C@H](C1CCCC1)n1cc(-c2ncnc3[nH]ccc23)cn1\n",
            "74155         N#CC[C@H](C1CCCC1)n1cc(-c2ncnc3[nH]ccc23)cn1\n",
            "62702         N#CC[C@H](C1CCCC1)n1cc(-c2ncnc3[nH]ccc23)cn1\n",
            "Name: smiles, Length: 100, dtype: object\n"
          ]
        }
      ]
    },
    {
      "cell_type": "markdown",
      "source": [
        "#### 후보물질 및 Training 데이터의 SMILES로부터 ECFP Fingerprint 생성 (as a bit-vector)"
      ],
      "metadata": {
        "id": "j6XX5qp1cl9c"
      }
    },
    {
      "cell_type": "code",
      "source": [
        "# 후보물질들의 SMILES로부터 분자 읽어들이기\n",
        "zincs = []\n",
        "for i in cand_smiles:\n",
        "    mol = Chem.MolFromSmiles(i)\n",
        "    fp = AllChem.GetMorganFingerprintAsBitVect(mol, 4, nBits=1024)                                                       # numpy로 변환해서는 안됨\n",
        "    zincs.append(fp)\n",
        "\n",
        "\n",
        "# Training에 활용된 데이터의 SMILES로부터 분자 읽어들이기\n",
        "chembls = []\n",
        "for i in smiles:\n",
        "    mol = Chem.MolFromSmiles(i)\n",
        "    fp = AllChem.GetMorganFingerprintAsBitVect(mol, 4, nBits=1024)                                                             # numpy로 변환해서는 안됨\n",
        "    chembls.append(fp)"
      ],
      "metadata": {
        "id": "pIXSTlhYcqjF"
      },
      "execution_count": 104,
      "outputs": []
    },
    {
      "cell_type": "markdown",
      "source": [
        "#### 분자 사이의 유사도 계산"
      ],
      "metadata": {
        "id": "5q3idjySc4WH"
      }
    },
    {
      "cell_type": "code",
      "source": [
        "from rdkit import DataStructs\n",
        "sims = []                                                          # 후보물질의 각 분자 당 유사도의 최고값을 저장\n",
        "for x in zincs:                                                    # 후보물질들을 하나씩 불러옴 (x)\n",
        "    max_similarity = -9999\n",
        "    for y in chembls:                                              # Training 데이터를 하나씩 불러옴 (y)\n",
        "        similarity = DataStructs.FingerprintSimilarity(x, y)       # 후보물질과 Training 데이터의 Tanimoto 유사도 계산\n",
        "        if max_similarity < similarity:\n",
        "            max_similarity = similarity\n",
        "    sims.append(max_similarity)                                    # 가장 높은 유사도를 저장"
      ],
      "metadata": {
        "id": "YSd3dZ2Oc5i0"
      },
      "execution_count": 105,
      "outputs": []
    },
    {
      "cell_type": "markdown",
      "source": [
        "####Tanimoto 유사도 최고값을 candidate 데이터프레임에 새로운 column으로 입력"
      ],
      "metadata": {
        "id": "8rJti1HNdAhn"
      }
    },
    {
      "cell_type": "code",
      "source": [
        "candidates.insert(2, \"max_tanimoto_similarity\", sims, True)\n",
        "candidates"
      ],
      "metadata": {
        "id": "i43nBMUHdCsp",
        "colab": {
          "base_uri": "https://localhost:8080/",
          "height": 424
        },
        "outputId": "ffd39a6f-d3ef-402e-9828-ca5de593772c"
      },
      "execution_count": 106,
      "outputs": [
        {
          "output_type": "execute_result",
          "data": {
            "text/plain": [
              "                zinc_id                                             smiles  \\\n",
              "77064  ZINC000096282528  O=C(O)c1ccc(Nc2nc3c(-c4cnn(C5CCCC5)c4)cccn3n2)cc1   \n",
              "23388  ZINC000168934370  CS(=O)(=O)N1CCC[C@H](Nc2ncncc2-c2cnc3[nH]ccc3n...   \n",
              "77848  ZINC000168934370  CS(=O)(=O)N1CCC[C@H](Nc2ncncc2-c2cnc3[nH]ccc3n...   \n",
              "54911  ZINC000168934370  CS(=O)(=O)N1CCC[C@H](Nc2ncncc2-c2cnc3[nH]ccc3n...   \n",
              "1894   ZINC000084713925  O=C1[C@H](Nc2cc(F)cc(Cl)c2)CCCN1[C@@H]1CCCN(c2...   \n",
              "...                 ...                                                ...   \n",
              "72541  ZINC000043207851       N#CC[C@H](C1CCCC1)n1cc(-c2ncnc3[nH]ccc23)cn1   \n",
              "54456  ZINC000043207851       N#CC[C@H](C1CCCC1)n1cc(-c2ncnc3[nH]ccc23)cn1   \n",
              "36940  ZINC000043207851       N#CC[C@H](C1CCCC1)n1cc(-c2ncnc3[nH]ccc23)cn1   \n",
              "74155  ZINC000043207851       N#CC[C@H](C1CCCC1)n1cc(-c2ncnc3[nH]ccc23)cn1   \n",
              "62702  ZINC000043207851       N#CC[C@H](C1CCCC1)n1cc(-c2ncnc3[nH]ccc23)cn1   \n",
              "\n",
              "       max_tanimoto_similarity  predicted_pIC50  \n",
              "77064                 1.000000        10.017020  \n",
              "23388                 1.000000         9.971439  \n",
              "77848                 1.000000         9.971439  \n",
              "54911                 1.000000         9.971439  \n",
              "1894                  0.362205         9.814370  \n",
              "...                        ...              ...  \n",
              "72541                 1.000000         8.908653  \n",
              "54456                 1.000000         8.908653  \n",
              "36940                 1.000000         8.908653  \n",
              "74155                 1.000000         8.908653  \n",
              "62702                 1.000000         8.908653  \n",
              "\n",
              "[100 rows x 4 columns]"
            ],
            "text/html": [
              "\n",
              "  <div id=\"df-f09525e1-ecf8-424a-8657-809812c4e985\">\n",
              "    <div class=\"colab-df-container\">\n",
              "      <div>\n",
              "<style scoped>\n",
              "    .dataframe tbody tr th:only-of-type {\n",
              "        vertical-align: middle;\n",
              "    }\n",
              "\n",
              "    .dataframe tbody tr th {\n",
              "        vertical-align: top;\n",
              "    }\n",
              "\n",
              "    .dataframe thead th {\n",
              "        text-align: right;\n",
              "    }\n",
              "</style>\n",
              "<table border=\"1\" class=\"dataframe\">\n",
              "  <thead>\n",
              "    <tr style=\"text-align: right;\">\n",
              "      <th></th>\n",
              "      <th>zinc_id</th>\n",
              "      <th>smiles</th>\n",
              "      <th>max_tanimoto_similarity</th>\n",
              "      <th>predicted_pIC50</th>\n",
              "    </tr>\n",
              "  </thead>\n",
              "  <tbody>\n",
              "    <tr>\n",
              "      <th>77064</th>\n",
              "      <td>ZINC000096282528</td>\n",
              "      <td>O=C(O)c1ccc(Nc2nc3c(-c4cnn(C5CCCC5)c4)cccn3n2)cc1</td>\n",
              "      <td>1.000000</td>\n",
              "      <td>10.017020</td>\n",
              "    </tr>\n",
              "    <tr>\n",
              "      <th>23388</th>\n",
              "      <td>ZINC000168934370</td>\n",
              "      <td>CS(=O)(=O)N1CCC[C@H](Nc2ncncc2-c2cnc3[nH]ccc3n...</td>\n",
              "      <td>1.000000</td>\n",
              "      <td>9.971439</td>\n",
              "    </tr>\n",
              "    <tr>\n",
              "      <th>77848</th>\n",
              "      <td>ZINC000168934370</td>\n",
              "      <td>CS(=O)(=O)N1CCC[C@H](Nc2ncncc2-c2cnc3[nH]ccc3n...</td>\n",
              "      <td>1.000000</td>\n",
              "      <td>9.971439</td>\n",
              "    </tr>\n",
              "    <tr>\n",
              "      <th>54911</th>\n",
              "      <td>ZINC000168934370</td>\n",
              "      <td>CS(=O)(=O)N1CCC[C@H](Nc2ncncc2-c2cnc3[nH]ccc3n...</td>\n",
              "      <td>1.000000</td>\n",
              "      <td>9.971439</td>\n",
              "    </tr>\n",
              "    <tr>\n",
              "      <th>1894</th>\n",
              "      <td>ZINC000084713925</td>\n",
              "      <td>O=C1[C@H](Nc2cc(F)cc(Cl)c2)CCCN1[C@@H]1CCCN(c2...</td>\n",
              "      <td>0.362205</td>\n",
              "      <td>9.814370</td>\n",
              "    </tr>\n",
              "    <tr>\n",
              "      <th>...</th>\n",
              "      <td>...</td>\n",
              "      <td>...</td>\n",
              "      <td>...</td>\n",
              "      <td>...</td>\n",
              "    </tr>\n",
              "    <tr>\n",
              "      <th>72541</th>\n",
              "      <td>ZINC000043207851</td>\n",
              "      <td>N#CC[C@H](C1CCCC1)n1cc(-c2ncnc3[nH]ccc23)cn1</td>\n",
              "      <td>1.000000</td>\n",
              "      <td>8.908653</td>\n",
              "    </tr>\n",
              "    <tr>\n",
              "      <th>54456</th>\n",
              "      <td>ZINC000043207851</td>\n",
              "      <td>N#CC[C@H](C1CCCC1)n1cc(-c2ncnc3[nH]ccc23)cn1</td>\n",
              "      <td>1.000000</td>\n",
              "      <td>8.908653</td>\n",
              "    </tr>\n",
              "    <tr>\n",
              "      <th>36940</th>\n",
              "      <td>ZINC000043207851</td>\n",
              "      <td>N#CC[C@H](C1CCCC1)n1cc(-c2ncnc3[nH]ccc23)cn1</td>\n",
              "      <td>1.000000</td>\n",
              "      <td>8.908653</td>\n",
              "    </tr>\n",
              "    <tr>\n",
              "      <th>74155</th>\n",
              "      <td>ZINC000043207851</td>\n",
              "      <td>N#CC[C@H](C1CCCC1)n1cc(-c2ncnc3[nH]ccc23)cn1</td>\n",
              "      <td>1.000000</td>\n",
              "      <td>8.908653</td>\n",
              "    </tr>\n",
              "    <tr>\n",
              "      <th>62702</th>\n",
              "      <td>ZINC000043207851</td>\n",
              "      <td>N#CC[C@H](C1CCCC1)n1cc(-c2ncnc3[nH]ccc23)cn1</td>\n",
              "      <td>1.000000</td>\n",
              "      <td>8.908653</td>\n",
              "    </tr>\n",
              "  </tbody>\n",
              "</table>\n",
              "<p>100 rows × 4 columns</p>\n",
              "</div>\n",
              "      <button class=\"colab-df-convert\" onclick=\"convertToInteractive('df-f09525e1-ecf8-424a-8657-809812c4e985')\"\n",
              "              title=\"Convert this dataframe to an interactive table.\"\n",
              "              style=\"display:none;\">\n",
              "        \n",
              "  <svg xmlns=\"http://www.w3.org/2000/svg\" height=\"24px\"viewBox=\"0 0 24 24\"\n",
              "       width=\"24px\">\n",
              "    <path d=\"M0 0h24v24H0V0z\" fill=\"none\"/>\n",
              "    <path d=\"M18.56 5.44l.94 2.06.94-2.06 2.06-.94-2.06-.94-.94-2.06-.94 2.06-2.06.94zm-11 1L8.5 8.5l.94-2.06 2.06-.94-2.06-.94L8.5 2.5l-.94 2.06-2.06.94zm10 10l.94 2.06.94-2.06 2.06-.94-2.06-.94-.94-2.06-.94 2.06-2.06.94z\"/><path d=\"M17.41 7.96l-1.37-1.37c-.4-.4-.92-.59-1.43-.59-.52 0-1.04.2-1.43.59L10.3 9.45l-7.72 7.72c-.78.78-.78 2.05 0 2.83L4 21.41c.39.39.9.59 1.41.59.51 0 1.02-.2 1.41-.59l7.78-7.78 2.81-2.81c.8-.78.8-2.07 0-2.86zM5.41 20L4 18.59l7.72-7.72 1.47 1.35L5.41 20z\"/>\n",
              "  </svg>\n",
              "      </button>\n",
              "      \n",
              "  <style>\n",
              "    .colab-df-container {\n",
              "      display:flex;\n",
              "      flex-wrap:wrap;\n",
              "      gap: 12px;\n",
              "    }\n",
              "\n",
              "    .colab-df-convert {\n",
              "      background-color: #E8F0FE;\n",
              "      border: none;\n",
              "      border-radius: 50%;\n",
              "      cursor: pointer;\n",
              "      display: none;\n",
              "      fill: #1967D2;\n",
              "      height: 32px;\n",
              "      padding: 0 0 0 0;\n",
              "      width: 32px;\n",
              "    }\n",
              "\n",
              "    .colab-df-convert:hover {\n",
              "      background-color: #E2EBFA;\n",
              "      box-shadow: 0px 1px 2px rgba(60, 64, 67, 0.3), 0px 1px 3px 1px rgba(60, 64, 67, 0.15);\n",
              "      fill: #174EA6;\n",
              "    }\n",
              "\n",
              "    [theme=dark] .colab-df-convert {\n",
              "      background-color: #3B4455;\n",
              "      fill: #D2E3FC;\n",
              "    }\n",
              "\n",
              "    [theme=dark] .colab-df-convert:hover {\n",
              "      background-color: #434B5C;\n",
              "      box-shadow: 0px 1px 3px 1px rgba(0, 0, 0, 0.15);\n",
              "      filter: drop-shadow(0px 1px 2px rgba(0, 0, 0, 0.3));\n",
              "      fill: #FFFFFF;\n",
              "    }\n",
              "  </style>\n",
              "\n",
              "      <script>\n",
              "        const buttonEl =\n",
              "          document.querySelector('#df-f09525e1-ecf8-424a-8657-809812c4e985 button.colab-df-convert');\n",
              "        buttonEl.style.display =\n",
              "          google.colab.kernel.accessAllowed ? 'block' : 'none';\n",
              "\n",
              "        async function convertToInteractive(key) {\n",
              "          const element = document.querySelector('#df-f09525e1-ecf8-424a-8657-809812c4e985');\n",
              "          const dataTable =\n",
              "            await google.colab.kernel.invokeFunction('convertToInteractive',\n",
              "                                                     [key], {});\n",
              "          if (!dataTable) return;\n",
              "\n",
              "          const docLinkHtml = 'Like what you see? Visit the ' +\n",
              "            '<a target=\"_blank\" href=https://colab.research.google.com/notebooks/data_table.ipynb>data table notebook</a>'\n",
              "            + ' to learn more about interactive tables.';\n",
              "          element.innerHTML = '';\n",
              "          dataTable['output_type'] = 'display_data';\n",
              "          await google.colab.output.renderOutput(dataTable, element);\n",
              "          const docLink = document.createElement('div');\n",
              "          docLink.innerHTML = docLinkHtml;\n",
              "          element.appendChild(docLink);\n",
              "        }\n",
              "      </script>\n",
              "    </div>\n",
              "  </div>\n",
              "  "
            ]
          },
          "metadata": {},
          "execution_count": 106
        }
      ]
    },
    {
      "cell_type": "markdown",
      "source": [
        "#### Training 데이터 중 Tanimoto 유사도가 0.9 이상인 분자가 있는 후보물질을 제외한 나머지 가운데 10개의 compound를 final candidate로 선정"
      ],
      "metadata": {
        "id": "VnXywfLFdIBk"
      }
    },
    {
      "cell_type": "code",
      "source": [
        "final_candidates = candidates[candidates.max_tanimoto_similarity<0.9]\n",
        "final_candidates = final_candidates.head(10)\n",
        "final_candidates"
      ],
      "metadata": {
        "id": "ikLwFrbjdJKG",
        "colab": {
          "base_uri": "https://localhost:8080/",
          "height": 363
        },
        "outputId": "e103a3ee-855a-4216-91a7-601f0c21f9a7"
      },
      "execution_count": 107,
      "outputs": [
        {
          "output_type": "execute_result",
          "data": {
            "text/plain": [
              "                zinc_id                                             smiles  \\\n",
              "1894   ZINC000084713925  O=C1[C@H](Nc2cc(F)cc(Cl)c2)CCCN1[C@@H]1CCCN(c2...   \n",
              "1893   ZINC000084713920  O=C1[C@@H](Nc2cc(F)cc(Cl)c2)CCCN1[C@@H]1CCCN(c...   \n",
              "65965  ZINC000045495356  COc1cc2nccc(Nc3ccc(N4C(=O)c5ccc(Cl)cc5C4=O)c(C...   \n",
              "57417  ZINC000084619930  Cc1cn2c(-c3cnn(CC(=O)Nc4ccncc4O)c3)cnc2c(Nc2cc...   \n",
              "42918  ZINC000084619930  Cc1cn2c(-c3cnn(CC(=O)Nc4ccncc4O)c3)cnc2c(Nc2cc...   \n",
              "57418  ZINC000084619932  Cc1cn2c(-c3cnn(CC(=O)Nc4ccncc4O)c3)cnc2c(Nc2cc...   \n",
              "42919  ZINC000084619932  Cc1cn2c(-c3cnn(CC(=O)Nc4ccncc4O)c3)cnc2c(Nc2cc...   \n",
              "20433  ZINC000084632856  Cc1cn2c(-c3cnn(CC(=O)Nc4ccncc4F)c3)cnc2c(Nc2cc...   \n",
              "8074   ZINC000084632856  Cc1cn2c(-c3cnn(CC(=O)Nc4ccncc4F)c3)cnc2c(Nc2cc...   \n",
              "4546   ZINC000084632858  Cc1cn2c(-c3cnn(CC(=O)Nc4ccncc4F)c3)cnc2c(Nc2cc...   \n",
              "\n",
              "       max_tanimoto_similarity  predicted_pIC50  \n",
              "1894                  0.362205         9.814370  \n",
              "1893                  0.362205         9.814370  \n",
              "65965                 0.242038         9.655154  \n",
              "57417                 0.203704         9.389006  \n",
              "42918                 0.203704         9.389006  \n",
              "57418                 0.203704         9.389006  \n",
              "42919                 0.203704         9.389006  \n",
              "20433                 0.200000         9.137799  \n",
              "8074                  0.200000         9.137799  \n",
              "4546                  0.200000         9.137799  "
            ],
            "text/html": [
              "\n",
              "  <div id=\"df-978f59bf-ef62-4184-9b19-532ad4581fd7\">\n",
              "    <div class=\"colab-df-container\">\n",
              "      <div>\n",
              "<style scoped>\n",
              "    .dataframe tbody tr th:only-of-type {\n",
              "        vertical-align: middle;\n",
              "    }\n",
              "\n",
              "    .dataframe tbody tr th {\n",
              "        vertical-align: top;\n",
              "    }\n",
              "\n",
              "    .dataframe thead th {\n",
              "        text-align: right;\n",
              "    }\n",
              "</style>\n",
              "<table border=\"1\" class=\"dataframe\">\n",
              "  <thead>\n",
              "    <tr style=\"text-align: right;\">\n",
              "      <th></th>\n",
              "      <th>zinc_id</th>\n",
              "      <th>smiles</th>\n",
              "      <th>max_tanimoto_similarity</th>\n",
              "      <th>predicted_pIC50</th>\n",
              "    </tr>\n",
              "  </thead>\n",
              "  <tbody>\n",
              "    <tr>\n",
              "      <th>1894</th>\n",
              "      <td>ZINC000084713925</td>\n",
              "      <td>O=C1[C@H](Nc2cc(F)cc(Cl)c2)CCCN1[C@@H]1CCCN(c2...</td>\n",
              "      <td>0.362205</td>\n",
              "      <td>9.814370</td>\n",
              "    </tr>\n",
              "    <tr>\n",
              "      <th>1893</th>\n",
              "      <td>ZINC000084713920</td>\n",
              "      <td>O=C1[C@@H](Nc2cc(F)cc(Cl)c2)CCCN1[C@@H]1CCCN(c...</td>\n",
              "      <td>0.362205</td>\n",
              "      <td>9.814370</td>\n",
              "    </tr>\n",
              "    <tr>\n",
              "      <th>65965</th>\n",
              "      <td>ZINC000045495356</td>\n",
              "      <td>COc1cc2nccc(Nc3ccc(N4C(=O)c5ccc(Cl)cc5C4=O)c(C...</td>\n",
              "      <td>0.242038</td>\n",
              "      <td>9.655154</td>\n",
              "    </tr>\n",
              "    <tr>\n",
              "      <th>57417</th>\n",
              "      <td>ZINC000084619930</td>\n",
              "      <td>Cc1cn2c(-c3cnn(CC(=O)Nc4ccncc4O)c3)cnc2c(Nc2cc...</td>\n",
              "      <td>0.203704</td>\n",
              "      <td>9.389006</td>\n",
              "    </tr>\n",
              "    <tr>\n",
              "      <th>42918</th>\n",
              "      <td>ZINC000084619930</td>\n",
              "      <td>Cc1cn2c(-c3cnn(CC(=O)Nc4ccncc4O)c3)cnc2c(Nc2cc...</td>\n",
              "      <td>0.203704</td>\n",
              "      <td>9.389006</td>\n",
              "    </tr>\n",
              "    <tr>\n",
              "      <th>57418</th>\n",
              "      <td>ZINC000084619932</td>\n",
              "      <td>Cc1cn2c(-c3cnn(CC(=O)Nc4ccncc4O)c3)cnc2c(Nc2cc...</td>\n",
              "      <td>0.203704</td>\n",
              "      <td>9.389006</td>\n",
              "    </tr>\n",
              "    <tr>\n",
              "      <th>42919</th>\n",
              "      <td>ZINC000084619932</td>\n",
              "      <td>Cc1cn2c(-c3cnn(CC(=O)Nc4ccncc4O)c3)cnc2c(Nc2cc...</td>\n",
              "      <td>0.203704</td>\n",
              "      <td>9.389006</td>\n",
              "    </tr>\n",
              "    <tr>\n",
              "      <th>20433</th>\n",
              "      <td>ZINC000084632856</td>\n",
              "      <td>Cc1cn2c(-c3cnn(CC(=O)Nc4ccncc4F)c3)cnc2c(Nc2cc...</td>\n",
              "      <td>0.200000</td>\n",
              "      <td>9.137799</td>\n",
              "    </tr>\n",
              "    <tr>\n",
              "      <th>8074</th>\n",
              "      <td>ZINC000084632856</td>\n",
              "      <td>Cc1cn2c(-c3cnn(CC(=O)Nc4ccncc4F)c3)cnc2c(Nc2cc...</td>\n",
              "      <td>0.200000</td>\n",
              "      <td>9.137799</td>\n",
              "    </tr>\n",
              "    <tr>\n",
              "      <th>4546</th>\n",
              "      <td>ZINC000084632858</td>\n",
              "      <td>Cc1cn2c(-c3cnn(CC(=O)Nc4ccncc4F)c3)cnc2c(Nc2cc...</td>\n",
              "      <td>0.200000</td>\n",
              "      <td>9.137799</td>\n",
              "    </tr>\n",
              "  </tbody>\n",
              "</table>\n",
              "</div>\n",
              "      <button class=\"colab-df-convert\" onclick=\"convertToInteractive('df-978f59bf-ef62-4184-9b19-532ad4581fd7')\"\n",
              "              title=\"Convert this dataframe to an interactive table.\"\n",
              "              style=\"display:none;\">\n",
              "        \n",
              "  <svg xmlns=\"http://www.w3.org/2000/svg\" height=\"24px\"viewBox=\"0 0 24 24\"\n",
              "       width=\"24px\">\n",
              "    <path d=\"M0 0h24v24H0V0z\" fill=\"none\"/>\n",
              "    <path d=\"M18.56 5.44l.94 2.06.94-2.06 2.06-.94-2.06-.94-.94-2.06-.94 2.06-2.06.94zm-11 1L8.5 8.5l.94-2.06 2.06-.94-2.06-.94L8.5 2.5l-.94 2.06-2.06.94zm10 10l.94 2.06.94-2.06 2.06-.94-2.06-.94-.94-2.06-.94 2.06-2.06.94z\"/><path d=\"M17.41 7.96l-1.37-1.37c-.4-.4-.92-.59-1.43-.59-.52 0-1.04.2-1.43.59L10.3 9.45l-7.72 7.72c-.78.78-.78 2.05 0 2.83L4 21.41c.39.39.9.59 1.41.59.51 0 1.02-.2 1.41-.59l7.78-7.78 2.81-2.81c.8-.78.8-2.07 0-2.86zM5.41 20L4 18.59l7.72-7.72 1.47 1.35L5.41 20z\"/>\n",
              "  </svg>\n",
              "      </button>\n",
              "      \n",
              "  <style>\n",
              "    .colab-df-container {\n",
              "      display:flex;\n",
              "      flex-wrap:wrap;\n",
              "      gap: 12px;\n",
              "    }\n",
              "\n",
              "    .colab-df-convert {\n",
              "      background-color: #E8F0FE;\n",
              "      border: none;\n",
              "      border-radius: 50%;\n",
              "      cursor: pointer;\n",
              "      display: none;\n",
              "      fill: #1967D2;\n",
              "      height: 32px;\n",
              "      padding: 0 0 0 0;\n",
              "      width: 32px;\n",
              "    }\n",
              "\n",
              "    .colab-df-convert:hover {\n",
              "      background-color: #E2EBFA;\n",
              "      box-shadow: 0px 1px 2px rgba(60, 64, 67, 0.3), 0px 1px 3px 1px rgba(60, 64, 67, 0.15);\n",
              "      fill: #174EA6;\n",
              "    }\n",
              "\n",
              "    [theme=dark] .colab-df-convert {\n",
              "      background-color: #3B4455;\n",
              "      fill: #D2E3FC;\n",
              "    }\n",
              "\n",
              "    [theme=dark] .colab-df-convert:hover {\n",
              "      background-color: #434B5C;\n",
              "      box-shadow: 0px 1px 3px 1px rgba(0, 0, 0, 0.15);\n",
              "      filter: drop-shadow(0px 1px 2px rgba(0, 0, 0, 0.3));\n",
              "      fill: #FFFFFF;\n",
              "    }\n",
              "  </style>\n",
              "\n",
              "      <script>\n",
              "        const buttonEl =\n",
              "          document.querySelector('#df-978f59bf-ef62-4184-9b19-532ad4581fd7 button.colab-df-convert');\n",
              "        buttonEl.style.display =\n",
              "          google.colab.kernel.accessAllowed ? 'block' : 'none';\n",
              "\n",
              "        async function convertToInteractive(key) {\n",
              "          const element = document.querySelector('#df-978f59bf-ef62-4184-9b19-532ad4581fd7');\n",
              "          const dataTable =\n",
              "            await google.colab.kernel.invokeFunction('convertToInteractive',\n",
              "                                                     [key], {});\n",
              "          if (!dataTable) return;\n",
              "\n",
              "          const docLinkHtml = 'Like what you see? Visit the ' +\n",
              "            '<a target=\"_blank\" href=https://colab.research.google.com/notebooks/data_table.ipynb>data table notebook</a>'\n",
              "            + ' to learn more about interactive tables.';\n",
              "          element.innerHTML = '';\n",
              "          dataTable['output_type'] = 'display_data';\n",
              "          await google.colab.output.renderOutput(dataTable, element);\n",
              "          const docLink = document.createElement('div');\n",
              "          docLink.innerHTML = docLinkHtml;\n",
              "          element.appendChild(docLink);\n",
              "        }\n",
              "      </script>\n",
              "    </div>\n",
              "  </div>\n",
              "  "
            ]
          },
          "metadata": {},
          "execution_count": 107
        }
      ]
    }
  ]
}