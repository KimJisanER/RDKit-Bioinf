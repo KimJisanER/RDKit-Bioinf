{
  "cells": [
    {
      "cell_type": "markdown",
      "metadata": {
        "id": "view-in-github",
        "colab_type": "text"
      },
      "source": [
        "<a href=\"https://colab.research.google.com/github/KimJisanER/LAIDD/blob/main/insilico_synthesis_%EB%B0%B0%ED%8F%AC%EC%9A%A9.ipynb\" target=\"_parent\"><img src=\"https://colab.research.google.com/assets/colab-badge.svg\" alt=\"Open In Colab\"/></a>"
      ]
    },
    {
      "cell_type": "code",
      "execution_count": 1,
      "id": "d2bd13b0",
      "metadata": {
        "id": "d2bd13b0",
        "colab": {
          "base_uri": "https://localhost:8080/"
        },
        "outputId": "6bc46bbd-4574-4af1-bcd3-5a1510f29d39"
      },
      "outputs": [
        {
          "output_type": "stream",
          "name": "stdout",
          "text": [
            "Looking in indexes: https://pypi.org/simple, https://us-python.pkg.dev/colab-wheels/public/simple/\n",
            "Collecting rdkit\n",
            "  Downloading rdkit-2022.3.5-cp37-cp37m-manylinux_2_17_x86_64.manylinux2014_x86_64.whl (36.8 MB)\n",
            "\u001b[K     |████████████████████████████████| 36.8 MB 461 kB/s \n",
            "\u001b[?25hRequirement already satisfied: Pillow in /usr/local/lib/python3.7/dist-packages (from rdkit) (7.1.2)\n",
            "Requirement already satisfied: numpy in /usr/local/lib/python3.7/dist-packages (from rdkit) (1.21.6)\n",
            "Installing collected packages: rdkit\n",
            "Successfully installed rdkit-2022.3.5\n"
          ]
        }
      ],
      "source": [
        "!pip install rdkit"
      ]
    },
    {
      "cell_type": "code",
      "execution_count": 2,
      "id": "4f12080a-6119-4689-8d2a-f3be6dbe623a",
      "metadata": {
        "id": "4f12080a-6119-4689-8d2a-f3be6dbe623a"
      },
      "outputs": [],
      "source": [
        "from rdkit import rdBase\n",
        "from rdkit import Chem\n",
        "from rdkit.Chem import AllChem\n",
        "from rdkit.Chem import Draw\n",
        "from rdkit.Chem import rdMolDescriptors"
      ]
    },
    {
      "cell_type": "code",
      "source": [
        "from google.colab import drive\n",
        "drive.mount('/content/drive')"
      ],
      "metadata": {
        "colab": {
          "base_uri": "https://localhost:8080/"
        },
        "id": "_J8LRftUrHlp",
        "outputId": "df7b2d87-6eb7-40a2-802d-8ccb6f98f416"
      },
      "id": "_J8LRftUrHlp",
      "execution_count": 3,
      "outputs": [
        {
          "output_type": "stream",
          "name": "stdout",
          "text": [
            "Mounted at /content/drive\n"
          ]
        }
      ]
    },
    {
      "cell_type": "code",
      "execution_count": 4,
      "id": "956b3886-c11e-4056-b07e-06b49d081a7d",
      "metadata": {
        "id": "956b3886-c11e-4056-b07e-06b49d081a7d"
      },
      "outputs": [],
      "source": [
        "# 5 가지 building block을 미리 정의함.\n",
        "# MolFromSmiles 함수는 SMILES 코드를 string으로 입력받아 RDkit MOL 형식으로 변환)\n",
        "\n",
        "ethanol = Chem.MolFromSmiles('CCO')\n",
        "isopropanol = Chem.MolFromSmiles('CC(C)O')\n",
        "phenol = Chem.MolFromSmiles('c1cccc(O)c1')\n",
        "t_butanol = Chem.MolFromSmiles('C(C)(C)(C)O')\n",
        "glycerol = Chem.MolFromSmiles('OCC(O)CO')"
      ]
    },
    {
      "cell_type": "code",
      "execution_count": 5,
      "id": "f6f244d6-2115-472f-baf2-3ebc5ff43eeb",
      "metadata": {
        "id": "f6f244d6-2115-472f-baf2-3ebc5ff43eeb",
        "colab": {
          "base_uri": "https://localhost:8080/"
        },
        "outputId": "8b8ec7f3-f077-49f3-b9f3-92578e36d0a3"
      },
      "outputs": [
        {
          "output_type": "stream",
          "name": "stdout",
          "text": [
            "<rdkit.Chem.rdchem.Mol object at 0x7f9b03f031c0>\n"
          ]
        }
      ],
      "source": [
        "# MOL 형식은 print 구문으로 구조로 확인할 수 없음\n",
        "\n",
        "print(ethanol)"
      ]
    },
    {
      "cell_type": "code",
      "execution_count": 6,
      "id": "b3ad9f20-a30a-4265-ac1f-bb056e9835d6",
      "metadata": {
        "id": "b3ad9f20-a30a-4265-ac1f-bb056e9835d6",
        "colab": {
          "base_uri": "https://localhost:8080/",
          "height": 217
        },
        "outputId": "13e7c24a-80ff-4add-fb40-d72328d294de"
      },
      "outputs": [
        {
          "output_type": "execute_result",
          "data": {
            "text/plain": [
              "<PIL.PngImagePlugin.PngImageFile image mode=RGB size=600x200 at 0x7F9B03F04990>"
            ],
            "image/png": "[encoded data removed]"
          },
          "metadata": {},
          "execution_count": 6
        }
      ],
      "source": [
        "# MolsToGridImage 함수를 통해 구조 확인 가능. List 입력을 받으므로 주의\n",
        "\n",
        "Draw.MolsToGridImage([ethanol])"
      ]
    },
    {
      "cell_type": "code",
      "execution_count": 7,
      "id": "a3ebcd09-a530-4598-a5d4-d99aa58e792c",
      "metadata": {
        "id": "a3ebcd09-a530-4598-a5d4-d99aa58e792c",
        "colab": {
          "base_uri": "https://localhost:8080/",
          "height": 217
        },
        "outputId": "c0900147-0cea-49bb-94e4-c2ef4885ae7f"
      },
      "outputs": [
        {
          "output_type": "execute_result",
          "data": {
            "text/plain": [
              "<PIL.PngImagePlugin.PngImageFile image mode=RGB size=1000x200 at 0x7F9B00F58B90>"
            ],
            "image/png": "[encoded data removed]"
          },
          "metadata": {},
          "execution_count": 7
        }
      ],
      "source": [
        "# 한 번에 여러 구조 출력 가능\n",
        "\n",
        "alcohols = [ethanol, isopropanol, phenol, t_butanol, glycerol]\n",
        "Draw.MolsToGridImage(alcohols, molsPerRow=5)"
      ]
    },
    {
      "cell_type": "markdown",
      "id": "b8f5f95c-9087-4086-a969-670aa9d6fc9c",
      "metadata": {
        "tags": [],
        "id": "b8f5f95c-9087-4086-a969-670aa9d6fc9c"
      },
      "source": [
        "# 단일 화합물 입력 -> 단일 화합물 생성"
      ]
    },
    {
      "cell_type": "code",
      "execution_count": 8,
      "id": "96e4719f-7e46-44c5-9c2e-a3a95d257015",
      "metadata": {
        "id": "96e4719f-7e46-44c5-9c2e-a3a95d257015"
      },
      "outputs": [],
      "source": [
        "# Reaction template을 SMART 포맷으로 지정\n",
        "\n",
        "rxn_1 = AllChem.ReactionFromSmarts('[#6:1][O:2]>>[#6:1]=[O:2]')\n",
        "\n",
        "# 아무 carbon을 1번 atom으로 지정한 뒤 single bond된 산소 원자를 2번 atom으로 지정\n",
        "# C 와 O 사이의 single bond 를 double bond 로 변환"
      ]
    },
    {
      "cell_type": "code",
      "execution_count": 9,
      "id": "c7942fcd-13d0-41fb-a95f-77f01859e874",
      "metadata": {
        "id": "c7942fcd-13d0-41fb-a95f-77f01859e874"
      },
      "outputs": [],
      "source": [
        "# isopropanol 에 해당 반응을 가하면 acetone 이 된다.\n",
        "\n",
        "isopropanol_products = rxn_1.RunReactants((isopropanol,))\n",
        "\n",
        "# RunReactants 에 tuple을 입력하는 이유는 어떤 반응은 여러 물질을 동시에 필요로 하기 때문"
      ]
    },
    {
      "cell_type": "code",
      "execution_count": 10,
      "id": "948d841a-9d08-4dc7-8a93-10b1cc14373b",
      "metadata": {
        "id": "948d841a-9d08-4dc7-8a93-10b1cc14373b",
        "colab": {
          "base_uri": "https://localhost:8080/"
        },
        "outputId": "f4f017fe-93e5-45f6-d65a-a6ce87d229ce"
      },
      "outputs": [
        {
          "output_type": "stream",
          "name": "stdout",
          "text": [
            "((<rdkit.Chem.rdchem.Mol object at 0x7f9b00f66570>,),)\n"
          ]
        }
      ],
      "source": [
        "# RunReactants 함수의 결과물은 두 개의 tuple 안에 저장된다.\n",
        "\n",
        "print(isopropanol_products)\n",
        "\n",
        "# Outer tuple 은 합성이 일어나는 위치에 따라 달라지는 합성의 경우의 수이다\n",
        "# Inner tuple 은 합성의 결과 여러 물질이 발생할 수 있기 때문에 존재한다."
      ]
    },
    {
      "cell_type": "code",
      "execution_count": 11,
      "id": "5fd5ec19-f487-432a-a294-0fd1cab68787",
      "metadata": {
        "id": "5fd5ec19-f487-432a-a294-0fd1cab68787"
      },
      "outputs": [],
      "source": [
        "# 단, 이번 예시의 경우 합성이 한 곳에서만 일어나며, 단일 결과물이 도출되므로\n",
        "\n",
        "acetone = isopropanol_products[0][0]"
      ]
    },
    {
      "cell_type": "code",
      "execution_count": 12,
      "id": "e9f7f1de-3f1a-49ed-a876-424ce94bd1f5",
      "metadata": {
        "id": "e9f7f1de-3f1a-49ed-a876-424ce94bd1f5",
        "colab": {
          "base_uri": "https://localhost:8080/",
          "height": 217
        },
        "outputId": "fbb8dc6b-f102-401b-a3cf-4bf690b3061e"
      },
      "outputs": [
        {
          "output_type": "execute_result",
          "data": {
            "text/plain": [
              "<PIL.PngImagePlugin.PngImageFile image mode=RGB size=600x200 at 0x7F9B00F583D0>"
            ],
            "image/png": "[encoded data removed]"
          },
          "metadata": {},
          "execution_count": 12
        }
      ],
      "source": [
        "Draw.MolsToGridImage([acetone])"
      ]
    },
    {
      "cell_type": "code",
      "execution_count": 22,
      "id": "4591d9bb-888a-4629-aced-dc11b307df8a",
      "metadata": {
        "id": "4591d9bb-888a-4629-aced-dc11b307df8a",
        "colab": {
          "base_uri": "https://localhost:8080/",
          "height": 217
        },
        "outputId": "75d8d634-1306-4bed-927c-90b43c54e2ad"
      },
      "outputs": [
        {
          "output_type": "execute_result",
          "data": {
            "text/plain": [
              "<PIL.PngImagePlugin.PngImageFile image mode=RGB size=600x200 at 0x7F9B0B2A1D90>"
            ],
            "image/png": "[encoded data removed]"
          },
          "metadata": {},
          "execution_count": 22
        }
      ],
      "source": [
        "# 한편, 실제로는 일어날 수 없는 반응도 있을 수 있다.\n",
        "# t-butanol 에 같은 합성 반응을 해보자\n",
        "\n",
        "product = rxn_1.RunReactants((t_butanol, ))[0][0]\n",
        "Draw.MolsToGridImage([t_butanol])"
      ]
    },
    {
      "cell_type": "code",
      "execution_count": 14,
      "id": "ce097695-60c5-48fd-b538-18f3f9c5b857",
      "metadata": {
        "id": "ce097695-60c5-48fd-b538-18f3f9c5b857",
        "colab": {
          "base_uri": "https://localhost:8080/",
          "height": 217
        },
        "outputId": "0c625435-d52c-406b-a3b7-7bbe14e58b85"
      },
      "outputs": [
        {
          "output_type": "execute_result",
          "data": {
            "text/plain": [
              "<PIL.PngImagePlugin.PngImageFile image mode=RGB size=600x200 at 0x7F9B00F1A790>"
            ],
            "image/png": "[encoded data removed]"
          },
          "metadata": {},
          "execution_count": 14
        }
      ],
      "source": [
        "# 합성 결과물(product)는 하나의 탄소 원자의 결합 개수가 4개를 넘어가므로 존재할 수 없는 구조\n",
        "\n",
        "Draw.MolsToGridImage([product])"
      ]
    },
    {
      "cell_type": "code",
      "execution_count": 15,
      "id": "12b5104a-a866-4a58-97bf-158b589d26df",
      "metadata": {
        "id": "12b5104a-a866-4a58-97bf-158b589d26df",
        "colab": {
          "base_uri": "https://localhost:8080/"
        },
        "outputId": "134433cc-26eb-4b64-bd56-69f07d47f8eb"
      },
      "outputs": [
        {
          "output_type": "stream",
          "name": "stdout",
          "text": [
            "Sanitization failed\n"
          ]
        }
      ],
      "source": [
        "# 결과물에 SanitizeMol 을 실행시켰을 때 ValueError가 발생한다면 실제로는 있을 수 없는 구조이다.\n",
        "# try-except 구문을 통해 합성 결과물을 체크해 볼 수 있다.\n",
        "\n",
        "try:\n",
        "    Chem.SanitizeMol(product)\n",
        "except ValueError:\n",
        "    # Error 로그 출력을 통해 실패 원인을 분석할 수 있다.\n",
        "    print(\"Sanitization failed\")"
      ]
    },
    {
      "cell_type": "code",
      "execution_count": 16,
      "id": "ce6adc8e-3b7a-4651-8478-39e63d169744",
      "metadata": {
        "id": "ce6adc8e-3b7a-4651-8478-39e63d169744",
        "colab": {
          "base_uri": "https://localhost:8080/",
          "height": 217
        },
        "outputId": "f5ee4569-74a2-40b7-dc0c-1bbac6a835f4"
      },
      "outputs": [
        {
          "output_type": "execute_result",
          "data": {
            "text/plain": [
              "<PIL.PngImagePlugin.PngImageFile image mode=RGB size=600x200 at 0x7F9B12200B90>"
            ],
            "image/png": "[encoded data removed]"
          },
          "metadata": {},
          "execution_count": 16
        }
      ],
      "source": [
        "# Glycerol의 경우 해당 반응식으로 다양한 합성이 있을 수 있다.\n",
        "\n",
        "glycerol_products = rxn_1.RunReactants((glycerol, ))\n",
        "Draw.MolsToGridImage([glycerol])"
      ]
    },
    {
      "cell_type": "code",
      "execution_count": 17,
      "id": "8b73b9fa-9f3d-4142-9c63-f26861d238e7",
      "metadata": {
        "id": "8b73b9fa-9f3d-4142-9c63-f26861d238e7",
        "colab": {
          "base_uri": "https://localhost:8080/"
        },
        "outputId": "7797d84d-18bc-4cf9-83ef-ac8aa3497791"
      },
      "outputs": [
        {
          "output_type": "execute_result",
          "data": {
            "text/plain": [
              "3"
            ]
          },
          "metadata": {},
          "execution_count": 17
        }
      ],
      "source": [
        "# RunReactants 의 결과물의 길이를 재서 합성의 경우의 수를 확인 가능하다.\n",
        "\n",
        "len(glycerol_products)"
      ]
    },
    {
      "cell_type": "code",
      "execution_count": 18,
      "id": "b8b94214-4b48-4dcb-9765-4f1ed839ef0f",
      "metadata": {
        "id": "b8b94214-4b48-4dcb-9765-4f1ed839ef0f",
        "colab": {
          "base_uri": "https://localhost:8080/"
        },
        "outputId": "83609921-1ea9-4512-cd49-f9ad30cdc3e2"
      },
      "outputs": [
        {
          "output_type": "stream",
          "name": "stdout",
          "text": [
            "[[<rdkit.Chem.rdchem.Mol object at 0x7f9b00f54e70>], [<rdkit.Chem.rdchem.Mol object at 0x7f9b00f54f90>], [<rdkit.Chem.rdchem.Mol object at 0x7f9b00f54ed0>]]\n"
          ]
        }
      ],
      "source": [
        "# 합성 방식에 따라 Sanitization check 를 각각 해줘야 한다.\n",
        "\n",
        "sanitized_products = []  # 이 list에 통과한 합성 결과물만 모은다.\n",
        "for products in glycerol_products:  # 각 합성 방식에 대해\n",
        "    try:\n",
        "        # 만약 합성 결과물 중 어느 하나라도 문제가 있다면 예외처리 된다.\n",
        "        [Chem.SanitizeMol(mol) for mol in products]\n",
        "        # 통과한 합성 결과만 리스트로 저장해 준다.\n",
        "        sanitized_products.append(list(products))\n",
        "    except ValueError:\n",
        "        print(\"Sanitization failed\")\n",
        "\n",
        "print(sanitized_products)"
      ]
    },
    {
      "cell_type": "code",
      "execution_count": 19,
      "id": "d6198cf5-ad5d-463f-9adf-9dc3bd34cf06",
      "metadata": {
        "id": "d6198cf5-ad5d-463f-9adf-9dc3bd34cf06",
        "colab": {
          "base_uri": "https://localhost:8080/",
          "height": 255
        },
        "outputId": "8c749726-d81b-44c2-e8fe-eaec8a5cc2e0"
      },
      "outputs": [
        {
          "output_type": "stream",
          "name": "stdout",
          "text": [
            "[<rdkit.Chem.rdchem.Mol object at 0x7f9b00f54e70>, <rdkit.Chem.rdchem.Mol object at 0x7f9b00f54f90>, <rdkit.Chem.rdchem.Mol object at 0x7f9b00f54ed0>]\n"
          ]
        },
        {
          "output_type": "execute_result",
          "data": {
            "text/plain": [
              "<PIL.PngImagePlugin.PngImageFile image mode=RGB size=600x200 at 0x7F9B0B29BA50>"
            ],
            "image/png": "[encoded data removed]"
          },
          "metadata": {},
          "execution_count": 19
        }
      ],
      "source": [
        "# 각 합성 방식의 결과물을 확인할 수 있다.\n",
        "\n",
        "all_products = [mol[0] for mol in sanitized_products]  # 단일 리스트 형태로 변환\n",
        "print(all_products)\n",
        "Draw.MolsToGridImage(all_products)\n",
        "\n",
        "# 사실 1번과 3번 화합물은 구조적으로 동일하다."
      ]
    },
    {
      "cell_type": "code",
      "execution_count": 20,
      "id": "8c0aee80-1da2-4ce2-b58f-8a5a3765ba23",
      "metadata": {
        "id": "8c0aee80-1da2-4ce2-b58f-8a5a3765ba23",
        "colab": {
          "base_uri": "https://localhost:8080/",
          "height": 253
        },
        "outputId": "d52304b3-5561-4f82-d47e-c3a282c8ec44"
      },
      "outputs": [
        {
          "output_type": "stream",
          "name": "stdout",
          "text": [
            "{'O=C(CO)CO', 'O=CC(O)CO'}\n",
            "[<rdkit.Chem.rdchem.Mol object at 0x7f9b00f54e70>, <rdkit.Chem.rdchem.Mol object at 0x7f9b00f54f90>]\n"
          ]
        },
        {
          "output_type": "execute_result",
          "data": {
            "text/plain": [
              "<PIL.PngImagePlugin.PngImageFile image mode=RGB size=600x200 at 0x7F9B00F2BA50>"
            ],
            "image/png": "[encoded data removed]"
          },
          "metadata": {},
          "execution_count": 20
        }
      ],
      "source": [
        "# 동일한 물질은 중복 제거하기 위해 set 과 SMILES 포맷을 활용\n",
        "\n",
        "glycerol_unique_products = []  # unique MOL을 모으기 위한 리스트\n",
        "glycerol_product_smiles = set()  # SMILES 중복을 확인하기 위한 set\n",
        "for mol in all_products:\n",
        "    smi = Chem.MolToSmiles(mol)\n",
        "    if smi in glycerol_product_smiles:  # 중복일 경우 추가하지 않음\n",
        "        continue\n",
        "    glycerol_product_smiles.add(smi)\n",
        "    glycerol_unique_products.append(mol)\n",
        "print(glycerol_product_smiles)\n",
        "print(glycerol_unique_products)\n",
        "Draw.MolsToGridImage(glycerol_unique_products)"
      ]
    },
    {
      "cell_type": "markdown",
      "id": "8db711e4-ae13-4316-a64f-c970a40eaf0d",
      "metadata": {
        "id": "8db711e4-ae13-4316-a64f-c970a40eaf0d"
      },
      "source": [
        "# 여러 화합물 동시에 시뮬레이션 하기"
      ]
    },
    {
      "cell_type": "code",
      "execution_count": 23,
      "id": "63ab634d-efa5-43a9-b09b-6e6bf0772e54",
      "metadata": {
        "id": "63ab634d-efa5-43a9-b09b-6e6bf0772e54"
      },
      "outputs": [],
      "source": [
        "# 위 합성에서 조건을 좀 더 구체적으로 명시해 보자.\n",
        "# Aliphatic carbon에 Hyrogen 이 붙은 경우에만 합성.\n",
        "\n",
        "rxn_2 = AllChem.ReactionFromSmarts('[CH:1][O:2]>>[C:1]=[O:2]')"
      ]
    },
    {
      "cell_type": "code",
      "execution_count": 27,
      "id": "9351fb3f-90e1-400d-ab3c-dde26a6ed2bb",
      "metadata": {
        "id": "9351fb3f-90e1-400d-ab3c-dde26a6ed2bb",
        "colab": {
          "base_uri": "https://localhost:8080/"
        },
        "outputId": "67f54912-c3f1-492e-e842-0133add9b23e"
      },
      "outputs": [
        {
          "output_type": "stream",
          "name": "stdout",
          "text": [
            "{'ethanol': [], 'isopropanol': [[<rdkit.Chem.rdchem.Mol object at 0x7f9b00ea5450>]], 'phenol': [], 't_butanol': [], 'glycerol': [[<rdkit.Chem.rdchem.Mol object at 0x7f9b00ea5270>]]}\n"
          ]
        }
      ],
      "source": [
        "# 이번엔 모든 물질들에 대해 합성을 진행해 보자\n",
        "\n",
        "# 화합물 이름을 key로, MOL 을 value로 갖는 dictionary를 정의\n",
        "compound2mol = {\n",
        "    'ethanol': Chem.MolFromSmiles('CCO'),\n",
        "    'isopropanol': Chem.MolFromSmiles('CC(C)O'),\n",
        "    'phenol': Chem.MolFromSmiles('c1cccc(O)c1'),\n",
        "    't_butanol': Chem.MolFromSmiles('C(C)(C)(C)O'),\n",
        "    'glycerol': Chem.MolFromSmiles('OCC(O)CO'),\n",
        "}\n",
        "\n",
        "compound2products = dict()  # 결과물을 저장하기 위한 dictionary\n",
        "for compound in compound2mol:  # 각 화합물에 대한 합성 및 sanitization check\n",
        "    mol = compound2mol[compound]\n",
        "    sanitized_products = []\n",
        "\n",
        "    all_products = rxn_2.RunReactants((mol,))\n",
        "    for products in all_products:\n",
        "        try:\n",
        "            [Chem.SanitizeMol(mol) for mol in products]\n",
        "            sanitized_products.append(list(products))\n",
        "        except ValueError:\n",
        "            print(\"Sanitization failed\")\n",
        "\n",
        "    compound2products[compound] = sanitized_products\n",
        "\n",
        "print(compound2products)\n",
        "\n",
        "# 실제로 합성이 된 경우는 두 가지 물질 뿐이다"
      ]
    },
    {
      "cell_type": "code",
      "execution_count": 28,
      "id": "53ad9d08-281d-4c7c-b886-3c1feb62b852",
      "metadata": {
        "id": "53ad9d08-281d-4c7c-b886-3c1feb62b852",
        "colab": {
          "base_uri": "https://localhost:8080/",
          "height": 217
        },
        "outputId": "255058a5-07dd-4b74-92e3-b33948a7616f"
      },
      "outputs": [
        {
          "output_type": "execute_result",
          "data": {
            "text/plain": [
              "<PIL.PngImagePlugin.PngImageFile image mode=RGB size=600x200 at 0x7F9B00EFE610>"
            ],
            "image/png": "[encoded data removed]"
          },
          "metadata": {},
          "execution_count": 28
        }
      ],
      "source": [
        "# 가능한 모든 합성 결과물을 출력해 보자\n",
        "\n",
        "all_molecules = []\n",
        "unique_smiles = set()\n",
        "for compound in compound2products:\n",
        "    products = compound2products[compound]\n",
        "    if not products:  # skip if products are empty\n",
        "        continue\n",
        "\n",
        "    all_molecules += [mol[0] for mol in products]\n",
        "\n",
        "Draw.MolsToGridImage(all_molecules)"
      ]
    },
    {
      "cell_type": "markdown",
      "id": "2144b3c0-74e3-4e20-86bb-6907b290eb58",
      "metadata": {
        "id": "2144b3c0-74e3-4e20-86bb-6907b290eb58"
      },
      "source": [
        "# 합성 결과물이 여러 개 있는 경우"
      ]
    },
    {
      "cell_type": "code",
      "execution_count": 31,
      "id": "33cdee6a-6ba1-4968-9399-9d08c1d40e88",
      "metadata": {
        "id": "33cdee6a-6ba1-4968-9399-9d08c1d40e88",
        "colab": {
          "base_uri": "https://localhost:8080/"
        },
        "outputId": "ea1ba7ce-e665-40de-e3fe-57f76c5ac0db"
      },
      "outputs": [
        {
          "output_type": "stream",
          "name": "stdout",
          "text": [
            "{'ethanol': [[<rdkit.Chem.rdchem.Mol object at 0x7f9b0042d1b0>, <rdkit.Chem.rdchem.Mol object at 0x7f9b0042d210>]], 'isopropanol': [[<rdkit.Chem.rdchem.Mol object at 0x7f9b0042d2d0>, <rdkit.Chem.rdchem.Mol object at 0x7f9b0042d450>], [<rdkit.Chem.rdchem.Mol object at 0x7f9b0042d4b0>, <rdkit.Chem.rdchem.Mol object at 0x7f9b0042d510>]], 'phenol': [], 't_butanol': [[<rdkit.Chem.rdchem.Mol object at 0x7f9b0042d570>, <rdkit.Chem.rdchem.Mol object at 0x7f9b0042d5d0>], [<rdkit.Chem.rdchem.Mol object at 0x7f9b0042d630>, <rdkit.Chem.rdchem.Mol object at 0x7f9b0042d690>], [<rdkit.Chem.rdchem.Mol object at 0x7f9b0042d6f0>, <rdkit.Chem.rdchem.Mol object at 0x7f9b0042d750>]], 'glycerol': [[<rdkit.Chem.rdchem.Mol object at 0x7f9b0042d7b0>, <rdkit.Chem.rdchem.Mol object at 0x7f9b0042d810>], [<rdkit.Chem.rdchem.Mol object at 0x7f9b0042d870>, <rdkit.Chem.rdchem.Mol object at 0x7f9b0042d8d0>], [<rdkit.Chem.rdchem.Mol object at 0x7f9b0042d930>, <rdkit.Chem.rdchem.Mol object at 0x7f9b0042d990>], [<rdkit.Chem.rdchem.Mol object at 0x7f9b0042d9f0>, <rdkit.Chem.rdchem.Mol object at 0x7f9b0042da50>]]}\n"
          ]
        }
      ],
      "source": [
        "# 다음 SMART는 물질에서 탈수합성을 하는 과정을 나타낸다.\n",
        "# 서로 다른 물질은 '.' 으로 구분. '>>' 후에 출력되는 물질은 2개\n",
        "water_elimination_smarts = '[C!H0:1][C:2][O:3]>>[C:1]=[C:2].[O:3]'\n",
        "water_elimination = AllChem.ReactionFromSmarts(water_elimination_smarts)\n",
        "\n",
        "compound2products_we = dict()  # 결과물을 저장하기 위한 dictionary\n",
        "for compound in compound2mol:  # 각 화합물에 대한 합성 및 sanitization check\n",
        "    mol = compound2mol[compound]\n",
        "    sanitized_products = []\n",
        "\n",
        "    all_products = water_elimination.RunReactants((mol,))\n",
        "    for products in all_products:\n",
        "        try:\n",
        "            [Chem.SanitizeMol(mol) for mol in products]\n",
        "            sanitized_products.append(list(products))\n",
        "        except ValueError:\n",
        "            print(\"Sanitization failed\")\n",
        "\n",
        "    compound2products_we[compound] = sanitized_products #2. 어떤 변수가 입력되어야 하는가?\n",
        "\n",
        "print(compound2products_we)"
      ]
    },
    {
      "cell_type": "code",
      "execution_count": 32,
      "id": "250a210a-9bfd-4eed-84e6-706af485d8b8",
      "metadata": {
        "id": "250a210a-9bfd-4eed-84e6-706af485d8b8",
        "colab": {
          "base_uri": "https://localhost:8080/",
          "height": 217
        },
        "outputId": "e3b31bfc-43ba-41c0-bbf1-4fd5f96140b2"
      },
      "outputs": [
        {
          "output_type": "execute_result",
          "data": {
            "text/plain": [
              "<PIL.PngImagePlugin.PngImageFile image mode=RGB size=400x200 at 0x7F9B003B0590>"
            ],
            "image/png": "[encoded data removed]"
          },
          "metadata": {},
          "execution_count": 32
        }
      ],
      "source": [
        "# ethanol의 결과\n",
        "output_products = []\n",
        "for outputs in compound2products_we['ethanol']:\n",
        "    output_products += outputs\n",
        "\n",
        "Draw.MolsToGridImage(output_products, molsPerRow=2)"
      ]
    },
    {
      "cell_type": "code",
      "execution_count": 33,
      "id": "bdb167af-ae3c-4533-8601-0d5032499068",
      "metadata": {
        "id": "bdb167af-ae3c-4533-8601-0d5032499068",
        "colab": {
          "base_uri": "https://localhost:8080/",
          "height": 417
        },
        "outputId": "92ec9644-24e0-4b6c-b18c-c86831edf4fd"
      },
      "outputs": [
        {
          "output_type": "execute_result",
          "data": {
            "text/plain": [
              "<PIL.PngImagePlugin.PngImageFile image mode=RGB size=400x400 at 0x7F9B003B8550>"
            ],
            "image/png": "[encoded data removed]"
          },
          "metadata": {},
          "execution_count": 33
        }
      ],
      "source": [
        "# isopropanol의 결과\n",
        "output_products = []\n",
        "for outputs in compound2products_we['isopropanol']:\n",
        "    output_products += outputs\n",
        "Draw.MolsToGridImage(output_products, molsPerRow=2)"
      ]
    },
    {
      "cell_type": "code",
      "execution_count": 34,
      "id": "d5537397-5d6c-4211-8a0a-c91ad104467b",
      "metadata": {
        "id": "d5537397-5d6c-4211-8a0a-c91ad104467b",
        "colab": {
          "base_uri": "https://localhost:8080/",
          "height": 617
        },
        "outputId": "e82dd8c7-7841-4b93-8d9b-63f119f3100a"
      },
      "outputs": [
        {
          "output_type": "execute_result",
          "data": {
            "text/plain": [
              "<PIL.PngImagePlugin.PngImageFile image mode=RGB size=400x600 at 0x7F9B003B8C90>"
            ],
            "image/png": "[encoded data removed]"
          },
          "metadata": {},
          "execution_count": 34
        }
      ],
      "source": [
        "# t_butanol 의 결과\n",
        "output_products = []\n",
        "for outputs in compound2products_we['t_butanol']:\n",
        "    output_products += outputs\n",
        "Draw.MolsToGridImage(output_products, molsPerRow=2)"
      ]
    },
    {
      "cell_type": "markdown",
      "id": "ceceec7c-7401-46bd-9c5c-5ba79dcb636d",
      "metadata": {
        "id": "ceceec7c-7401-46bd-9c5c-5ba79dcb636d"
      },
      "source": [
        "### Quiz: 합성 결과물이 여럿일 경우 중복 제거를 해보자\n",
        "### Hint: SMILES 변환 이용"
      ]
    },
    {
      "cell_type": "code",
      "execution_count": 35,
      "id": "1f4f928e",
      "metadata": {
        "id": "1f4f928e",
        "colab": {
          "base_uri": "https://localhost:8080/"
        },
        "outputId": "a6de0e3c-fd72-451d-b114-579cf432fa97"
      },
      "outputs": [
        {
          "output_type": "stream",
          "name": "stdout",
          "text": [
            "[[<rdkit.Chem.rdchem.Mol object at 0x7f9b0042d570>, <rdkit.Chem.rdchem.Mol object at 0x7f9b0042d5d0>], [<rdkit.Chem.rdchem.Mol object at 0x7f9b0042d630>, <rdkit.Chem.rdchem.Mol object at 0x7f9b0042d690>], [<rdkit.Chem.rdchem.Mol object at 0x7f9b0042d6f0>, <rdkit.Chem.rdchem.Mol object at 0x7f9b0042d750>]]\n"
          ]
        }
      ],
      "source": [
        "print(compound2products_we['t_butanol'])"
      ]
    },
    {
      "cell_type": "code",
      "execution_count": 51,
      "id": "181af9d6",
      "metadata": {
        "id": "181af9d6",
        "colab": {
          "base_uri": "https://localhost:8080/",
          "height": 217
        },
        "outputId": "67eefc04-c391-4171-fd82-586803546d16"
      },
      "outputs": [
        {
          "output_type": "execute_result",
          "data": {
            "text/plain": [
              "<PIL.PngImagePlugin.PngImageFile image mode=RGB size=400x200 at 0x7F9AF7BE3BD0>"
            ],
            "image/png": "[encoded data removed]"
          },
          "metadata": {},
          "execution_count": 51
        }
      ],
      "source": [
        "unique_products = []  # unique MOL을 모으기 위한 리스트\n",
        "unique_smiles = set()  # smiles 코드가 unique 한지 체크하기 위한 set\n",
        "\n",
        "#단일리스트로 변환 해주기\n",
        "all_products = [mol[0] for mol in compound2products_we['t_butanol']]\n",
        "\n",
        "for mol in all_products:\n",
        "    # Quiz: fill out this area\n",
        "    smi = Chem.MolToSmiles(mol)\n",
        "    if smi in unique_smiles:  # 중복일 경우 추가하지 않음\n",
        "        continue\n",
        "    unique_smiles.add(smi)\n",
        "    unique_products.append(mol)\n",
        "\n",
        "Draw.MolsToGridImage(unique_products, molsPerRow=2)"
      ]
    },
    {
      "cell_type": "code",
      "source": [
        "compound2products_we['t_butanol']"
      ],
      "metadata": {
        "colab": {
          "base_uri": "https://localhost:8080/"
        },
        "id": "P8gcZR2jz1Gk",
        "outputId": "d30fb30a-9491-4928-e229-82943478c319"
      },
      "id": "P8gcZR2jz1Gk",
      "execution_count": 52,
      "outputs": [
        {
          "output_type": "execute_result",
          "data": {
            "text/plain": [
              "[[<rdkit.Chem.rdchem.Mol at 0x7f9b0042d570>,\n",
              "  <rdkit.Chem.rdchem.Mol at 0x7f9b0042d5d0>],\n",
              " [<rdkit.Chem.rdchem.Mol at 0x7f9b0042d630>,\n",
              "  <rdkit.Chem.rdchem.Mol at 0x7f9b0042d690>],\n",
              " [<rdkit.Chem.rdchem.Mol at 0x7f9b0042d6f0>,\n",
              "  <rdkit.Chem.rdchem.Mol at 0x7f9b0042d750>]]"
            ]
          },
          "metadata": {},
          "execution_count": 52
        }
      ]
    },
    {
      "cell_type": "markdown",
      "id": "18f630de-aaae-424a-b38b-f4400b8e0731",
      "metadata": {
        "id": "18f630de-aaae-424a-b38b-f4400b8e0731"
      },
      "source": [
        "# 여러 화합물을 입력받는 경우"
      ]
    },
    {
      "cell_type": "code",
      "execution_count": 54,
      "id": "83a0cbfd-6fb7-446d-a84f-ba7908797ab3",
      "metadata": {
        "id": "83a0cbfd-6fb7-446d-a84f-ba7908797ab3",
        "colab": {
          "base_uri": "https://localhost:8080/",
          "height": 217
        },
        "outputId": "2b28fbbe-c670-4574-bf37-1319a4f28279"
      },
      "outputs": [
        {
          "output_type": "execute_result",
          "data": {
            "text/plain": [
              "<PIL.PngImagePlugin.PngImageFile image mode=RGB size=600x200 at 0x7F9AF81A55D0>"
            ],
            "image/png": "[encoded data removed]"
          },
          "metadata": {},
          "execution_count": 54
        }
      ],
      "source": [
        "thiourea = Chem.MolFromSmiles('CN(C)C(=S)N')\n",
        "haloketone = Chem.MolFromSmiles('c1ccccc1C(=O)C(C)Cl')\n",
        "\n",
        "# SMART의 '.' 은 물질의 구분은 나타낸다. '>>' 앞에서 입력된 물질은 2개\n",
        "rxn_smarts = '[NH2:1][C:2](=[S:3])[NH0:4].[C:5](=[O:6])[C:7][Cl:8]>>[N:4][c:2]1[s:3][c:5][c:7][n:1]1'\n",
        "rxn_4 = AllChem.ReactionFromSmarts(rxn_smarts)#3 SMART를 변환시켜 reaction template으로 만들어 보자\n",
        "\n",
        "product = rxn_4.RunReactants((thiourea, haloketone))[0][0]\n",
        "Chem.SanitizeMol(product)\n",
        "\n",
        "all_three = [thiourea, haloketone, product]\n",
        "compound_names = ['thiourea', 'haloketone', 'product']\n",
        "Draw.MolsToGridImage(all_three, legends=compound_names)"
      ]
    },
    {
      "cell_type": "code",
      "execution_count": 55,
      "id": "2313be1a-98d7-41e6-974c-d4c159a35a61",
      "metadata": {
        "id": "2313be1a-98d7-41e6-974c-d4c159a35a61",
        "colab": {
          "base_uri": "https://localhost:8080/"
        },
        "outputId": "005c5446-e9b0-439a-fc2d-0d8bd7be9b4e"
      },
      "outputs": [
        {
          "output_type": "stream",
          "name": "stdout",
          "text": [
            "()\n"
          ]
        }
      ],
      "source": [
        "# 입력 화합물은 합성식의 순서대로 입력되어야 한다.\n",
        "\n",
        "product = rxn_4.RunReactants((haloketone, thiourea))\n",
        "print(product)\n",
        "\n",
        "# thiourea과 haloketone의 순서가 바뀌면 결과물이 생성되지 않는다."
      ]
    }
  ],
  "metadata": {
    "kernelspec": {
      "display_name": "Python 3.7.9 64-bit",
      "language": "python",
      "name": "python3"
    },
    "language_info": {
      "codemirror_mode": {
        "name": "ipython",
        "version": 3
      },
      "file_extension": ".py",
      "mimetype": "text/x-python",
      "name": "python",
      "nbconvert_exporter": "python",
      "pygments_lexer": "ipython3",
      "version": "3.7.9"
    },
    "vscode": {
      "interpreter": {
        "hash": "aee8b7b246df8f9039afb4144a1f6fd8d2ca17a180786b69acc140d282b71a49"
      }
    },
    "colab": {
      "provenance": [],
      "collapsed_sections": [],
      "include_colab_link": true
    }
  },
  "nbformat": 4,
  "nbformat_minor": 5
}